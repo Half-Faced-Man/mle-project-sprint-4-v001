{
 "cells": [
  {
   "cell_type": "code",
   "execution_count": 1,
   "id": "7a139e5c",
   "metadata": {},
   "outputs": [],
   "source": [
    "# export $(cat .env | xargs)"
   ]
  },
  {
   "cell_type": "code",
   "execution_count": 2,
   "id": "cdef4a4f",
   "metadata": {},
   "outputs": [],
   "source": [
    "%reload_ext autoreload\n",
    "%autoreload 2"
   ]
  },
  {
   "cell_type": "code",
   "execution_count": 3,
   "id": "e68123c1",
   "metadata": {},
   "outputs": [
    {
     "name": "stdout",
     "output_type": "stream",
     "text": [
      "/home/mle-user/env_recsys_start/bin/python3.10\n"
     ]
    }
   ],
   "source": [
    "import sys\n",
    "print(sys.executable)"
   ]
  },
  {
   "cell_type": "markdown",
   "id": "f4095ae4-7294-4b28-853e-88d235002c97",
   "metadata": {},
   "source": [
    "# Инициализация"
   ]
  },
  {
   "cell_type": "markdown",
   "id": "2f2318d2-9df8-4911-915e-15b725c44f8a",
   "metadata": {},
   "source": [
    "Загружаем библиотеки необходимые для выполнения кода ноутбука."
   ]
  },
  {
   "cell_type": "code",
   "execution_count": 4,
   "id": "662d04e7-1b0b-4e4a-9ddf-4526d7fef119",
   "metadata": {},
   "outputs": [
    {
     "name": "stderr",
     "output_type": "stream",
     "text": [
      "/home/mle-user/env_recsys_start/lib/python3.10/site-packages/tqdm/auto.py:21: TqdmWarning: IProgress not found. Please update jupyter and ipywidgets. See https://ipywidgets.readthedocs.io/en/stable/user_install.html\n",
      "  from .autonotebook import tqdm as notebook_tqdm\n"
     ]
    }
   ],
   "source": [
    "import gc\n",
    "import os\n",
    "import boto3\n",
    "import joblib\n",
    "\n",
    "import pandas as pd\n",
    "import numpy as np\n",
    "import scipy\n",
    "from scipy import sparse\n",
    "import sklearn.preprocessing\n",
    "from implicit.als import AlternatingLeastSquares\n",
    "\n",
    "from catboost import CatBoostClassifier, Pool"
   ]
  },
  {
   "cell_type": "code",
   "execution_count": 5,
   "id": "79f56369",
   "metadata": {},
   "outputs": [
    {
     "data": {
      "text/plain": [
       "True"
      ]
     },
     "execution_count": 5,
     "metadata": {},
     "output_type": "execute_result"
    }
   ],
   "source": [
    "from dotenv import load_dotenv\n",
    "load_dotenv()"
   ]
  },
  {
   "cell_type": "code",
   "execution_count": 6,
   "id": "cd3f8849",
   "metadata": {},
   "outputs": [],
   "source": [
    "s3_endpoint_url = \"https://storage.yandexcloud.net\" \n",
    "aws_access_key_id = os.environ['AWS_ACCESS_KEY_ID']\n",
    "aws_secret_access_key = os.environ['AWS_SECRET_ACCESS_KEY']\n",
    "aws_bucket_name = os.environ['S3_BUCKET_NAME']\n",
    "\n",
    "s3_recsys_path = \"recsys/data/\""
   ]
  },
  {
   "cell_type": "code",
   "execution_count": 7,
   "id": "7aa113e7",
   "metadata": {},
   "outputs": [],
   "source": [
    "session = boto3.Session(\n",
    "    aws_access_key_id=aws_access_key_id,\n",
    "    aws_secret_access_key=aws_secret_access_key\n",
    ")\n",
    "s3_client = session.client('s3', endpoint_url = s3_endpoint_url)"
   ]
  },
  {
   "cell_type": "markdown",
   "id": "5263a8b3-fe99-4204-8a2e-105182792c11",
   "metadata": {},
   "source": [
    "# Загрузка первичных данных"
   ]
  },
  {
   "cell_type": "markdown",
   "id": "1b54a6a5-1656-4e3c-99d1-49dc39451d33",
   "metadata": {},
   "source": [
    "Загружаем первичные данные из файлов:\n",
    "- tracks.parquet\n",
    "- catalog_names.parquet\n",
    "- interactions.parquet"
   ]
  },
  {
   "cell_type": "code",
   "execution_count": 9,
   "id": "5d4b8961-3f35-4e58-9d6b-3e2dbd2c4224",
   "metadata": {},
   "outputs": [],
   "source": [
    "tracks = pd.read_parquet('tracks.parquet')\n",
    "catalog_names = pd.read_parquet('catalog_names.parquet')\n",
    "interactions = pd.read_parquet('interactions.parquet')"
   ]
  },
  {
   "cell_type": "markdown",
   "id": "24072745",
   "metadata": {},
   "source": [
    "Данные\n",
    "\n",
    "Данные находятся в трёх файлах.\n",
    "\n",
    "Данные о треках — в файле tracks.parquet:\n",
    "\n",
    "track_id — идентификатор музыкального трека;\n",
    "\n",
    "albums — список идентификаторов альбомов, содержащих трек;\n",
    "\n",
    "artists — список идентификаторов исполнителей трека;\n",
    "\n",
    "genres — список идентификаторов жанров, к которым принадлежит трек.\n",
    "\n"
   ]
  },
  {
   "cell_type": "markdown",
   "id": "f6bf13d7",
   "metadata": {},
   "source": [
    "\n",
    "Имена артистов, названия альбомов, треков и жанров — в файле catalog_names.parquet:\n",
    "\n",
    "id — идентификатор одной из каталожных единиц (трека, альбома, исполнителя, жанра);\n",
    "\n",
    "type — тип идентификатора;\n",
    "\n",
    "name — имя (название) каталожной единицы.\n",
    "\n",
    "\n"
   ]
  },
  {
   "cell_type": "markdown",
   "id": "e52e28a1",
   "metadata": {},
   "source": [
    "Данные о том, какие пользователи прослушали тот или иной трек, — в файле interactions.parquet :\n",
    "\n",
    "user_id — идентификатор пользователя,\n",
    "\n",
    "track_id — идентификатор музыкального трека,\n",
    "\n",
    "track_seq — номер места трека в истории пользователя,\n",
    "\n",
    "started_at — дата начала прослушивания трека."
   ]
  },
  {
   "cell_type": "markdown",
   "id": "e8f2a1f7-a05f-4f39-af90-5f4018aa6f9d",
   "metadata": {},
   "source": [
    "# Обзор данных"
   ]
  },
  {
   "cell_type": "markdown",
   "id": "46a85307-896c-4fac-9fcf-f0dffa90889e",
   "metadata": {},
   "source": [
    "Проверяем данные, есть ли с ними явные проблемы."
   ]
  },
  {
   "cell_type": "code",
   "execution_count": 10,
   "id": "5d12c53b",
   "metadata": {},
   "outputs": [],
   "source": [
    "# Нужно ли изменить тип идентификаторов?"
   ]
  },
  {
   "cell_type": "code",
   "execution_count": 11,
   "id": "878a2a0b",
   "metadata": {},
   "outputs": [
    {
     "name": "stdout",
     "output_type": "stream",
     "text": [
      "track_id     int64\n",
      "albums      object\n",
      "artists     object\n",
      "genres      object\n",
      "dtype: object\n",
      "id       int64\n",
      "type    object\n",
      "name    object\n",
      "dtype: object\n",
      "user_id                int32\n",
      "track_id               int32\n",
      "track_seq              int16\n",
      "started_at    datetime64[ns]\n",
      "dtype: object\n"
     ]
    }
   ],
   "source": [
    "# типы данных\n",
    "print(tracks.dtypes)\n",
    "print(catalog_names.dtypes)\n",
    "print(interactions.dtypes)"
   ]
  },
  {
   "cell_type": "code",
   "execution_count": 12,
   "id": "0bf8d2b1",
   "metadata": {},
   "outputs": [
    {
     "name": "stdout",
     "output_type": "stream",
     "text": [
      "1000000\n",
      "1000000\n",
      "1000000\n",
      "1000000\n"
     ]
    }
   ],
   "source": [
    "# типы track_id из разных таблиц сatalog track interactions\n",
    "tracks_in_catalog = set(catalog_names[catalog_names['type'] == 'track']['id'])\n",
    "tracks_in_tracks = set(tracks['track_id'])\n",
    "tracks_in_interactions = set(interactions['track_id'])\n",
    "\n",
    "print(len(tracks_in_catalog))\n",
    "print(len(tracks_in_tracks))\n",
    "print(len(tracks_in_interactions))\n",
    "\n",
    "print(len(tracks_in_catalog.union(tracks_in_tracks).union(tracks_in_interactions)))\n",
    "\n",
    "# такие ID отсутствуют\n",
    "# так объединение всех источников с track_id совпадает с исходным количеством уникальных track_id в отедльных источниках\n",
    "# то\n",
    "# 1 все track_id одинаковые во всех таблицах\n",
    "# 2 все типы track_id одинаковые"
   ]
  },
  {
   "cell_type": "code",
   "execution_count": 13,
   "id": "87f48a72",
   "metadata": {},
   "outputs": [
    {
     "name": "stdout",
     "output_type": "stream",
     "text": [
      "658724\n",
      "658724\n",
      "658724\n"
     ]
    }
   ],
   "source": [
    "albums_in_tracks = set()\n",
    "for list_alb in tracks['albums']:\n",
    "    albums_in_tracks.update(list_alb)\n",
    "\n",
    "albums_in_catalog = set(catalog_names[catalog_names['type'] == 'album']['id'])\n",
    "\n",
    "print(len(albums_in_tracks))\n",
    "print(len(albums_in_catalog))\n",
    "\n",
    "print(len(albums_in_tracks.union(albums_in_catalog)))\n",
    "\n",
    "# такие ID отсутствуют\n",
    "# так объединение всех источников с album_id совпадает с исходным количеством уникальных album_id в отедльных источниках\n",
    "# то\n",
    "# 1 все album_id одинаковые во всех таблицах\n",
    "# 2 все типы album_id одинаковые"
   ]
  },
  {
   "cell_type": "code",
   "execution_count": 14,
   "id": "b693eb15",
   "metadata": {},
   "outputs": [
    {
     "name": "stdout",
     "output_type": "stream",
     "text": [
      "153581\n",
      "153581\n",
      "153581\n"
     ]
    }
   ],
   "source": [
    "artists_in_tracks = set()\n",
    "for list_art in tracks['artists']:\n",
    "    artists_in_tracks.update(list_art)\n",
    "\n",
    "artists_in_catalog = set(catalog_names[catalog_names['type'] == 'artist']['id'])\n",
    "\n",
    "print(len(artists_in_tracks))\n",
    "print(len(artists_in_catalog))\n",
    "\n",
    "print(len(artists_in_tracks.union(artists_in_catalog)))\n",
    "\n",
    "# такие ID отсутствуют\n",
    "# так объединение всех источников с artist_id совпадает с исходным количеством уникальных artist_id в отедльных источниках\n",
    "# то\n",
    "# 1 все artist_id одинаковые во всех таблицах\n",
    "# 2 все типы artist_id одинаковые"
   ]
  },
  {
   "cell_type": "code",
   "execution_count": 15,
   "id": "a77bb92a",
   "metadata": {},
   "outputs": [
    {
     "name": "stdout",
     "output_type": "stream",
     "text": [
      "173\n",
      "166\n",
      "196\n",
      "{'int64'}\n",
      "{'int'}\n"
     ]
    }
   ],
   "source": [
    "genres_in_tracks = set()\n",
    "for list_gen in tracks['genres']:\n",
    "    genres_in_tracks.update(list_gen)\n",
    "\n",
    "genres_in_catalog = set(catalog_names[catalog_names['type'] == 'genre']['id'])\n",
    "\n",
    "print(len(genres_in_tracks))\n",
    "print(len(genres_in_catalog))\n",
    "\n",
    "print(len(genres_in_tracks.union(genres_in_catalog)))\n",
    "\n",
    "# так объединение всех источников с genre_id не совпадает с исходным количеством уникальных genre_id в отедльных источниках\n",
    "print({type(item).__name__ for item in genres_in_tracks})\n",
    "print({type(item).__name__ for item in genres_in_catalog})\n",
    "# типы совпадают"
   ]
  },
  {
   "cell_type": "code",
   "execution_count": 16,
   "id": "c45b41ef",
   "metadata": {},
   "outputs": [],
   "source": [
    "# Есть ли треки с неизвестными исполнителями, альбомами, жанрами?"
   ]
  },
  {
   "cell_type": "code",
   "execution_count": 17,
   "id": "8f03308c",
   "metadata": {},
   "outputs": [
    {
     "name": "stdout",
     "output_type": "stream",
     "text": [
      "кол-во треков без альбома =  (18, 4)\n",
      "кол-во треков без артиста =  (15369, 4)\n",
      "кол-во треков без жанра =  (3687, 4)\n"
     ]
    }
   ],
   "source": [
    "print('кол-во треков без альбома = ',  tracks[ tracks.albums.apply(lambda x : len(x)) == 0 ].shape ) \n",
    "print('кол-во треков без артиста = ', tracks[ tracks.artists.apply(lambda x : len(x)) == 0 ].shape )\n",
    "print('кол-во треков без жанра = ', tracks[ tracks.genres.apply(lambda x : len(x)) == 0 ].shape )"
   ]
  },
  {
   "cell_type": "markdown",
   "id": "318b573a-9e2d-4808-95db-60cfb8bbdb73",
   "metadata": {
    "editable": true,
    "slideshow": {
     "slide_type": ""
    },
    "tags": []
   },
   "source": [
    "# Выводы"
   ]
  },
  {
   "cell_type": "markdown",
   "id": "caa96e12-36a8-4401-8f11-98627a49ae9d",
   "metadata": {},
   "source": [
    "Приведём выводы по первому знакомству с данными:\n",
    "- есть ли с данными явные проблемы,\n",
    "- какие корректирующие действия (в целом) были предприняты."
   ]
  },
  {
   "cell_type": "code",
   "execution_count": 18,
   "id": "f58cd010-c2fa-475f-b7e9-767965cd4f55",
   "metadata": {},
   "outputs": [],
   "source": [
    "# количество уникальных жанров а таблице tracks не совпадает с уникальным количеством в catalog_names. Пока с этим ничего не будем делать\n",
    "# есть треки без альбомов, артиство и без жанров. Пока с этим тоже ничего не будем делать"
   ]
  },
  {
   "cell_type": "markdown",
   "id": "7bc3296b-eba6-4333-a78d-b9304aa87e3d",
   "metadata": {},
   "source": [
    "# === ЭТАП 2 ==="
   ]
  },
  {
   "cell_type": "markdown",
   "id": "68e73960-fd38-4e15-8db0-9a25c35dfd25",
   "metadata": {},
   "source": [
    "# EDA"
   ]
  },
  {
   "cell_type": "markdown",
   "id": "a30e823e-8e0f-4a76-a02e-8d1ba8bf0f8a",
   "metadata": {},
   "source": [
    "Распределение количества прослушанных треков."
   ]
  },
  {
   "cell_type": "code",
   "execution_count": 19,
   "id": "9bf5eaba-35f7-4da7-be59-9ab4a34b2423",
   "metadata": {},
   "outputs": [
    {
     "data": {
      "text/plain": [
       "<Axes: xlabel='id трека', ylabel='кол-во прослушиваний'>"
      ]
     },
     "execution_count": 19,
     "metadata": {},
     "output_type": "execute_result"
    },
    {
     "data": {
      "image/png": "[encoded data removed]",
      "text/plain": [
       "<Figure size 640x480 with 1 Axes>"
      ]
     },
     "metadata": {},
     "output_type": "display_data"
    }
   ],
   "source": [
    "interactions['track_id'].value_counts().plot.hist(bins = 100 , xlabel = 'id трека', ylabel = 'кол-во прослушиваний')"
   ]
  },
  {
   "cell_type": "markdown",
   "id": "d765519a-18dd-4d30-9e29-cc2d84cacd79",
   "metadata": {},
   "source": [
    "Наиболее популярные треки"
   ]
  },
  {
   "cell_type": "code",
   "execution_count": 20,
   "id": "aecaf630-fde0-4860-b84a-42c933a9606e",
   "metadata": {},
   "outputs": [
    {
     "data": {
      "application/vnd.microsoft.datawrangler.viewer.v0+json": {
       "columns": [
        {
         "name": "index",
         "rawType": "int64",
         "type": "integer"
        },
        {
         "name": "track_id",
         "rawType": "int32",
         "type": "integer"
        },
        {
         "name": "count",
         "rawType": "int64",
         "type": "integer"
        },
        {
         "name": "id",
         "rawType": "int64",
         "type": "integer"
        },
        {
         "name": "type",
         "rawType": "object",
         "type": "string"
        },
        {
         "name": "name",
         "rawType": "object",
         "type": "string"
        }
       ],
       "ref": "c3433675-1a8c-4a25-a229-92a3a0b12d59",
       "rows": [
        [
         "0",
         "53404",
         "111062",
         "53404",
         "track",
         "Smells Like Teen Spirit"
        ],
        [
         "1",
         "33311009",
         "106921",
         "33311009",
         "track",
         "Believer"
        ],
        [
         "2",
         "178529",
         "101924",
         "178529",
         "track",
         "Numb"
        ],
        [
         "3",
         "35505245",
         "99490",
         "35505245",
         "track",
         "I Got Love"
        ],
        [
         "4",
         "65851540",
         "86670",
         "65851540",
         "track",
         "Юность"
        ],
        [
         "5",
         "24692821",
         "86246",
         "24692821",
         "track",
         "Way Down We Go"
        ],
        [
         "6",
         "32947997",
         "85886",
         "32947997",
         "track",
         "Shape of You"
        ],
        [
         "7",
         "51241318",
         "85244",
         "51241318",
         "track",
         "In The End"
        ],
        [
         "8",
         "795836",
         "85042",
         "795836",
         "track",
         "Shape Of My Heart"
        ],
        [
         "9",
         "45499814",
         "84748",
         "45499814",
         "track",
         "Life"
        ],
        [
         "10",
         "60292250",
         "84471",
         "60292250",
         "track",
         "Blinding Lights"
        ],
        [
         "11",
         "6705392",
         "82483",
         "6705392",
         "track",
         "Seven Nation Army"
        ],
        [
         "12",
         "39257277",
         "81978",
         "39257277",
         "track",
         "In My Mind"
        ],
        [
         "13",
         "29544272",
         "81057",
         "29544272",
         "track",
         "Human"
        ],
        [
         "14",
         "37384",
         "80153",
         "37384",
         "track",
         "Zombie"
        ],
        [
         "15",
         "51516485",
         "78370",
         "51516485",
         "track",
         "bad guy"
        ],
        [
         "16",
         "2758009",
         "78181",
         "2758009",
         "track",
         "The Show Must Go On"
        ],
        [
         "17",
         "47627256",
         "76052",
         "47627256",
         "track",
         "Cradles"
        ],
        [
         "18",
         "328683",
         "75686",
         "328683",
         "track",
         "Bring Me To Life"
        ],
        [
         "19",
         "57921154",
         "74733",
         "57921154",
         "track",
         "Комета"
        ],
        [
         "20",
         "17079396",
         "74682",
         "17079396",
         "track",
         "Take Me To Church"
        ],
        [
         "21",
         "49961817",
         "74637",
         "49961817",
         "track",
         "Грустный дэнс"
        ],
        [
         "22",
         "54798445",
         "74019",
         "54798445",
         "track",
         "Прятки"
        ],
        [
         "23",
         "56204557",
         "73426",
         "56204557",
         "track",
         "Dance Monkey"
        ],
        [
         "24",
         "50685843",
         "71886",
         "50685843",
         "track",
         "Кукла колдуна"
        ],
        [
         "25",
         "34976783",
         "71335",
         "34976783",
         "track",
         "Thunder"
        ],
        [
         "26",
         "18385776",
         "71265",
         "18385776",
         "track",
         "Freaks"
        ],
        [
         "27",
         "23559960",
         "71110",
         "23559960",
         "track",
         "Stressed Out"
        ],
        [
         "28",
         "43942453",
         "70478",
         "43942453",
         "track",
         "NBA"
        ],
        [
         "29",
         "29611476",
         "70330",
         "29611476",
         "track",
         "Heathens"
        ],
        [
         "30",
         "48951",
         "69980",
         "48951",
         "track",
         "It's My Life"
        ],
        [
         "31",
         "29569939",
         "69584",
         "29569939",
         "track",
         "Tuesday"
        ],
        [
         "32",
         "52380688",
         "69294",
         "52380688",
         "track",
         "Любимка"
        ],
        [
         "33",
         "39946957",
         "68214",
         "39946957",
         "track",
         "Зелёные волны"
        ],
        [
         "34",
         "44184116",
         "67895",
         "44184116",
         "track",
         "Незабудка"
        ],
        [
         "35",
         "83063895",
         "67739",
         "83063895",
         "track",
         "Птичка"
        ],
        [
         "36",
         "78426489",
         "67239",
         "78426489",
         "track",
         "Rampampam"
        ],
        [
         "37",
         "81848875",
         "66839",
         "81848875",
         "track",
         "Федерико Феллини"
        ],
        [
         "38",
         "148345",
         "66133",
         "148345",
         "track",
         "Californication"
        ],
        [
         "39",
         "21519270",
         "65906",
         "21519270",
         "track",
         "Dancin"
        ],
        [
         "40",
         "17902234",
         "64131",
         "17902234",
         "track",
         "Prayer in C"
        ],
        [
         "41",
         "732401",
         "64005",
         "732401",
         "track",
         "ИСКАЛА"
        ],
        [
         "42",
         "48591706",
         "63943",
         "48591706",
         "track",
         "Сансара"
        ],
        [
         "43",
         "694683",
         "63353",
         "694683",
         "track",
         "Highway to Hell"
        ],
        [
         "44",
         "137670",
         "63235",
         "137670",
         "track",
         "Gangsta's Paradise"
        ],
        [
         "45",
         "76434671",
         "62921",
         "76434671",
         "track",
         "Горький вкус"
        ],
        [
         "46",
         "84382282",
         "61641",
         "84382282",
         "track",
         "Я в моменте"
        ],
        [
         "47",
         "39089632",
         "61442",
         "39089632",
         "track",
         "Выхода нет"
        ],
        [
         "48",
         "61565558",
         "61118",
         "61565558",
         "track",
         "Луна не знает пути"
        ],
        [
         "49",
         "55561798",
         "60462",
         "55561798",
         "track",
         "Аugust"
        ]
       ],
       "shape": {
        "columns": 5,
        "rows": 1000000
       }
      },
      "text/html": [
       "<div>\n",
       "<style scoped>\n",
       "    .dataframe tbody tr th:only-of-type {\n",
       "        vertical-align: middle;\n",
       "    }\n",
       "\n",
       "    .dataframe tbody tr th {\n",
       "        vertical-align: top;\n",
       "    }\n",
       "\n",
       "    .dataframe thead th {\n",
       "        text-align: right;\n",
       "    }\n",
       "</style>\n",
       "<table border=\"1\" class=\"dataframe\">\n",
       "  <thead>\n",
       "    <tr style=\"text-align: right;\">\n",
       "      <th></th>\n",
       "      <th>track_id</th>\n",
       "      <th>count</th>\n",
       "      <th>id</th>\n",
       "      <th>type</th>\n",
       "      <th>name</th>\n",
       "    </tr>\n",
       "  </thead>\n",
       "  <tbody>\n",
       "    <tr>\n",
       "      <th>0</th>\n",
       "      <td>53404</td>\n",
       "      <td>111062</td>\n",
       "      <td>53404</td>\n",
       "      <td>track</td>\n",
       "      <td>Smells Like Teen Spirit</td>\n",
       "    </tr>\n",
       "    <tr>\n",
       "      <th>1</th>\n",
       "      <td>33311009</td>\n",
       "      <td>106921</td>\n",
       "      <td>33311009</td>\n",
       "      <td>track</td>\n",
       "      <td>Believer</td>\n",
       "    </tr>\n",
       "    <tr>\n",
       "      <th>2</th>\n",
       "      <td>178529</td>\n",
       "      <td>101924</td>\n",
       "      <td>178529</td>\n",
       "      <td>track</td>\n",
       "      <td>Numb</td>\n",
       "    </tr>\n",
       "    <tr>\n",
       "      <th>3</th>\n",
       "      <td>35505245</td>\n",
       "      <td>99490</td>\n",
       "      <td>35505245</td>\n",
       "      <td>track</td>\n",
       "      <td>I Got Love</td>\n",
       "    </tr>\n",
       "    <tr>\n",
       "      <th>4</th>\n",
       "      <td>65851540</td>\n",
       "      <td>86670</td>\n",
       "      <td>65851540</td>\n",
       "      <td>track</td>\n",
       "      <td>Юность</td>\n",
       "    </tr>\n",
       "    <tr>\n",
       "      <th>...</th>\n",
       "      <td>...</td>\n",
       "      <td>...</td>\n",
       "      <td>...</td>\n",
       "      <td>...</td>\n",
       "      <td>...</td>\n",
       "    </tr>\n",
       "    <tr>\n",
       "      <th>999995</th>\n",
       "      <td>44212057</td>\n",
       "      <td>5</td>\n",
       "      <td>44212057</td>\n",
       "      <td>track</td>\n",
       "      <td>Good Life</td>\n",
       "    </tr>\n",
       "    <tr>\n",
       "      <th>999996</th>\n",
       "      <td>67688588</td>\n",
       "      <td>5</td>\n",
       "      <td>67688588</td>\n",
       "      <td>track</td>\n",
       "      <td>Насвай</td>\n",
       "    </tr>\n",
       "    <tr>\n",
       "      <th>999997</th>\n",
       "      <td>15626369</td>\n",
       "      <td>5</td>\n",
       "      <td>15626369</td>\n",
       "      <td>track</td>\n",
       "      <td>Qosbasar</td>\n",
       "    </tr>\n",
       "    <tr>\n",
       "      <th>999998</th>\n",
       "      <td>44125112</td>\n",
       "      <td>5</td>\n",
       "      <td>44125112</td>\n",
       "      <td>track</td>\n",
       "      <td>Cygnus X-1 Book II: Hemispheres</td>\n",
       "    </tr>\n",
       "    <tr>\n",
       "      <th>999999</th>\n",
       "      <td>16506242</td>\n",
       "      <td>5</td>\n",
       "      <td>16506242</td>\n",
       "      <td>track</td>\n",
       "      <td>Родился я в Одессе</td>\n",
       "    </tr>\n",
       "  </tbody>\n",
       "</table>\n",
       "<p>1000000 rows × 5 columns</p>\n",
       "</div>"
      ],
      "text/plain": [
       "        track_id   count        id   type                             name\n",
       "0          53404  111062     53404  track          Smells Like Teen Spirit\n",
       "1       33311009  106921  33311009  track                         Believer\n",
       "2         178529  101924    178529  track                             Numb\n",
       "3       35505245   99490  35505245  track                       I Got Love\n",
       "4       65851540   86670  65851540  track                           Юность\n",
       "...          ...     ...       ...    ...                              ...\n",
       "999995  44212057       5  44212057  track                        Good Life\n",
       "999996  67688588       5  67688588  track                           Насвай\n",
       "999997  15626369       5  15626369  track                         Qosbasar\n",
       "999998  44125112       5  44125112  track  Cygnus X-1 Book II: Hemispheres\n",
       "999999  16506242       5  16506242  track               Родился я в Одессе\n",
       "\n",
       "[1000000 rows x 5 columns]"
      ]
     },
     "execution_count": 20,
     "metadata": {},
     "output_type": "execute_result"
    }
   ],
   "source": [
    "interactions['track_id'].value_counts().reset_index().merge(catalog_names[catalog_names.type == 'track'], how = 'left', left_on = 'track_id', right_on = 'id')"
   ]
  },
  {
   "cell_type": "markdown",
   "id": "b1c32a5a-d3be-4f96-8dd9-f7860951020c",
   "metadata": {},
   "source": [
    "Наиболее популярные жанры"
   ]
  },
  {
   "cell_type": "code",
   "execution_count": 22,
   "id": "87a1dffd",
   "metadata": {},
   "outputs": [
    {
     "data": {
      "text/plain": [
       "0"
      ]
     },
     "execution_count": 22,
     "metadata": {},
     "output_type": "execute_result"
    }
   ],
   "source": [
    "pop_genres = tracks.explode('genres')[['track_id', 'genres']]\n",
    "gc.collect()"
   ]
  },
  {
   "cell_type": "code",
   "execution_count": 23,
   "id": "deb00c70",
   "metadata": {},
   "outputs": [
    {
     "data": {
      "text/plain": [
       "0"
      ]
     },
     "execution_count": 23,
     "metadata": {},
     "output_type": "execute_result"
    }
   ],
   "source": [
    "\n",
    "pop_genres = interactions[['track_id', 'user_id']].set_index('track_id').join( pop_genres.set_index('track_id') , how = 'left')\n",
    "gc.collect()"
   ]
  },
  {
   "cell_type": "code",
   "execution_count": 24,
   "id": "0ed12468",
   "metadata": {},
   "outputs": [],
   "source": [
    "pop_genres = pop_genres.reset_index()"
   ]
  },
  {
   "cell_type": "code",
   "execution_count": 26,
   "id": "5d8b1a5f",
   "metadata": {},
   "outputs": [
    {
     "data": {
      "text/plain": [
       "0"
      ]
     },
     "execution_count": 26,
     "metadata": {},
     "output_type": "execute_result"
    }
   ],
   "source": [
    "pop_genres = pop_genres.genres.value_counts().reset_index()\n",
    "gc.collect()\n",
    "pop_genres = pop_genres.merge(catalog_names[catalog_names.type == 'genre'], how = 'left', left_on = 'genres', right_on = 'id')\n",
    "gc.collect()"
   ]
  },
  {
   "cell_type": "code",
   "execution_count": 28,
   "id": "e6a7f53d",
   "metadata": {},
   "outputs": [
    {
     "data": {
      "application/vnd.microsoft.datawrangler.viewer.v0+json": {
       "columns": [
        {
         "name": "index",
         "rawType": "int64",
         "type": "integer"
        },
        {
         "name": "genres",
         "rawType": "int64",
         "type": "integer"
        },
        {
         "name": "count",
         "rawType": "int64",
         "type": "integer"
        },
        {
         "name": "id",
         "rawType": "float64",
         "type": "float"
        },
        {
         "name": "type",
         "rawType": "object",
         "type": "unknown"
        },
        {
         "name": "name",
         "rawType": "object",
         "type": "unknown"
        }
       ],
       "ref": "f27e01d0-8d0b-4e4f-9f10-80520b9e6e3d",
       "rows": [
        [
         "0",
         "11",
         "55578312",
         "11.0",
         "genre",
         "pop"
        ],
        [
         "1",
         "75",
         "37799821",
         "75.0",
         "genre",
         "rap"
        ],
        [
         "2",
         "102",
         "31092013",
         "102.0",
         "genre",
         "allrock"
        ],
        [
         "3",
         "20",
         "26626241",
         "20.0",
         "genre",
         "ruspop"
        ],
        [
         "4",
         "3",
         "25303695",
         "3.0",
         "genre",
         "rusrap"
        ],
        [
         "5",
         "68",
         "20120981",
         "68.0",
         "genre",
         "electronics"
        ],
        [
         "6",
         "16",
         "16291557",
         "16.0",
         "genre",
         "dance"
        ],
        [
         "7",
         "2",
         "13166147",
         "2.0",
         "genre",
         "rusrock"
        ],
        [
         "8",
         "14",
         "12772644",
         "14.0",
         "genre",
         "rock"
        ],
        [
         "9",
         "47",
         "12437375",
         "47.0",
         "genre",
         "metal"
        ],
        [
         "10",
         "44",
         "12194657",
         "44.0",
         "genre",
         "foreignrap"
        ],
        [
         "11",
         "13",
         "10111562",
         "13.0",
         "genre",
         "alternative"
        ],
        [
         "12",
         "70",
         "9993671",
         "70.0",
         "genre",
         "indie"
        ],
        [
         "13",
         "325",
         "6896593",
         "325.0",
         "genre",
         "estrada"
        ],
        [
         "14",
         "25",
         "5910628",
         "25.0",
         "genre",
         "soundtrack"
        ],
        [
         "15",
         "19",
         "4960458",
         "19.0",
         "genre",
         "rusestrada"
        ],
        [
         "16",
         "6",
         "4068270",
         "6.0",
         "genre",
         "local-indie"
        ],
        [
         "17",
         "21",
         "3969678",
         "21.0",
         "genre",
         "folk"
        ],
        [
         "18",
         "50",
         "3768826",
         "50.0",
         "genre",
         "punk"
        ],
        [
         "19",
         "74",
         "3287311",
         "74.0",
         "genre",
         "rnb"
        ],
        [
         "20",
         "101",
         "3079031",
         "101.0",
         "genre",
         "house"
        ],
        [
         "21",
         "161",
         "2898863",
         null,
         null,
         null
        ],
        [
         "22",
         "59",
         "2693989",
         "59.0",
         "genre",
         "hardrock"
        ],
        [
         "23",
         "69",
         "2609980",
         "69.0",
         "genre",
         "classicalmusic"
        ],
        [
         "24",
         "17",
         "2418916",
         "17.0",
         "genre",
         "films"
        ],
        [
         "25",
         "41",
         "2348047",
         "41.0",
         "genre",
         "numetal"
        ],
        [
         "26",
         "335",
         "2272802",
         "335.0",
         "genre",
         "relax"
        ],
        [
         "27",
         "12",
         "2221950",
         "12.0",
         "genre",
         "shanson"
        ],
        [
         "28",
         "112",
         "2001599",
         "112.0",
         "genre",
         "bard"
        ],
        [
         "29",
         "38",
         "1912599",
         "38.0",
         "genre",
         "classicmetal"
        ],
        [
         "30",
         "28",
         "1789437",
         "28.0",
         "genre",
         "jazz"
        ],
        [
         "31",
         "308",
         "1539165",
         "308.0",
         "genre",
         "industrial"
        ],
        [
         "32",
         "43",
         "1265287",
         "43.0",
         "genre",
         "epicmetal"
        ],
        [
         "33",
         "23",
         "1259748",
         "23.0",
         "genre",
         "classical"
        ],
        [
         "34",
         "55",
         "1244458",
         "55.0",
         "genre",
         "foreignbard"
        ],
        [
         "35",
         "86",
         "1187939",
         "86.0",
         "genre",
         "trance"
        ],
        [
         "36",
         "61",
         "1171271",
         "61.0",
         "genre",
         "soviet"
        ],
        [
         "37",
         "703",
         "1055920",
         "703.0",
         "genre",
         "modern"
        ],
        [
         "38",
         "332",
         "1031766",
         "332.0",
         "genre",
         "dnb"
        ],
        [
         "39",
         "154",
         "920662",
         null,
         null,
         null
        ],
        [
         "40",
         "60",
         "902517",
         "60.0",
         "genre",
         "kpop"
        ],
        [
         "41",
         "26",
         "839393",
         "26.0",
         "genre",
         "soul"
        ],
        [
         "42",
         "169",
         "832354",
         null,
         null,
         null
        ],
        [
         "43",
         "22",
         "811276",
         "22.0",
         "genre",
         "caucasian"
        ],
        [
         "44",
         "49",
         "793783",
         "49.0",
         "genre",
         "newage"
        ],
        [
         "45",
         "155",
         "790148",
         null,
         null,
         null
        ],
        [
         "46",
         "56",
         "785702",
         "56.0",
         "genre",
         "folkrock"
        ],
        [
         "47",
         "37",
         "777392",
         "37.0",
         "genre",
         "disco"
        ],
        [
         "48",
         "5",
         "774668",
         "5.0",
         "genre",
         "ukrrock"
        ],
        [
         "49",
         "138",
         "768967",
         "138.0",
         "genre",
         "latinfolk"
        ]
       ],
       "shape": {
        "columns": 5,
        "rows": 173
       }
      },
      "text/html": [
       "<div>\n",
       "<style scoped>\n",
       "    .dataframe tbody tr th:only-of-type {\n",
       "        vertical-align: middle;\n",
       "    }\n",
       "\n",
       "    .dataframe tbody tr th {\n",
       "        vertical-align: top;\n",
       "    }\n",
       "\n",
       "    .dataframe thead th {\n",
       "        text-align: right;\n",
       "    }\n",
       "</style>\n",
       "<table border=\"1\" class=\"dataframe\">\n",
       "  <thead>\n",
       "    <tr style=\"text-align: right;\">\n",
       "      <th></th>\n",
       "      <th>genres</th>\n",
       "      <th>count</th>\n",
       "      <th>id</th>\n",
       "      <th>type</th>\n",
       "      <th>name</th>\n",
       "    </tr>\n",
       "  </thead>\n",
       "  <tbody>\n",
       "    <tr>\n",
       "      <th>0</th>\n",
       "      <td>11</td>\n",
       "      <td>55578312</td>\n",
       "      <td>11.0</td>\n",
       "      <td>genre</td>\n",
       "      <td>pop</td>\n",
       "    </tr>\n",
       "    <tr>\n",
       "      <th>1</th>\n",
       "      <td>75</td>\n",
       "      <td>37799821</td>\n",
       "      <td>75.0</td>\n",
       "      <td>genre</td>\n",
       "      <td>rap</td>\n",
       "    </tr>\n",
       "    <tr>\n",
       "      <th>2</th>\n",
       "      <td>102</td>\n",
       "      <td>31092013</td>\n",
       "      <td>102.0</td>\n",
       "      <td>genre</td>\n",
       "      <td>allrock</td>\n",
       "    </tr>\n",
       "    <tr>\n",
       "      <th>3</th>\n",
       "      <td>20</td>\n",
       "      <td>26626241</td>\n",
       "      <td>20.0</td>\n",
       "      <td>genre</td>\n",
       "      <td>ruspop</td>\n",
       "    </tr>\n",
       "    <tr>\n",
       "      <th>4</th>\n",
       "      <td>3</td>\n",
       "      <td>25303695</td>\n",
       "      <td>3.0</td>\n",
       "      <td>genre</td>\n",
       "      <td>rusrap</td>\n",
       "    </tr>\n",
       "    <tr>\n",
       "      <th>...</th>\n",
       "      <td>...</td>\n",
       "      <td>...</td>\n",
       "      <td>...</td>\n",
       "      <td>...</td>\n",
       "      <td>...</td>\n",
       "    </tr>\n",
       "    <tr>\n",
       "      <th>168</th>\n",
       "      <td>166</td>\n",
       "      <td>207</td>\n",
       "      <td>NaN</td>\n",
       "      <td>NaN</td>\n",
       "      <td>NaN</td>\n",
       "    </tr>\n",
       "    <tr>\n",
       "      <th>169</th>\n",
       "      <td>106</td>\n",
       "      <td>61</td>\n",
       "      <td>106.0</td>\n",
       "      <td>genre</td>\n",
       "      <td>technologies</td>\n",
       "    </tr>\n",
       "    <tr>\n",
       "      <th>170</th>\n",
       "      <td>148</td>\n",
       "      <td>54</td>\n",
       "      <td>NaN</td>\n",
       "      <td>NaN</td>\n",
       "      <td>NaN</td>\n",
       "    </tr>\n",
       "    <tr>\n",
       "      <th>171</th>\n",
       "      <td>124</td>\n",
       "      <td>30</td>\n",
       "      <td>NaN</td>\n",
       "      <td>NaN</td>\n",
       "      <td>NaN</td>\n",
       "    </tr>\n",
       "    <tr>\n",
       "      <th>172</th>\n",
       "      <td>150</td>\n",
       "      <td>30</td>\n",
       "      <td>NaN</td>\n",
       "      <td>NaN</td>\n",
       "      <td>NaN</td>\n",
       "    </tr>\n",
       "  </tbody>\n",
       "</table>\n",
       "<p>173 rows × 5 columns</p>\n",
       "</div>"
      ],
      "text/plain": [
       "     genres     count     id   type          name\n",
       "0        11  55578312   11.0  genre           pop\n",
       "1        75  37799821   75.0  genre           rap\n",
       "2       102  31092013  102.0  genre       allrock\n",
       "3        20  26626241   20.0  genre        ruspop\n",
       "4         3  25303695    3.0  genre        rusrap\n",
       "..      ...       ...    ...    ...           ...\n",
       "168     166       207    NaN    NaN           NaN\n",
       "169     106        61  106.0  genre  technologies\n",
       "170     148        54    NaN    NaN           NaN\n",
       "171     124        30    NaN    NaN           NaN\n",
       "172     150        30    NaN    NaN           NaN\n",
       "\n",
       "[173 rows x 5 columns]"
      ]
     },
     "execution_count": 28,
     "metadata": {},
     "output_type": "execute_result"
    }
   ],
   "source": [
    "pop_genres"
   ]
  },
  {
   "cell_type": "markdown",
   "id": "15254e66-e80e-473b-ba24-abebea5ccac7",
   "metadata": {},
   "source": [
    "Треки, которые никто не прослушал"
   ]
  },
  {
   "cell_type": "code",
   "execution_count": 29,
   "id": "50bc50c6-2d83-4c7e-97fa-3e7627978438",
   "metadata": {},
   "outputs": [
    {
     "data": {
      "application/vnd.microsoft.datawrangler.viewer.v0+json": {
       "columns": [
        {
         "name": "index",
         "rawType": "int64",
         "type": "integer"
        },
        {
         "name": "track_id",
         "rawType": "int64",
         "type": "integer"
        },
        {
         "name": "albums",
         "rawType": "object",
         "type": "unknown"
        },
        {
         "name": "artists",
         "rawType": "object",
         "type": "unknown"
        },
        {
         "name": "genres",
         "rawType": "object",
         "type": "unknown"
        }
       ],
       "ref": "26e2b1df-17c7-41c0-812b-fc56d481fd34",
       "rows": [],
       "shape": {
        "columns": 4,
        "rows": 0
       }
      },
      "text/html": [
       "<div>\n",
       "<style scoped>\n",
       "    .dataframe tbody tr th:only-of-type {\n",
       "        vertical-align: middle;\n",
       "    }\n",
       "\n",
       "    .dataframe tbody tr th {\n",
       "        vertical-align: top;\n",
       "    }\n",
       "\n",
       "    .dataframe thead th {\n",
       "        text-align: right;\n",
       "    }\n",
       "</style>\n",
       "<table border=\"1\" class=\"dataframe\">\n",
       "  <thead>\n",
       "    <tr style=\"text-align: right;\">\n",
       "      <th></th>\n",
       "      <th>track_id</th>\n",
       "      <th>albums</th>\n",
       "      <th>artists</th>\n",
       "      <th>genres</th>\n",
       "    </tr>\n",
       "  </thead>\n",
       "  <tbody>\n",
       "  </tbody>\n",
       "</table>\n",
       "</div>"
      ],
      "text/plain": [
       "Empty DataFrame\n",
       "Columns: [track_id, albums, artists, genres]\n",
       "Index: []"
      ]
     },
     "execution_count": 29,
     "metadata": {},
     "output_type": "execute_result"
    }
   ],
   "source": [
    "tracks[~tracks.track_id.isin(interactions['track_id'])]\n",
    "# нет таких треков"
   ]
  },
  {
   "cell_type": "markdown",
   "id": "0d850a07-ef1e-462f-891a-1cf89f2e24ef",
   "metadata": {},
   "source": [
    "# Преобразование данных"
   ]
  },
  {
   "cell_type": "markdown",
   "id": "fabcf8d2-1192-4df5-b20b-fbb84689f57a",
   "metadata": {},
   "source": [
    "Преобразуем данные в формат, более пригодный для дальнейшего использования в расчётах рекомендаций."
   ]
  },
  {
   "cell_type": "code",
   "execution_count": null,
   "id": "20d602f1",
   "metadata": {},
   "outputs": [],
   "source": []
  },
  {
   "cell_type": "markdown",
   "id": "4d1be653-eed8-4fa0-a9c5-3811b080d71d",
   "metadata": {},
   "source": [
    "# Сохранение данных"
   ]
  },
  {
   "cell_type": "markdown",
   "id": "36f1314a-3af3-4faf-a0b1-3045173d1500",
   "metadata": {},
   "source": [
    "Сохраним данные в двух файлах в персональном S3-бакете по пути `recsys/data/`:\n",
    "- `items.parquet` — все данные о музыкальных треках,\n",
    "- `events.parquet` — все данные о взаимодействиях."
   ]
  },
  {
   "cell_type": "code",
   "execution_count": 30,
   "id": "360d9f9d",
   "metadata": {},
   "outputs": [],
   "source": [
    "# больше двух треков \n",
    "user_track_count = interactions[['user_id', 'track_id']].groupby('user_id').agg(nunique_track_id = ('track_id', 'nunique')).reset_index()\n",
    "user_track_count = user_track_count[user_track_count['nunique_track_id'] > 1]"
   ]
  },
  {
   "cell_type": "code",
   "execution_count": 31,
   "id": "77f0b4df",
   "metadata": {},
   "outputs": [],
   "source": [
    "interactions = interactions[interactions.user_id.isin(user_track_count.user_id)]"
   ]
  },
  {
   "cell_type": "code",
   "execution_count": 32,
   "id": "e3d226f1",
   "metadata": {},
   "outputs": [],
   "source": [
    "del interactions['track_seq']"
   ]
  },
  {
   "cell_type": "code",
   "execution_count": 33,
   "id": "78edd47c",
   "metadata": {},
   "outputs": [],
   "source": [
    "interactions = interactions.rename(columns = {'track_id': 'item_id'})\n",
    "tracks = tracks.rename(columns = {'track_id': 'item_id'})"
   ]
  },
  {
   "cell_type": "code",
   "execution_count": 34,
   "id": "9402deb7",
   "metadata": {},
   "outputs": [
    {
     "data": {
      "application/vnd.microsoft.datawrangler.viewer.v0+json": {
       "columns": [
        {
         "name": "index",
         "rawType": "int64",
         "type": "integer"
        },
        {
         "name": "user_id",
         "rawType": "int32",
         "type": "integer"
        },
        {
         "name": "item_id",
         "rawType": "int32",
         "type": "integer"
        },
        {
         "name": "started_at",
         "rawType": "datetime64[ns]",
         "type": "datetime"
        }
       ],
       "ref": "3cbd846d-210d-4d91-b479-94a47ef45999",
       "rows": [
        [
         "0",
         "0",
         "99262",
         "2022-07-17 00:00:00"
        ],
        [
         "1",
         "0",
         "589498",
         "2022-07-19 00:00:00"
        ],
        [
         "2",
         "0",
         "590262",
         "2022-07-21 00:00:00"
        ],
        [
         "3",
         "0",
         "590303",
         "2022-07-22 00:00:00"
        ],
        [
         "4",
         "0",
         "590692",
         "2022-07-22 00:00:00"
        ],
        [
         "5",
         "0",
         "590803",
         "2022-07-25 00:00:00"
        ],
        [
         "6",
         "0",
         "597196",
         "2022-07-25 00:00:00"
        ],
        [
         "7",
         "0",
         "597199",
         "2022-07-25 00:00:00"
        ],
        [
         "8",
         "0",
         "1750835",
         "2022-07-30 00:00:00"
        ],
        [
         "9",
         "0",
         "1750843",
         "2022-08-05 00:00:00"
        ],
        [
         "10",
         "0",
         "2212520",
         "2022-08-07 00:00:00"
        ],
        [
         "11",
         "0",
         "2212525",
         "2022-08-07 00:00:00"
        ],
        [
         "12",
         "0",
         "4095918",
         "2022-08-15 00:00:00"
        ],
        [
         "13",
         "0",
         "6045307",
         "2022-08-17 00:00:00"
        ],
        [
         "14",
         "0",
         "10327926",
         "2022-08-19 00:00:00"
        ],
        [
         "15",
         "0",
         "13902994",
         "2022-08-22 00:00:00"
        ],
        [
         "16",
         "0",
         "14370719",
         "2022-08-28 00:00:00"
        ],
        [
         "17",
         "0",
         "15362094",
         "2022-09-02 00:00:00"
        ],
        [
         "18",
         "0",
         "15769661",
         "2022-09-04 00:00:00"
        ],
        [
         "19",
         "0",
         "17802671",
         "2022-09-06 00:00:00"
        ],
        [
         "20",
         "0",
         "17802673",
         "2022-09-08 00:00:00"
        ],
        [
         "21",
         "0",
         "17802674",
         "2022-09-10 00:00:00"
        ],
        [
         "22",
         "0",
         "18042047",
         "2022-09-12 00:00:00"
        ],
        [
         "23",
         "0",
         "18102829",
         "2022-09-13 00:00:00"
        ],
        [
         "24",
         "0",
         "20232119",
         "2022-09-14 00:00:00"
        ],
        [
         "25",
         "0",
         "20497621",
         "2022-09-15 00:00:00"
        ],
        [
         "0",
         "1",
         "24417",
         "2022-06-11 00:00:00"
        ],
        [
         "1",
         "1",
         "108208",
         "2022-06-13 00:00:00"
        ],
        [
         "2",
         "1",
         "108209",
         "2022-06-13 00:00:00"
        ],
        [
         "3",
         "1",
         "592642",
         "2022-06-15 00:00:00"
        ],
        [
         "4",
         "1",
         "628687",
         "2022-06-15 00:00:00"
        ],
        [
         "5",
         "1",
         "733449",
         "2022-06-16 00:00:00"
        ],
        [
         "6",
         "1",
         "733739",
         "2022-06-17 00:00:00"
        ],
        [
         "7",
         "1",
         "24235170",
         "2022-06-20 00:00:00"
        ],
        [
         "8",
         "1",
         "25245633",
         "2022-06-21 00:00:00"
        ],
        [
         "9",
         "1",
         "25973492",
         "2022-06-24 00:00:00"
        ],
        [
         "10",
         "1",
         "25973493",
         "2022-06-25 00:00:00"
        ],
        [
         "11",
         "1",
         "28222115",
         "2022-06-26 00:00:00"
        ],
        [
         "12",
         "1",
         "31763491",
         "2022-06-26 00:00:00"
        ],
        [
         "13",
         "1",
         "32291816",
         "2022-07-01 00:00:00"
        ],
        [
         "14",
         "1",
         "34685697",
         "2022-07-03 00:00:00"
        ],
        [
         "15",
         "1",
         "34685698",
         "2022-07-05 00:00:00"
        ],
        [
         "16",
         "1",
         "34703879",
         "2022-07-06 00:00:00"
        ],
        [
         "17",
         "1",
         "37724401",
         "2022-07-06 00:00:00"
        ],
        [
         "18",
         "1",
         "38451027",
         "2022-07-09 00:00:00"
        ],
        [
         "19",
         "1",
         "39309368",
         "2022-07-10 00:00:00"
        ],
        [
         "20",
         "1",
         "39330719",
         "2022-07-11 00:00:00"
        ],
        [
         "21",
         "1",
         "39917020",
         "2022-07-14 00:00:00"
        ],
        [
         "22",
         "1",
         "41554596",
         "2022-07-14 00:00:00"
        ],
        [
         "23",
         "1",
         "43410123",
         "2022-07-15 00:00:00"
        ]
       ],
       "shape": {
        "columns": 3,
        "rows": 222629049
       }
      },
      "text/html": [
       "<div>\n",
       "<style scoped>\n",
       "    .dataframe tbody tr th:only-of-type {\n",
       "        vertical-align: middle;\n",
       "    }\n",
       "\n",
       "    .dataframe tbody tr th {\n",
       "        vertical-align: top;\n",
       "    }\n",
       "\n",
       "    .dataframe thead th {\n",
       "        text-align: right;\n",
       "    }\n",
       "</style>\n",
       "<table border=\"1\" class=\"dataframe\">\n",
       "  <thead>\n",
       "    <tr style=\"text-align: right;\">\n",
       "      <th></th>\n",
       "      <th>user_id</th>\n",
       "      <th>item_id</th>\n",
       "      <th>started_at</th>\n",
       "    </tr>\n",
       "  </thead>\n",
       "  <tbody>\n",
       "    <tr>\n",
       "      <th>0</th>\n",
       "      <td>0</td>\n",
       "      <td>99262</td>\n",
       "      <td>2022-07-17</td>\n",
       "    </tr>\n",
       "    <tr>\n",
       "      <th>1</th>\n",
       "      <td>0</td>\n",
       "      <td>589498</td>\n",
       "      <td>2022-07-19</td>\n",
       "    </tr>\n",
       "    <tr>\n",
       "      <th>2</th>\n",
       "      <td>0</td>\n",
       "      <td>590262</td>\n",
       "      <td>2022-07-21</td>\n",
       "    </tr>\n",
       "    <tr>\n",
       "      <th>3</th>\n",
       "      <td>0</td>\n",
       "      <td>590303</td>\n",
       "      <td>2022-07-22</td>\n",
       "    </tr>\n",
       "    <tr>\n",
       "      <th>4</th>\n",
       "      <td>0</td>\n",
       "      <td>590692</td>\n",
       "      <td>2022-07-22</td>\n",
       "    </tr>\n",
       "    <tr>\n",
       "      <th>...</th>\n",
       "      <td>...</td>\n",
       "      <td>...</td>\n",
       "      <td>...</td>\n",
       "    </tr>\n",
       "    <tr>\n",
       "      <th>287</th>\n",
       "      <td>1374582</td>\n",
       "      <td>95514767</td>\n",
       "      <td>2022-12-29</td>\n",
       "    </tr>\n",
       "    <tr>\n",
       "      <th>288</th>\n",
       "      <td>1374582</td>\n",
       "      <td>97220301</td>\n",
       "      <td>2022-12-29</td>\n",
       "    </tr>\n",
       "    <tr>\n",
       "      <th>289</th>\n",
       "      <td>1374582</td>\n",
       "      <td>97241171</td>\n",
       "      <td>2022-12-29</td>\n",
       "    </tr>\n",
       "    <tr>\n",
       "      <th>290</th>\n",
       "      <td>1374582</td>\n",
       "      <td>98542641</td>\n",
       "      <td>2022-12-29</td>\n",
       "    </tr>\n",
       "    <tr>\n",
       "      <th>291</th>\n",
       "      <td>1374582</td>\n",
       "      <td>100736375</td>\n",
       "      <td>2022-12-30</td>\n",
       "    </tr>\n",
       "  </tbody>\n",
       "</table>\n",
       "<p>222629049 rows × 3 columns</p>\n",
       "</div>"
      ],
      "text/plain": [
       "     user_id    item_id started_at\n",
       "0          0      99262 2022-07-17\n",
       "1          0     589498 2022-07-19\n",
       "2          0     590262 2022-07-21\n",
       "3          0     590303 2022-07-22\n",
       "4          0     590692 2022-07-22\n",
       "..       ...        ...        ...\n",
       "287  1374582   95514767 2022-12-29\n",
       "288  1374582   97220301 2022-12-29\n",
       "289  1374582   97241171 2022-12-29\n",
       "290  1374582   98542641 2022-12-29\n",
       "291  1374582  100736375 2022-12-30\n",
       "\n",
       "[222629049 rows x 3 columns]"
      ]
     },
     "execution_count": 34,
     "metadata": {},
     "output_type": "execute_result"
    }
   ],
   "source": [
    "interactions"
   ]
  },
  {
   "cell_type": "code",
   "execution_count": 35,
   "id": "7c48519a",
   "metadata": {},
   "outputs": [
    {
     "data": {
      "application/vnd.microsoft.datawrangler.viewer.v0+json": {
       "columns": [
        {
         "name": "index",
         "rawType": "int64",
         "type": "integer"
        },
        {
         "name": "item_id",
         "rawType": "int64",
         "type": "integer"
        },
        {
         "name": "albums",
         "rawType": "object",
         "type": "unknown"
        },
        {
         "name": "artists",
         "rawType": "object",
         "type": "unknown"
        },
        {
         "name": "genres",
         "rawType": "object",
         "type": "unknown"
        }
       ],
       "ref": "6725fbb8-d5c3-4543-b0f1-c4e281b445b6",
       "rows": [
        [
         "0",
         "26",
         "[      3 2490753]",
         "[16]",
         "[11 21]"
        ],
        [
         "1",
         "38",
         "[      3 2490753]",
         "[16]",
         "[11 21]"
        ],
        [
         "2",
         "135",
         "[     12     214 2490809]",
         "[84]",
         "[11]"
        ],
        [
         "3",
         "136",
         "[     12     214 2490809]",
         "[84]",
         "[11]"
        ],
        [
         "4",
         "138",
         "[      12      214      322    72275    72292    91199   213505  2490809\n  6007655 17294156]",
         "[84]",
         "[11]"
        ],
        [
         "5",
         "139",
         "[     12     214 2490809]",
         "[84]",
         "[11]"
        ],
        [
         "6",
         "140",
         "[     12     214 2490809]",
         "[84]",
         "[11]"
        ],
        [
         "7",
         "141",
         "[      12      214    60093  2490809 10023160 15635235 15706196 15708128\n 15708141 15730600 15731094 15771567 15781957 15863519 15863736 15863987\n 15934517 15934562 15934616 15934639 15934645 15934670 15934720 15934831\n 15971284 16030382 16067455 16067466 16077264 16092457 16178641 16178652\n 16178656 16211851 16258497 16272811 16313036 16525579 16700144 16836298\n 16839456 16932860 16947420 17031790 17270162 18093009 18332088 18412857\n 19556330]",
         "[84]",
         "[11]"
        ],
        [
         "8",
         "143",
         "[     12     214 2490809]",
         "[84]",
         "[11]"
        ],
        [
         "9",
         "144",
         "[   13 99422]",
         "[90]",
         "[ 59 102]"
        ],
        [
         "10",
         "145",
         "[     12     214 2490809]",
         "[84]",
         "[11]"
        ],
        [
         "11",
         "146",
         "[   13 99422]",
         "[90]",
         "[ 59 102]"
        ],
        [
         "12",
         "147",
         "[   13 99422]",
         "[90]",
         "[ 59 102]"
        ],
        [
         "13",
         "148",
         "[   13 89431 99422]",
         "[90]",
         "[ 59 102]"
        ],
        [
         "14",
         "149",
         "[   13 99422]",
         "[90]",
         "[ 59 102]"
        ],
        [
         "15",
         "150",
         "[   13 99422]",
         "[90]",
         "[ 59 102]"
        ],
        [
         "16",
         "151",
         "[     13   99422 5912223]",
         "[90]",
         "[ 59 102]"
        ],
        [
         "17",
         "220",
         "[     17      49 3671540 5971368]",
         "[183]",
         "[ 14 102]"
        ],
        [
         "18",
         "223",
         "[     17      49 1597558 1597602 3671540 5971368 9081907 9130607]",
         "[183]",
         "[ 11  14 102]"
        ],
        [
         "19",
         "321",
         "[      26     1583     1687    85704    87620    87673  2486936  3901033\n  9742513 10187373 10625062 10666176 11703778 12125587]",
         "[2785081]",
         "[33]"
        ],
        [
         "20",
         "327",
         "[27]",
         "[279]",
         "[38 47]"
        ],
        [
         "21",
         "329",
         "[27]",
         "[279]",
         "[38 47]"
        ],
        [
         "22",
         "332",
         "[27]",
         "[279]",
         "[38 47]"
        ],
        [
         "23",
         "344",
         "[27]",
         "[279]",
         "[38 47]"
        ],
        [
         "24",
         "346",
         "[27]",
         "[279]",
         "[38 47]"
        ],
        [
         "25",
         "353",
         "[29]",
         "[291]",
         "[11]"
        ],
        [
         "26",
         "357",
         "[29]",
         "[291]",
         "[11]"
        ],
        [
         "27",
         "361",
         "[29]",
         "[291]",
         "[11]"
        ],
        [
         "28",
         "364",
         "[29]",
         "[291]",
         "[11]"
        ],
        [
         "29",
         "367",
         "[29]",
         "[291]",
         "[11]"
        ],
        [
         "30",
         "369",
         "[      29      163    88381    95472 10319700]",
         "[291]",
         "[11]"
        ],
        [
         "31",
         "372",
         "[29]",
         "[291]",
         "[11]"
        ],
        [
         "32",
         "376",
         "[29]",
         "[291]",
         "[11]"
        ],
        [
         "33",
         "379",
         "[     29 3450149]",
         "[291]",
         "[11]"
        ],
        [
         "34",
         "382",
         "[29]",
         "[291]",
         "[11]"
        ],
        [
         "35",
         "422",
         "[     34 6176870]",
         "[317]",
         "[13]"
        ],
        [
         "36",
         "436",
         "[36]",
         "[330]",
         "[ 28 164]"
        ],
        [
         "37",
         "458",
         "[      39     7731 10503000 10576337]",
         "[289 335]",
         "[ 14 102]"
        ],
        [
         "38",
         "511",
         "[43]",
         "[418]",
         "[33]"
        ],
        [
         "39",
         "522",
         "[     45    3460    7797   88185 5571771]",
         "[423]",
         "[11 33]"
        ],
        [
         "40",
         "523",
         "[     45    5459 4385390 5604529]",
         "[423]",
         "[33]"
        ],
        [
         "41",
         "549",
         "[      48     9967    88412   169026   170703  9019675  9593539  9593698\n 10880233 13203052 13204673 14023091 14179676 14184426 14340235 14438562\n 14583184 14594813 15116250 15177250 15605040 15653671 16077452 17078886\n 18138764 18300741 18418310 20051030 21335161]",
         "[451]",
         "[11 68]"
        ],
        [
         "42",
         "550",
         "[      48     9967    88412 20051030]",
         "[451]",
         "[11 68]"
        ],
        [
         "43",
         "551",
         "[      48     9967    88412 20051030]",
         "[451]",
         "[11 68]"
        ],
        [
         "44",
         "552",
         "[      48     9967    88412 20051030]",
         "[451]",
         "[11 68]"
        ],
        [
         "45",
         "553",
         "[      48      463      473     9967    10655    37052    88412    88413\n   169026  3777012  9035988  9067525  9172793  9527372  9593405  9593459\n  9593539  9593698 10108359 10225718 11100155 11276153 11810002 11879184\n 12621819 12966626 13488848 13751319 13826531 14501775 14583184 14594762\n 14674026 14784739 15196751 15300085 15338919 15474754 15686391 15748586\n 15895447 16077601 16932419 17146249 17150258 17151644 17319220 17381915\n 18731883 18968170 19110609 19135953 19522170 19691878 19738469 19825400\n 19825797 19826029 19905055 19997180 19999630 19999639 20007467 20022098\n 20051030 20115151 20505096 20505150 20650782 20650836 20651274 20721766\n 20723121 20840550 20920075 20989761 21001847 21042120 21042465 21043779\n 21110838 21148477]",
         "[451]",
         "[11 68 74]"
        ],
        [
         "46",
         "554",
         "[      48     9967    88412 20051030]",
         "[451]",
         "[11 68]"
        ],
        [
         "47",
         "555",
         "[      48     9967    88412 20051030]",
         "[451]",
         "[11 68]"
        ],
        [
         "48",
         "556",
         "[      48     9967    88412 20051030]",
         "[451]",
         "[11 68]"
        ],
        [
         "49",
         "557",
         "[      48     9967    88412 20051030]",
         "[451]",
         "[11 68]"
        ]
       ],
       "shape": {
        "columns": 4,
        "rows": 1000000
       }
      },
      "text/html": [
       "<div>\n",
       "<style scoped>\n",
       "    .dataframe tbody tr th:only-of-type {\n",
       "        vertical-align: middle;\n",
       "    }\n",
       "\n",
       "    .dataframe tbody tr th {\n",
       "        vertical-align: top;\n",
       "    }\n",
       "\n",
       "    .dataframe thead th {\n",
       "        text-align: right;\n",
       "    }\n",
       "</style>\n",
       "<table border=\"1\" class=\"dataframe\">\n",
       "  <thead>\n",
       "    <tr style=\"text-align: right;\">\n",
       "      <th></th>\n",
       "      <th>item_id</th>\n",
       "      <th>albums</th>\n",
       "      <th>artists</th>\n",
       "      <th>genres</th>\n",
       "    </tr>\n",
       "  </thead>\n",
       "  <tbody>\n",
       "    <tr>\n",
       "      <th>0</th>\n",
       "      <td>26</td>\n",
       "      <td>[3, 2490753]</td>\n",
       "      <td>[16]</td>\n",
       "      <td>[11, 21]</td>\n",
       "    </tr>\n",
       "    <tr>\n",
       "      <th>1</th>\n",
       "      <td>38</td>\n",
       "      <td>[3, 2490753]</td>\n",
       "      <td>[16]</td>\n",
       "      <td>[11, 21]</td>\n",
       "    </tr>\n",
       "    <tr>\n",
       "      <th>2</th>\n",
       "      <td>135</td>\n",
       "      <td>[12, 214, 2490809]</td>\n",
       "      <td>[84]</td>\n",
       "      <td>[11]</td>\n",
       "    </tr>\n",
       "    <tr>\n",
       "      <th>3</th>\n",
       "      <td>136</td>\n",
       "      <td>[12, 214, 2490809]</td>\n",
       "      <td>[84]</td>\n",
       "      <td>[11]</td>\n",
       "    </tr>\n",
       "    <tr>\n",
       "      <th>4</th>\n",
       "      <td>138</td>\n",
       "      <td>[12, 214, 322, 72275, 72292, 91199, 213505, 24...</td>\n",
       "      <td>[84]</td>\n",
       "      <td>[11]</td>\n",
       "    </tr>\n",
       "    <tr>\n",
       "      <th>...</th>\n",
       "      <td>...</td>\n",
       "      <td>...</td>\n",
       "      <td>...</td>\n",
       "      <td>...</td>\n",
       "    </tr>\n",
       "    <tr>\n",
       "      <th>999995</th>\n",
       "      <td>101478482</td>\n",
       "      <td>[21399811]</td>\n",
       "      <td>[5540395]</td>\n",
       "      <td>[3, 75]</td>\n",
       "    </tr>\n",
       "    <tr>\n",
       "      <th>999996</th>\n",
       "      <td>101490148</td>\n",
       "      <td>[21403052]</td>\n",
       "      <td>[9078726]</td>\n",
       "      <td>[11, 20]</td>\n",
       "    </tr>\n",
       "    <tr>\n",
       "      <th>999997</th>\n",
       "      <td>101493057</td>\n",
       "      <td>[21403883]</td>\n",
       "      <td>[11865715]</td>\n",
       "      <td>[44, 75]</td>\n",
       "    </tr>\n",
       "    <tr>\n",
       "      <th>999998</th>\n",
       "      <td>101495927</td>\n",
       "      <td>[21404975]</td>\n",
       "      <td>[4462686]</td>\n",
       "      <td>[3, 75]</td>\n",
       "    </tr>\n",
       "    <tr>\n",
       "      <th>999999</th>\n",
       "      <td>101521819</td>\n",
       "      <td>[21414638]</td>\n",
       "      <td>[5056591]</td>\n",
       "      <td>[3, 75]</td>\n",
       "    </tr>\n",
       "  </tbody>\n",
       "</table>\n",
       "<p>1000000 rows × 4 columns</p>\n",
       "</div>"
      ],
      "text/plain": [
       "          item_id                                             albums  \\\n",
       "0              26                                       [3, 2490753]   \n",
       "1              38                                       [3, 2490753]   \n",
       "2             135                                 [12, 214, 2490809]   \n",
       "3             136                                 [12, 214, 2490809]   \n",
       "4             138  [12, 214, 322, 72275, 72292, 91199, 213505, 24...   \n",
       "...           ...                                                ...   \n",
       "999995  101478482                                         [21399811]   \n",
       "999996  101490148                                         [21403052]   \n",
       "999997  101493057                                         [21403883]   \n",
       "999998  101495927                                         [21404975]   \n",
       "999999  101521819                                         [21414638]   \n",
       "\n",
       "           artists    genres  \n",
       "0             [16]  [11, 21]  \n",
       "1             [16]  [11, 21]  \n",
       "2             [84]      [11]  \n",
       "3             [84]      [11]  \n",
       "4             [84]      [11]  \n",
       "...            ...       ...  \n",
       "999995   [5540395]   [3, 75]  \n",
       "999996   [9078726]  [11, 20]  \n",
       "999997  [11865715]  [44, 75]  \n",
       "999998   [4462686]   [3, 75]  \n",
       "999999   [5056591]   [3, 75]  \n",
       "\n",
       "[1000000 rows x 4 columns]"
      ]
     },
     "execution_count": 35,
     "metadata": {},
     "output_type": "execute_result"
    }
   ],
   "source": [
    "tracks"
   ]
  },
  {
   "cell_type": "code",
   "execution_count": 36,
   "id": "eca1c54b",
   "metadata": {},
   "outputs": [],
   "source": [
    "tracks.to_parquet('items.parquet')\n",
    "interactions.to_parquet('events.parquet')"
   ]
  },
  {
   "cell_type": "code",
   "execution_count": 38,
   "id": "d0e106c0",
   "metadata": {},
   "outputs": [],
   "source": [
    "s3_client.upload_file(\n",
    "            Filename = 'items.parquet',\n",
    "            Bucket = aws_bucket_name,\n",
    "            Key = f'{s3_recsys_path}items.parquet'\n",
    "        )\n",
    "\n",
    "s3_client.upload_file(\n",
    "            Filename = 'events.parquet',\n",
    "            Bucket = aws_bucket_name,\n",
    "            Key = f'{s3_recsys_path}events.parquet'\n",
    "        )"
   ]
  },
  {
   "cell_type": "markdown",
   "id": "72ecbbed-c560-44d9-9c14-86c7dc76f399",
   "metadata": {},
   "source": [
    "# Очистка памяти"
   ]
  },
  {
   "cell_type": "markdown",
   "id": "b5358ede-ba6e-4c4f-bd73-5b9344f0ba79",
   "metadata": {},
   "source": [
    "Здесь, может понадобится очистка памяти для высвобождения ресурсов для выполнения кода ниже. \n",
    "\n",
    "Приведите соответствующие код, комментарии, например:\n",
    "- код для удаление более ненужных переменных,\n",
    "- комментарий, что следует перезапустить kernel, выполнить такие-то начальные секции и продолжить с этапа 3."
   ]
  },
  {
   "cell_type": "code",
   "execution_count": 39,
   "id": "7f821651",
   "metadata": {},
   "outputs": [],
   "source": [
    "del tracks\n",
    "del catalog_names\n",
    "del interactions\n",
    "del pop_genres\n",
    "del user_track_count"
   ]
  },
  {
   "cell_type": "code",
   "execution_count": 42,
   "id": "767fe920-e12e-4ad8-b04e-56e8091fac9f",
   "metadata": {},
   "outputs": [
    {
     "data": {
      "text/plain": [
       "0"
      ]
     },
     "execution_count": 42,
     "metadata": {},
     "output_type": "execute_result"
    }
   ],
   "source": [
    "gc.collect()"
   ]
  },
  {
   "cell_type": "markdown",
   "id": "708503df-ee89-4cf3-8489-093dc478e2a8",
   "metadata": {},
   "source": [
    "# === ЭТАП 3 ==="
   ]
  },
  {
   "cell_type": "markdown",
   "id": "fd77de22-e10f-4b42-85c1-8fb6f805fe68",
   "metadata": {},
   "source": [
    "# Загрузка данных"
   ]
  },
  {
   "cell_type": "markdown",
   "id": "780a4241-1ecd-4a3e-bbb3-fc2f6ca94f68",
   "metadata": {},
   "source": [
    "Если необходимо, то загружаем items.parquet, events.parquet."
   ]
  },
  {
   "cell_type": "code",
   "execution_count": 8,
   "id": "f19fc8a5-bd2c-40d7-864a-ee75aca6d512",
   "metadata": {},
   "outputs": [],
   "source": [
    "items = pd.read_parquet(\"items.parquet\")\n",
    "events = pd.read_parquet(\"events.parquet\")"
   ]
  },
  {
   "cell_type": "markdown",
   "id": "a694c023-6477-490b-939d-1cfa6f5f1b72",
   "metadata": {},
   "source": [
    "# Разбиение данных"
   ]
  },
  {
   "cell_type": "markdown",
   "id": "fbd5f6e0-54e7-4428-8678-eabce505d82c",
   "metadata": {},
   "source": [
    "Разбиваем данные на тренировочную, тестовую выборки."
   ]
  },
  {
   "cell_type": "code",
   "execution_count": null,
   "id": "65abf58f",
   "metadata": {},
   "outputs": [],
   "source": []
  },
  {
   "cell_type": "code",
   "execution_count": null,
   "id": "7ef962c6",
   "metadata": {},
   "outputs": [],
   "source": [
    "interactions = pd.read_parquet('interactions.parquet')"
   ]
  },
  {
   "cell_type": "code",
   "execution_count": null,
   "id": "99c019c2",
   "metadata": {},
   "outputs": [
    {
     "name": "stdout",
     "output_type": "stream",
     "text": [
      "<class 'pandas.core.frame.DataFrame'>\n",
      "Index: 222629898 entries, 0 to 291\n",
      "Data columns (total 4 columns):\n",
      " #   Column      Non-Null Count      Dtype         \n",
      "---  ------      --------------      -----         \n",
      " 0   user_id     222629898 non-null  int32         \n",
      " 1   track_id    222629898 non-null  int32         \n",
      " 2   track_seq   222629898 non-null  int16         \n",
      " 3   started_at  222629898 non-null  datetime64[ns]\n",
      "dtypes: datetime64[ns](1), int16(1), int32(2)\n",
      "memory usage: 5.4 GB\n"
     ]
    }
   ],
   "source": [
    "interactions.info(show_counts=True)"
   ]
  },
  {
   "cell_type": "code",
   "execution_count": null,
   "id": "1b6652a0",
   "metadata": {},
   "outputs": [],
   "source": [
    "222629898\n",
    "208730442\n",
    "13898607"
   ]
  },
  {
   "cell_type": "code",
   "execution_count": 9,
   "id": "9d5ee9c7",
   "metadata": {},
   "outputs": [],
   "source": [
    "split_date = pd.to_datetime(\"2022-12-16\")\n",
    "\n",
    "events_train = events[events[\"started_at\"] < split_date]\n",
    "events_test = events[events[\"started_at\"] >= split_date]"
   ]
  },
  {
   "cell_type": "code",
   "execution_count": 10,
   "id": "00c2dfa5-d8a2-47d1-922e-6eefee2c62d1",
   "metadata": {},
   "outputs": [
    {
     "name": "stdout",
     "output_type": "stream",
     "text": [
      "количество событий в train =  (208730442, 3)\n",
      "количество событий в test =  (13898607, 3)\n",
      "количество user_id в train =  (1341756, 3)\n",
      "количество user_id в train =  (783486, 3)\n"
     ]
    }
   ],
   "source": [
    "print('количество событий в train = ', events_train.shape)\n",
    "print('количество событий в test = ',events_test.shape)\n",
    "\n",
    "print('количество user_id в train = ',events_train.drop_duplicates(subset = 'user_id').shape)\n",
    "print('количество user_id в train = ',events_test.drop_duplicates(subset = 'user_id').shape)"
   ]
  },
  {
   "cell_type": "code",
   "execution_count": 12,
   "id": "4a4bcaab",
   "metadata": {},
   "outputs": [],
   "source": [
    "events_train.to_parquet('events_train.parquet')\n",
    "events_test.to_parquet('events_test.parquet')\n",
    "\n",
    "s3_client.upload_file(\n",
    "            Filename = 'events_train.parquet',\n",
    "            Bucket = aws_bucket_name,\n",
    "            Key = f'{s3_recsys_path}events_train.parquet'\n",
    "        )\n",
    "\n",
    "s3_client.upload_file(\n",
    "            Filename = 'events_test.parquet',\n",
    "            Bucket = aws_bucket_name,\n",
    "            Key = f'{s3_recsys_path}events_test.parquet'\n",
    "        )"
   ]
  },
  {
   "cell_type": "code",
   "execution_count": 13,
   "id": "2d4f1841",
   "metadata": {},
   "outputs": [],
   "source": [
    "del events"
   ]
  },
  {
   "cell_type": "markdown",
   "id": "9131c7e6-8852-4556-b510-51f7253cc299",
   "metadata": {},
   "source": [
    "# Топ популярных"
   ]
  },
  {
   "cell_type": "markdown",
   "id": "dd70d43a-88cc-4719-b291-feaed7136f30",
   "metadata": {},
   "source": [
    "Рассчитаем рекомендации как топ популярных."
   ]
  },
  {
   "cell_type": "code",
   "execution_count": 18,
   "id": "54accadf",
   "metadata": {},
   "outputs": [],
   "source": [
    "catalog_names = pd.read_parquet('catalog_names.parquet')"
   ]
  },
  {
   "cell_type": "code",
   "execution_count": 19,
   "id": "ee45e200-b7d6-4f56-9077-aad431689b96",
   "metadata": {},
   "outputs": [],
   "source": [
    "top_popular = events_train['item_id'].value_counts().reset_index().merge(catalog_names[catalog_names.type == 'track'], how = 'left', left_on = 'item_id', right_on = 'id')\n",
    "top_popular = top_popular.sort_values(by = 'count', ascending = False)# [:100]"
   ]
  },
  {
   "cell_type": "code",
   "execution_count": 20,
   "id": "7690c86f-7aa9-46ed-bba5-2c837626411e",
   "metadata": {},
   "outputs": [
    {
     "data": {
      "application/vnd.microsoft.datawrangler.viewer.v0+json": {
       "columns": [
        {
         "name": "index",
         "rawType": "int64",
         "type": "integer"
        },
        {
         "name": "item_id",
         "rawType": "int32",
         "type": "integer"
        },
        {
         "name": "count",
         "rawType": "int64",
         "type": "integer"
        },
        {
         "name": "id",
         "rawType": "int64",
         "type": "integer"
        },
        {
         "name": "type",
         "rawType": "object",
         "type": "string"
        },
        {
         "name": "name",
         "rawType": "object",
         "type": "string"
        }
       ],
       "ref": "e5a13756-0be4-4631-8d33-aa72207db100",
       "rows": [
        [
         "0",
         "53404",
         "110025",
         "53404",
         "track",
         "Smells Like Teen Spirit"
        ],
        [
         "1",
         "33311009",
         "101075",
         "33311009",
         "track",
         "Believer"
        ],
        [
         "2",
         "178529",
         "100866",
         "178529",
         "track",
         "Numb"
        ],
        [
         "3",
         "35505245",
         "95523",
         "35505245",
         "track",
         "I Got Love"
        ],
        [
         "4",
         "24692821",
         "84153",
         "24692821",
         "track",
         "Way Down We Go"
        ]
       ],
       "shape": {
        "columns": 5,
        "rows": 5
       }
      },
      "text/html": [
       "<div>\n",
       "<style scoped>\n",
       "    .dataframe tbody tr th:only-of-type {\n",
       "        vertical-align: middle;\n",
       "    }\n",
       "\n",
       "    .dataframe tbody tr th {\n",
       "        vertical-align: top;\n",
       "    }\n",
       "\n",
       "    .dataframe thead th {\n",
       "        text-align: right;\n",
       "    }\n",
       "</style>\n",
       "<table border=\"1\" class=\"dataframe\">\n",
       "  <thead>\n",
       "    <tr style=\"text-align: right;\">\n",
       "      <th></th>\n",
       "      <th>item_id</th>\n",
       "      <th>count</th>\n",
       "      <th>id</th>\n",
       "      <th>type</th>\n",
       "      <th>name</th>\n",
       "    </tr>\n",
       "  </thead>\n",
       "  <tbody>\n",
       "    <tr>\n",
       "      <th>0</th>\n",
       "      <td>53404</td>\n",
       "      <td>110025</td>\n",
       "      <td>53404</td>\n",
       "      <td>track</td>\n",
       "      <td>Smells Like Teen Spirit</td>\n",
       "    </tr>\n",
       "    <tr>\n",
       "      <th>1</th>\n",
       "      <td>33311009</td>\n",
       "      <td>101075</td>\n",
       "      <td>33311009</td>\n",
       "      <td>track</td>\n",
       "      <td>Believer</td>\n",
       "    </tr>\n",
       "    <tr>\n",
       "      <th>2</th>\n",
       "      <td>178529</td>\n",
       "      <td>100866</td>\n",
       "      <td>178529</td>\n",
       "      <td>track</td>\n",
       "      <td>Numb</td>\n",
       "    </tr>\n",
       "    <tr>\n",
       "      <th>3</th>\n",
       "      <td>35505245</td>\n",
       "      <td>95523</td>\n",
       "      <td>35505245</td>\n",
       "      <td>track</td>\n",
       "      <td>I Got Love</td>\n",
       "    </tr>\n",
       "    <tr>\n",
       "      <th>4</th>\n",
       "      <td>24692821</td>\n",
       "      <td>84153</td>\n",
       "      <td>24692821</td>\n",
       "      <td>track</td>\n",
       "      <td>Way Down We Go</td>\n",
       "    </tr>\n",
       "  </tbody>\n",
       "</table>\n",
       "</div>"
      ],
      "text/plain": [
       "    item_id   count        id   type                     name\n",
       "0     53404  110025     53404  track  Smells Like Teen Spirit\n",
       "1  33311009  101075  33311009  track                 Believer\n",
       "2    178529  100866    178529  track                     Numb\n",
       "3  35505245   95523  35505245  track               I Got Love\n",
       "4  24692821   84153  24692821  track           Way Down We Go"
      ]
     },
     "execution_count": 20,
     "metadata": {},
     "output_type": "execute_result"
    }
   ],
   "source": [
    "top_popular.head()"
   ]
  },
  {
   "cell_type": "code",
   "execution_count": 21,
   "id": "9f758ccb",
   "metadata": {},
   "outputs": [],
   "source": [
    "top_popular.to_parquet(\"top_popular.parquet\")\n",
    "\n",
    "s3_client.upload_file(\n",
    "            Filename = 'top_popular.parquet',\n",
    "            Bucket = aws_bucket_name,\n",
    "            Key = f'{s3_recsys_path}top_popular.parquet'\n",
    "        )"
   ]
  },
  {
   "cell_type": "code",
   "execution_count": 25,
   "id": "66d78706",
   "metadata": {},
   "outputs": [
    {
     "ename": "NameError",
     "evalue": "name 'catalog_names' is not defined",
     "output_type": "error",
     "traceback": [
      "\u001b[0;31m---------------------------------------------------------------------------\u001b[0m",
      "\u001b[0;31mNameError\u001b[0m                                 Traceback (most recent call last)",
      "Cell \u001b[0;32mIn[25], line 1\u001b[0m\n\u001b[0;32m----> 1\u001b[0m \u001b[38;5;28;01mdel\u001b[39;00m catalog_names\n",
      "\u001b[0;31mNameError\u001b[0m: name 'catalog_names' is not defined"
     ]
    }
   ],
   "source": [
    "del catalog_names"
   ]
  },
  {
   "cell_type": "markdown",
   "id": "2ad231f2-6158-421a-b7fa-01d8bc3ed572",
   "metadata": {},
   "source": [
    "# Персональные"
   ]
  },
  {
   "cell_type": "markdown",
   "id": "86159460-cd9d-4b63-8248-604ea3c9aebf",
   "metadata": {},
   "source": [
    "Рассчитаем персональные рекомендации."
   ]
  },
  {
   "cell_type": "code",
   "execution_count": 45,
   "id": "11a2cbf2",
   "metadata": {},
   "outputs": [],
   "source": [
    "events = pd.read_parquet(\"events.parquet\", columns = ['user_id'])\n",
    "items = pd.read_parquet(\"items.parquet\", columns = ['item_id'])\n",
    "events_train = pd.read_parquet('events_train.parquet')\n",
    "events_test = pd.read_parquet('events_test.parquet')"
   ]
  },
  {
   "cell_type": "code",
   "execution_count": 46,
   "id": "d2944822-569c-4f9b-82dc-70a7fa2d542e",
   "metadata": {},
   "outputs": [
    {
     "name": "stdout",
     "output_type": "stream",
     "text": [
      "CPU times: user 59.4 s, sys: 3.07 s, total: 1min 2s\n",
      "Wall time: 1min 2s\n"
     ]
    }
   ],
   "source": [
    "%%time\n",
    "\n",
    "user_encoder = sklearn.preprocessing.LabelEncoder()\n",
    "user_encoder.fit(events[\"user_id\"])\n",
    "events_train[\"user_id_enc\"] = user_encoder.transform(events_train[\"user_id\"])\n",
    "events_test[\"user_id_enc\"] = user_encoder.transform(events_test[\"user_id\"])\n",
    "\n",
    "item_encoder = sklearn.preprocessing.LabelEncoder()\n",
    "item_encoder.fit(items[\"item_id\"])\n",
    "items[\"item_id_enc\"] = item_encoder.transform(items[\"item_id\"])\n",
    "events_train[\"item_id_enc\"] = item_encoder.transform(events_train[\"item_id\"]) \n",
    "events_test[\"item_id_enc\"] = item_encoder.transform(events_test[\"item_id\"])"
   ]
  },
  {
   "cell_type": "code",
   "execution_count": 47,
   "id": "1e8cdb58-3a8c-45ad-8e5f-7f950314aa56",
   "metadata": {},
   "outputs": [
    {
     "name": "stdout",
     "output_type": "stream",
     "text": [
      "CPU times: user 2.99 s, sys: 824 ms, total: 3.82 s\n",
      "Wall time: 3.82 s\n"
     ]
    }
   ],
   "source": [
    "%%time\n",
    "\n",
    "events_train['target'] = 1\n",
    "\n",
    "user_item_matrix_train = scipy.sparse.csr_matrix((\n",
    "    events_train['target'],\n",
    "    (events_train['user_id_enc'], events_train['item_id_enc'])),\n",
    "    dtype=np.int8)"
   ]
  },
  {
   "cell_type": "code",
   "execution_count": null,
   "id": "eaa47fa1",
   "metadata": {},
   "outputs": [
    {
     "name": "stdout",
     "output_type": "stream",
     "text": [
      "CPU times: user 50.5 s, sys: 428 ms, total: 50.9 s\n",
      "Wall time: 54 s\n"
     ]
    }
   ],
   "source": [
    "# %%time\n",
    "\n",
    "# sparse.save_npz(\"user_item_matrix_train.npz\", user_item_matrix_train)"
   ]
  },
  {
   "cell_type": "code",
   "execution_count": 49,
   "id": "dc0dfbfd",
   "metadata": {},
   "outputs": [],
   "source": [
    "user_item_matrix_train = sparse.load_npz(\"user_item_matrix_train.npz\")"
   ]
  },
  {
   "cell_type": "code",
   "execution_count": 50,
   "id": "61441a6e",
   "metadata": {},
   "outputs": [],
   "source": [
    "del events_train\n",
    "del events_test\n",
    "del items\n",
    "del events"
   ]
  },
  {
   "cell_type": "code",
   "execution_count": 51,
   "id": "5201f90d",
   "metadata": {},
   "outputs": [
    {
     "name": "stderr",
     "output_type": "stream",
     "text": [
      "100%|██████████| 10/10 [04:15<00:00, 25.54s/it]\n"
     ]
    }
   ],
   "source": [
    "# чтобы не запусить переобучение\n",
    "als_model = AlternatingLeastSquares(factors=10, iterations=10, regularization=0.05, random_state=42)\n",
    "als_model.fit(user_item_matrix_train)"
   ]
  },
  {
   "cell_type": "code",
   "execution_count": 85,
   "id": "999c8c22",
   "metadata": {},
   "outputs": [
    {
     "data": {
      "text/plain": [
       "577"
      ]
     },
     "execution_count": 85,
     "metadata": {},
     "output_type": "execute_result"
    }
   ],
   "source": [
    "gc.collect()"
   ]
  },
  {
   "cell_type": "code",
   "execution_count": null,
   "id": "b3a940e8",
   "metadata": {},
   "outputs": [],
   "source": [
    "# with open('models/als_model.pkl', 'wb') as file:\n",
    "#     joblib.dump(als_model, file)"
   ]
  },
  {
   "cell_type": "code",
   "execution_count": 54,
   "id": "4bfbff57",
   "metadata": {},
   "outputs": [],
   "source": [
    "with open('models/als_model.pkl', 'rb') as file:\n",
    "    als_model = joblib.load(file)"
   ]
  },
  {
   "cell_type": "code",
   "execution_count": 86,
   "id": "a1a786ac",
   "metadata": {},
   "outputs": [
    {
     "data": {
      "text/plain": [
       "<Compressed Sparse Row sparse matrix of dtype 'int8'\n",
       "\twith 208730442 stored elements and shape (1372372, 1000000)>"
      ]
     },
     "execution_count": 86,
     "metadata": {},
     "output_type": "execute_result"
    }
   ],
   "source": [
    "user_item_matrix_train"
   ]
  },
  {
   "cell_type": "code",
   "execution_count": 59,
   "id": "26a1d34d",
   "metadata": {},
   "outputs": [],
   "source": [
    "def get_recommendations_als(user_item_matrix, model, user_id, user_encoder, item_encoder, include_seen=True, n=5):\n",
    "    \"\"\"\n",
    "    Возвращает отранжированные рекомендации для заданного пользователя\n",
    "    \"\"\"\n",
    "    user_id_enc = user_encoder.transform([user_id])[0]\n",
    "    recommendations = model.recommend(\n",
    "         user_id_enc, \n",
    "         user_item_matrix[user_id_enc], \n",
    "         filter_already_liked_items=not include_seen,\n",
    "         N=n)\n",
    "    recommendations = pd.DataFrame({\"item_id_enc\": recommendations[0], \"score\": recommendations[1]})\n",
    "    recommendations[\"item_id\"] = item_encoder.inverse_transform(recommendations[\"item_id_enc\"])\n",
    "    \n",
    "    return recommendations"
   ]
  },
  {
   "cell_type": "code",
   "execution_count": 87,
   "id": "b60c9d3a",
   "metadata": {},
   "outputs": [
    {
     "data": {
      "application/vnd.microsoft.datawrangler.viewer.v0+json": {
       "columns": [
        {
         "name": "index",
         "rawType": "int64",
         "type": "integer"
        },
        {
         "name": "item_id_enc",
         "rawType": "int32",
         "type": "integer"
        },
        {
         "name": "score",
         "rawType": "float32",
         "type": "float"
        },
        {
         "name": "item_id",
         "rawType": "int64",
         "type": "integer"
        }
       ],
       "ref": "f983c7e3-af89-433a-b1a5-fe72f0c821a8",
       "rows": [
        [
         "0",
         "83145",
         "0.07094334",
         "732401"
        ],
        [
         "1",
         "59925",
         "0.06947767",
         "580880"
        ],
        [
         "2",
         "58621",
         "0.06711337",
         "560473"
        ],
        [
         "3",
         "137673",
         "0.06439854",
         "2758009"
        ],
        [
         "4",
         "90461",
         "0.06307682",
         "795836"
        ]
       ],
       "shape": {
        "columns": 3,
        "rows": 5
       }
      },
      "text/html": [
       "<div>\n",
       "<style scoped>\n",
       "    .dataframe tbody tr th:only-of-type {\n",
       "        vertical-align: middle;\n",
       "    }\n",
       "\n",
       "    .dataframe tbody tr th {\n",
       "        vertical-align: top;\n",
       "    }\n",
       "\n",
       "    .dataframe thead th {\n",
       "        text-align: right;\n",
       "    }\n",
       "</style>\n",
       "<table border=\"1\" class=\"dataframe\">\n",
       "  <thead>\n",
       "    <tr style=\"text-align: right;\">\n",
       "      <th></th>\n",
       "      <th>item_id_enc</th>\n",
       "      <th>score</th>\n",
       "      <th>item_id</th>\n",
       "    </tr>\n",
       "  </thead>\n",
       "  <tbody>\n",
       "    <tr>\n",
       "      <th>0</th>\n",
       "      <td>83145</td>\n",
       "      <td>0.070943</td>\n",
       "      <td>732401</td>\n",
       "    </tr>\n",
       "    <tr>\n",
       "      <th>1</th>\n",
       "      <td>59925</td>\n",
       "      <td>0.069478</td>\n",
       "      <td>580880</td>\n",
       "    </tr>\n",
       "    <tr>\n",
       "      <th>2</th>\n",
       "      <td>58621</td>\n",
       "      <td>0.067113</td>\n",
       "      <td>560473</td>\n",
       "    </tr>\n",
       "    <tr>\n",
       "      <th>3</th>\n",
       "      <td>137673</td>\n",
       "      <td>0.064399</td>\n",
       "      <td>2758009</td>\n",
       "    </tr>\n",
       "    <tr>\n",
       "      <th>4</th>\n",
       "      <td>90461</td>\n",
       "      <td>0.063077</td>\n",
       "      <td>795836</td>\n",
       "    </tr>\n",
       "  </tbody>\n",
       "</table>\n",
       "</div>"
      ],
      "text/plain": [
       "   item_id_enc     score  item_id\n",
       "0        83145  0.070943   732401\n",
       "1        59925  0.069478   580880\n",
       "2        58621  0.067113   560473\n",
       "3       137673  0.064399  2758009\n",
       "4        90461  0.063077   795836"
      ]
     },
     "execution_count": 87,
     "metadata": {},
     "output_type": "execute_result"
    }
   ],
   "source": [
    "user_id = 1372371\n",
    "get_recommendations_als(\n",
    "    user_item_matrix=user_item_matrix_train,\n",
    "    model=als_model,\n",
    "    user_id=user_id,\n",
    "    user_encoder=user_encoder,\n",
    "    item_encoder=item_encoder,\n",
    "    include_seen=False,\n",
    "    n=5\n",
    ")"
   ]
  },
  {
   "cell_type": "code",
   "execution_count": 88,
   "id": "87ffe034",
   "metadata": {},
   "outputs": [
    {
     "name": "stdout",
     "output_type": "stream",
     "text": [
      "CPU times: user 1h 33min 50s, sys: 1h 6min 9s, total: 2h 39min 59s\n",
      "Wall time: 41min 28s\n"
     ]
    }
   ],
   "source": [
    "%%time\n",
    "\n",
    "# получаем список всех возможных user_id (перекодированных)\n",
    "user_ids_encoded = range(len(user_encoder.classes_) )\n",
    "\n",
    "# получаем рекомендации для всех пользователей\n",
    "als_recommendations = als_model.recommend(\n",
    "    user_ids_encoded, \n",
    "    user_item_matrix_train[user_ids_encoded], \n",
    "    filter_already_liked_items=False, N=10)"
   ]
  },
  {
   "cell_type": "code",
   "execution_count": 89,
   "id": "1fde0ee0",
   "metadata": {},
   "outputs": [],
   "source": [
    "# преобразуем полученные рекомендации в табличный формат\n",
    "item_ids_enc = als_recommendations[0]\n",
    "als_scores = als_recommendations[1]"
   ]
  },
  {
   "cell_type": "code",
   "execution_count": 90,
   "id": "2c40f67a",
   "metadata": {},
   "outputs": [],
   "source": [
    "als_recommendations = pd.DataFrame({\n",
    "    \"user_id_enc\": user_ids_encoded,\n",
    "    \"item_id_enc\": item_ids_enc.tolist(), \n",
    "    \"score\": als_scores.tolist()})"
   ]
  },
  {
   "cell_type": "code",
   "execution_count": 91,
   "id": "f19dfcab",
   "metadata": {},
   "outputs": [],
   "source": [
    "als_recommendations = als_recommendations.explode([\"item_id_enc\", \"score\"], ignore_index=True)"
   ]
  },
  {
   "cell_type": "code",
   "execution_count": 92,
   "id": "07bebc32",
   "metadata": {},
   "outputs": [],
   "source": [
    "# приводим типы данных\n",
    "als_recommendations[\"item_id_enc\"] = als_recommendations[\"item_id_enc\"].astype(\"int\")\n",
    "als_recommendations[\"score\"] = als_recommendations[\"score\"].astype(\"float\")"
   ]
  },
  {
   "cell_type": "code",
   "execution_count": 93,
   "id": "396e2d79",
   "metadata": {},
   "outputs": [],
   "source": [
    "# получаем изначальные идентификаторы\n",
    "als_recommendations[\"user_id\"] = user_encoder.inverse_transform(als_recommendations[\"user_id_enc\"])\n",
    "als_recommendations[\"item_id\"] = item_encoder.inverse_transform(als_recommendations[\"item_id_enc\"])\n",
    "als_recommendations = als_recommendations.drop(columns=[\"user_id_enc\", \"item_id_enc\"])"
   ]
  },
  {
   "cell_type": "code",
   "execution_count": 94,
   "id": "a5cc6f4c",
   "metadata": {},
   "outputs": [],
   "source": [
    "als_recommendations.to_parquet(\"als_recommendations.parquet\")\n",
    "\n",
    "s3_client.upload_file(\n",
    "            Filename = 'als_recommendations.parquet',\n",
    "            Bucket = aws_bucket_name,\n",
    "            Key = f'{s3_recsys_path}als_recommendations.parquet'\n",
    "        )"
   ]
  },
  {
   "cell_type": "code",
   "execution_count": 95,
   "id": "8d1ee07a",
   "metadata": {},
   "outputs": [
    {
     "data": {
      "text/plain": [
       "553"
      ]
     },
     "execution_count": 95,
     "metadata": {},
     "output_type": "execute_result"
    }
   ],
   "source": [
    "gc.collect()"
   ]
  },
  {
   "cell_type": "markdown",
   "id": "5f09dc7e-7c91-4355-860a-b9cfb9f33f15",
   "metadata": {},
   "source": [
    "# Похожие"
   ]
  },
  {
   "cell_type": "markdown",
   "id": "1dfcb683-b440-40a8-9975-894156a53872",
   "metadata": {},
   "source": [
    "Рассчитаем похожие, они позже пригодятся для онлайн-рекомендаций."
   ]
  },
  {
   "cell_type": "code",
   "execution_count": 108,
   "id": "8ccbb510",
   "metadata": {},
   "outputs": [
    {
     "name": "stdout",
     "output_type": "stream",
     "text": [
      "CPU times: user 1h 22min 23s, sys: 1h 6min 6s, total: 2h 28min 29s\n",
      "Wall time: 39min 47s\n"
     ]
    }
   ],
   "source": [
    "%%time\n",
    "\n",
    "item_ids_encoded = range(len(item_encoder.classes_) )\n",
    "\n",
    "als_similar = als_model.similar_items(\n",
    "    item_ids_encoded,  N=11) # так как сам себя возращает, если хотим найти 10 похожих то берем 11"
   ]
  },
  {
   "cell_type": "code",
   "execution_count": 109,
   "id": "0eaf3eb0",
   "metadata": {},
   "outputs": [],
   "source": [
    "similar_item_ids_enc = als_similar[0]\n",
    "similar_als_scores = als_similar[1]"
   ]
  },
  {
   "cell_type": "code",
   "execution_count": 110,
   "id": "1a6e6655",
   "metadata": {},
   "outputs": [],
   "source": [
    "als_similar = pd.DataFrame({\n",
    "    \"item_id_enc\": item_ids_encoded,\n",
    "    \"rec_item_id_enc\": similar_item_ids_enc.tolist(), \n",
    "    \"score\": similar_als_scores.tolist()})"
   ]
  },
  {
   "cell_type": "code",
   "execution_count": 111,
   "id": "573abd73",
   "metadata": {},
   "outputs": [],
   "source": [
    "als_similar = als_similar.explode([\"rec_item_id_enc\", \"score\"], ignore_index=True)"
   ]
  },
  {
   "cell_type": "code",
   "execution_count": 112,
   "id": "259e2cde",
   "metadata": {},
   "outputs": [],
   "source": [
    "als_similar[\"item_id_enc\"] = als_similar[\"item_id_enc\"].astype(\"int\")\n",
    "als_similar[\"rec_item_id_enc\"] = als_similar[\"rec_item_id_enc\"].astype(\"int\")\n",
    "als_similar[\"score\"] = als_similar[\"score\"].astype(\"float\")"
   ]
  },
  {
   "cell_type": "code",
   "execution_count": 113,
   "id": "87757eff",
   "metadata": {},
   "outputs": [],
   "source": [
    "als_similar[\"item_id\"] = item_encoder.inverse_transform(als_similar[\"item_id_enc\"])\n",
    "als_similar[\"rec_item_id\"] = item_encoder.inverse_transform(als_similar[\"rec_item_id_enc\"])\n",
    "als_similar = als_similar.drop(columns=[\"item_id_enc\", \"rec_item_id_enc\"])"
   ]
  },
  {
   "cell_type": "code",
   "execution_count": 114,
   "id": "446f7f85",
   "metadata": {},
   "outputs": [],
   "source": [
    "als_similar.to_parquet(\"als_similar.parquet\")\n",
    "\n",
    "s3_client.upload_file(\n",
    "            Filename = 'als_similar.parquet',\n",
    "            Bucket = aws_bucket_name,\n",
    "            Key = f'{s3_recsys_path}als_similar.parquet'\n",
    "        )"
   ]
  },
  {
   "cell_type": "code",
   "execution_count": 116,
   "id": "9ce3915d",
   "metadata": {},
   "outputs": [
    {
     "data": {
      "application/vnd.microsoft.datawrangler.viewer.v0+json": {
       "columns": [
        {
         "name": "index",
         "rawType": "int64",
         "type": "integer"
        },
        {
         "name": "score",
         "rawType": "float64",
         "type": "float"
        },
        {
         "name": "item_id",
         "rawType": "int64",
         "type": "integer"
        },
        {
         "name": "rec_item_id",
         "rawType": "int64",
         "type": "integer"
        }
       ],
       "ref": "4c31199a-62b3-47d8-94c0-d085994f6204",
       "rows": [
        [
         "0",
         "0.9999998807907104",
         "26",
         "26"
        ],
        [
         "1",
         "0.9647767543792725",
         "26",
         "1704328"
        ],
        [
         "2",
         "0.9647282958030701",
         "26",
         "10851471"
        ],
        [
         "3",
         "0.9631840586662292",
         "26",
         "2163978"
        ],
        [
         "4",
         "0.9598172307014465",
         "26",
         "560452"
        ],
        [
         "5",
         "0.9587969183921814",
         "26",
         "574995"
        ],
        [
         "6",
         "0.9563507437705994",
         "26",
         "560423"
        ],
        [
         "7",
         "0.9547541737556458",
         "26",
         "1704323"
        ],
        [
         "8",
         "0.9546920657157898",
         "26",
         "20710963"
        ],
        [
         "9",
         "0.9532455801963806",
         "26",
         "1704442"
        ],
        [
         "10",
         "0.9531497955322266",
         "26",
         "32720820"
        ],
        [
         "11",
         "1.0000001192092896",
         "38",
         "38"
        ],
        [
         "12",
         "0.990238606929779",
         "38",
         "15016378"
        ],
        [
         "13",
         "0.9809268116950989",
         "38",
         "11284973"
        ],
        [
         "14",
         "0.9772791862487793",
         "38",
         "18982805"
        ],
        [
         "15",
         "0.9770463109016418",
         "38",
         "18560183"
        ],
        [
         "16",
         "0.9760342240333557",
         "38",
         "18982807"
        ],
        [
         "17",
         "0.9676854014396667",
         "38",
         "65295441"
        ],
        [
         "18",
         "0.9672979116439819",
         "38",
         "55266917"
        ],
        [
         "19",
         "0.9666652679443359",
         "38",
         "53973566"
        ],
        [
         "20",
         "0.9655165672302246",
         "38",
         "42958618"
        ],
        [
         "21",
         "0.965399444103241",
         "38",
         "58624577"
        ],
        [
         "22",
         "1.0000001192092896",
         "135",
         "135"
        ],
        [
         "23",
         "0.9898942112922668",
         "135",
         "953663"
        ],
        [
         "24",
         "0.9878880381584167",
         "135",
         "18871672"
        ],
        [
         "25",
         "0.9877557754516602",
         "135",
         "784988"
        ],
        [
         "26",
         "0.9875715970993042",
         "135",
         "18013001"
        ],
        [
         "27",
         "0.9867640137672424",
         "135",
         "667787"
        ],
        [
         "28",
         "0.9853971600532532",
         "135",
         "781976"
        ],
        [
         "29",
         "0.9840973019599915",
         "135",
         "7737254"
        ],
        [
         "30",
         "0.9839479327201843",
         "135",
         "686489"
        ],
        [
         "31",
         "0.9839047193527222",
         "135",
         "18297547"
        ],
        [
         "32",
         "0.9838058352470398",
         "135",
         "373817"
        ],
        [
         "33",
         "1.0",
         "136",
         "136"
        ],
        [
         "34",
         "0.9786530137062073",
         "136",
         "36243480"
        ],
        [
         "35",
         "0.9684627652168274",
         "136",
         "32104426"
        ],
        [
         "36",
         "0.9684047698974609",
         "136",
         "29057718"
        ],
        [
         "37",
         "0.9683539271354675",
         "136",
         "19798548"
        ],
        [
         "38",
         "0.9661288857460022",
         "136",
         "3894702"
        ],
        [
         "39",
         "0.9655942320823669",
         "136",
         "27294121"
        ],
        [
         "40",
         "0.9648516774177551",
         "136",
         "68721"
        ],
        [
         "41",
         "0.963984489440918",
         "136",
         "5500872"
        ],
        [
         "42",
         "0.9638082385063171",
         "136",
         "16395026"
        ],
        [
         "43",
         "0.9625568985939026",
         "136",
         "33332884"
        ],
        [
         "44",
         "0.9999999403953552",
         "138",
         "138"
        ],
        [
         "45",
         "0.9663688540458679",
         "138",
         "5301796"
        ],
        [
         "46",
         "0.9657230377197266",
         "138",
         "39279955"
        ],
        [
         "47",
         "0.9536879062652588",
         "138",
         "2261742"
        ],
        [
         "48",
         "0.9524365663528442",
         "138",
         "1895617"
        ],
        [
         "49",
         "0.9491148591041565",
         "138",
         "37849144"
        ]
       ],
       "shape": {
        "columns": 3,
        "rows": 11000000
       }
      },
      "text/html": [
       "<div>\n",
       "<style scoped>\n",
       "    .dataframe tbody tr th:only-of-type {\n",
       "        vertical-align: middle;\n",
       "    }\n",
       "\n",
       "    .dataframe tbody tr th {\n",
       "        vertical-align: top;\n",
       "    }\n",
       "\n",
       "    .dataframe thead th {\n",
       "        text-align: right;\n",
       "    }\n",
       "</style>\n",
       "<table border=\"1\" class=\"dataframe\">\n",
       "  <thead>\n",
       "    <tr style=\"text-align: right;\">\n",
       "      <th></th>\n",
       "      <th>score</th>\n",
       "      <th>item_id</th>\n",
       "      <th>rec_item_id</th>\n",
       "    </tr>\n",
       "  </thead>\n",
       "  <tbody>\n",
       "    <tr>\n",
       "      <th>0</th>\n",
       "      <td>1.000000</td>\n",
       "      <td>26</td>\n",
       "      <td>26</td>\n",
       "    </tr>\n",
       "    <tr>\n",
       "      <th>1</th>\n",
       "      <td>0.964777</td>\n",
       "      <td>26</td>\n",
       "      <td>1704328</td>\n",
       "    </tr>\n",
       "    <tr>\n",
       "      <th>2</th>\n",
       "      <td>0.964728</td>\n",
       "      <td>26</td>\n",
       "      <td>10851471</td>\n",
       "    </tr>\n",
       "    <tr>\n",
       "      <th>3</th>\n",
       "      <td>0.963184</td>\n",
       "      <td>26</td>\n",
       "      <td>2163978</td>\n",
       "    </tr>\n",
       "    <tr>\n",
       "      <th>4</th>\n",
       "      <td>0.959817</td>\n",
       "      <td>26</td>\n",
       "      <td>560452</td>\n",
       "    </tr>\n",
       "    <tr>\n",
       "      <th>...</th>\n",
       "      <td>...</td>\n",
       "      <td>...</td>\n",
       "      <td>...</td>\n",
       "    </tr>\n",
       "    <tr>\n",
       "      <th>10999995</th>\n",
       "      <td>0.971645</td>\n",
       "      <td>101521819</td>\n",
       "      <td>70626416</td>\n",
       "    </tr>\n",
       "    <tr>\n",
       "      <th>10999996</th>\n",
       "      <td>0.968042</td>\n",
       "      <td>101521819</td>\n",
       "      <td>85659885</td>\n",
       "    </tr>\n",
       "    <tr>\n",
       "      <th>10999997</th>\n",
       "      <td>0.962324</td>\n",
       "      <td>101521819</td>\n",
       "      <td>78094473</td>\n",
       "    </tr>\n",
       "    <tr>\n",
       "      <th>10999998</th>\n",
       "      <td>0.962320</td>\n",
       "      <td>101521819</td>\n",
       "      <td>87856142</td>\n",
       "    </tr>\n",
       "    <tr>\n",
       "      <th>10999999</th>\n",
       "      <td>0.961868</td>\n",
       "      <td>101521819</td>\n",
       "      <td>77757930</td>\n",
       "    </tr>\n",
       "  </tbody>\n",
       "</table>\n",
       "<p>11000000 rows × 3 columns</p>\n",
       "</div>"
      ],
      "text/plain": [
       "             score    item_id  rec_item_id\n",
       "0         1.000000         26           26\n",
       "1         0.964777         26      1704328\n",
       "2         0.964728         26     10851471\n",
       "3         0.963184         26      2163978\n",
       "4         0.959817         26       560452\n",
       "...            ...        ...          ...\n",
       "10999995  0.971645  101521819     70626416\n",
       "10999996  0.968042  101521819     85659885\n",
       "10999997  0.962324  101521819     78094473\n",
       "10999998  0.962320  101521819     87856142\n",
       "10999999  0.961868  101521819     77757930\n",
       "\n",
       "[11000000 rows x 3 columns]"
      ]
     },
     "execution_count": 116,
     "metadata": {},
     "output_type": "execute_result"
    }
   ],
   "source": [
    "als_similar"
   ]
  },
  {
   "cell_type": "code",
   "execution_count": 117,
   "id": "64124d42",
   "metadata": {},
   "outputs": [],
   "source": [
    "del als_similar\n",
    "del als_recommendations"
   ]
  },
  {
   "cell_type": "markdown",
   "id": "0087a3e7-ca9f-42cd-944c-944222c1baef",
   "metadata": {},
   "source": [
    "# Построение признаков"
   ]
  },
  {
   "cell_type": "markdown",
   "id": "e82a32e1-b90b-4eaf-9439-fc8deab9f34b",
   "metadata": {},
   "source": [
    "Построим три признака, можно больше, для ранжирующей модели."
   ]
  },
  {
   "cell_type": "code",
   "execution_count": 9,
   "id": "5323e426",
   "metadata": {},
   "outputs": [],
   "source": [
    "# посчитаем самые популярные жанры на трейне "
   ]
  },
  {
   "cell_type": "code",
   "execution_count": 8,
   "id": "34587e26",
   "metadata": {},
   "outputs": [],
   "source": [
    "pop_genres = pd.read_parquet('tracks.parquet', columns= ['track_id', 'genres'])\n",
    "pop_genres = pop_genres.rename(columns={'track_id': 'item_id'})\n",
    "events_train = pd.read_parquet('events_train.parquet', columns= ['user_id', 'item_id'])"
   ]
  },
  {
   "cell_type": "code",
   "execution_count": 11,
   "id": "c89ee967",
   "metadata": {},
   "outputs": [
    {
     "data": {
      "text/plain": [
       "0"
      ]
     },
     "execution_count": 11,
     "metadata": {},
     "output_type": "execute_result"
    }
   ],
   "source": [
    "pop_genres = pop_genres.explode('genres')[['item_id', 'genres']]\n",
    "gc.collect()"
   ]
  },
  {
   "cell_type": "code",
   "execution_count": 12,
   "id": "96f278a8",
   "metadata": {},
   "outputs": [
    {
     "data": {
      "text/plain": [
       "0"
      ]
     },
     "execution_count": 12,
     "metadata": {},
     "output_type": "execute_result"
    }
   ],
   "source": [
    "pop_genres = events_train[['item_id', 'user_id']].set_index('item_id').join( pop_genres.set_index('item_id') , how = 'left')\n",
    "gc.collect()"
   ]
  },
  {
   "cell_type": "code",
   "execution_count": 13,
   "id": "72590702",
   "metadata": {},
   "outputs": [],
   "source": [
    "pop_genres = pop_genres.reset_index()"
   ]
  },
  {
   "cell_type": "code",
   "execution_count": null,
   "id": "e2bff026",
   "metadata": {},
   "outputs": [
    {
     "data": {
      "text/plain": [
       "0"
      ]
     },
     "execution_count": 14,
     "metadata": {},
     "output_type": "execute_result"
    }
   ],
   "source": [
    "pop_genres = pop_genres.genres.value_counts().reset_index()\n",
    "gc.collect()"
   ]
  },
  {
   "cell_type": "code",
   "execution_count": 16,
   "id": "67d28e87",
   "metadata": {},
   "outputs": [],
   "source": [
    "pop_genres = pop_genres.rename(columns={'count': 'pop_genres'})"
   ]
  },
  {
   "cell_type": "code",
   "execution_count": 17,
   "id": "fadd7954",
   "metadata": {},
   "outputs": [],
   "source": [
    "pop_genres.to_parquet(\"pop_genres.parquet\")\n",
    "\n",
    "s3_client.upload_file(\n",
    "            Filename = 'pop_genres.parquet',\n",
    "            Bucket = aws_bucket_name,\n",
    "            Key = f'{s3_recsys_path}pop_genres.parquet'\n",
    "        )"
   ]
  },
  {
   "cell_type": "code",
   "execution_count": 18,
   "id": "879a7608",
   "metadata": {},
   "outputs": [
    {
     "data": {
      "application/vnd.microsoft.datawrangler.viewer.v0+json": {
       "columns": [
        {
         "name": "index",
         "rawType": "int64",
         "type": "integer"
        },
        {
         "name": "genres",
         "rawType": "int64",
         "type": "integer"
        },
        {
         "name": "pop_genres",
         "rawType": "int64",
         "type": "integer"
        }
       ],
       "ref": "5c31ea2a-3f86-480d-b1f9-a25baa5debc9",
       "rows": [
        [
         "0",
         "11",
         "51490799"
        ],
        [
         "1",
         "75",
         "35121554"
        ],
        [
         "2",
         "102",
         "29665807"
        ],
        [
         "3",
         "20",
         "24027285"
        ],
        [
         "4",
         "3",
         "23365386"
        ],
        [
         "5",
         "68",
         "18951467"
        ],
        [
         "6",
         "16",
         "14999003"
        ],
        [
         "7",
         "2",
         "12456122"
        ],
        [
         "8",
         "14",
         "12269579"
        ],
        [
         "9",
         "47",
         "11900305"
        ],
        [
         "10",
         "44",
         "11488100"
        ],
        [
         "11",
         "13",
         "9648178"
        ],
        [
         "12",
         "70",
         "9442075"
        ],
        [
         "13",
         "325",
         "6553738"
        ],
        [
         "14",
         "25",
         "5633767"
        ],
        [
         "15",
         "19",
         "4682161"
        ],
        [
         "16",
         "6",
         "3790979"
        ],
        [
         "17",
         "21",
         "3696333"
        ],
        [
         "18",
         "50",
         "3602990"
        ],
        [
         "19",
         "74",
         "3145110"
        ],
        [
         "20",
         "101",
         "2883360"
        ],
        [
         "21",
         "161",
         "2763502"
        ],
        [
         "22",
         "59",
         "2608981"
        ],
        [
         "23",
         "69",
         "2489610"
        ],
        [
         "24",
         "17",
         "2325822"
        ],
        [
         "25",
         "41",
         "2281700"
        ],
        [
         "26",
         "335",
         "2175908"
        ],
        [
         "27",
         "12",
         "2084033"
        ],
        [
         "28",
         "112",
         "1897479"
        ],
        [
         "29",
         "38",
         "1845923"
        ],
        [
         "30",
         "28",
         "1726592"
        ],
        [
         "31",
         "308",
         "1472874"
        ],
        [
         "32",
         "23",
         "1203539"
        ],
        [
         "33",
         "43",
         "1201935"
        ],
        [
         "34",
         "55",
         "1184774"
        ],
        [
         "35",
         "61",
         "1125290"
        ],
        [
         "36",
         "86",
         "1118344"
        ],
        [
         "37",
         "703",
         "1005347"
        ],
        [
         "38",
         "332",
         "979071"
        ],
        [
         "39",
         "154",
         "866531"
        ],
        [
         "40",
         "60",
         "824361"
        ],
        [
         "41",
         "26",
         "804173"
        ],
        [
         "42",
         "169",
         "790003"
        ],
        [
         "43",
         "49",
         "767158"
        ],
        [
         "44",
         "155",
         "764509"
        ],
        [
         "45",
         "56",
         "753779"
        ],
        [
         "46",
         "37",
         "750285"
        ],
        [
         "47",
         "5",
         "743364"
        ],
        [
         "48",
         "22",
         "737577"
        ],
        [
         "49",
         "138",
         "731696"
        ]
       ],
       "shape": {
        "columns": 2,
        "rows": 173
       }
      },
      "text/html": [
       "<div>\n",
       "<style scoped>\n",
       "    .dataframe tbody tr th:only-of-type {\n",
       "        vertical-align: middle;\n",
       "    }\n",
       "\n",
       "    .dataframe tbody tr th {\n",
       "        vertical-align: top;\n",
       "    }\n",
       "\n",
       "    .dataframe thead th {\n",
       "        text-align: right;\n",
       "    }\n",
       "</style>\n",
       "<table border=\"1\" class=\"dataframe\">\n",
       "  <thead>\n",
       "    <tr style=\"text-align: right;\">\n",
       "      <th></th>\n",
       "      <th>genres</th>\n",
       "      <th>pop_genres</th>\n",
       "    </tr>\n",
       "  </thead>\n",
       "  <tbody>\n",
       "    <tr>\n",
       "      <th>0</th>\n",
       "      <td>11</td>\n",
       "      <td>51490799</td>\n",
       "    </tr>\n",
       "    <tr>\n",
       "      <th>1</th>\n",
       "      <td>75</td>\n",
       "      <td>35121554</td>\n",
       "    </tr>\n",
       "    <tr>\n",
       "      <th>2</th>\n",
       "      <td>102</td>\n",
       "      <td>29665807</td>\n",
       "    </tr>\n",
       "    <tr>\n",
       "      <th>3</th>\n",
       "      <td>20</td>\n",
       "      <td>24027285</td>\n",
       "    </tr>\n",
       "    <tr>\n",
       "      <th>4</th>\n",
       "      <td>3</td>\n",
       "      <td>23365386</td>\n",
       "    </tr>\n",
       "    <tr>\n",
       "      <th>...</th>\n",
       "      <td>...</td>\n",
       "      <td>...</td>\n",
       "    </tr>\n",
       "    <tr>\n",
       "      <th>168</th>\n",
       "      <td>166</td>\n",
       "      <td>117</td>\n",
       "    </tr>\n",
       "    <tr>\n",
       "      <th>169</th>\n",
       "      <td>106</td>\n",
       "      <td>53</td>\n",
       "    </tr>\n",
       "    <tr>\n",
       "      <th>170</th>\n",
       "      <td>148</td>\n",
       "      <td>32</td>\n",
       "    </tr>\n",
       "    <tr>\n",
       "      <th>171</th>\n",
       "      <td>150</td>\n",
       "      <td>29</td>\n",
       "    </tr>\n",
       "    <tr>\n",
       "      <th>172</th>\n",
       "      <td>124</td>\n",
       "      <td>29</td>\n",
       "    </tr>\n",
       "  </tbody>\n",
       "</table>\n",
       "<p>173 rows × 2 columns</p>\n",
       "</div>"
      ],
      "text/plain": [
       "     genres  pop_genres\n",
       "0        11    51490799\n",
       "1        75    35121554\n",
       "2       102    29665807\n",
       "3        20    24027285\n",
       "4         3    23365386\n",
       "..      ...         ...\n",
       "168     166         117\n",
       "169     106          53\n",
       "170     148          32\n",
       "171     150          29\n",
       "172     124          29\n",
       "\n",
       "[173 rows x 2 columns]"
      ]
     },
     "execution_count": 18,
     "metadata": {},
     "output_type": "execute_result"
    }
   ],
   "source": [
    "pop_genres"
   ]
  },
  {
   "cell_type": "code",
   "execution_count": null,
   "id": "f79b30a7",
   "metadata": {},
   "outputs": [],
   "source": [
    "# скор от ALS \n",
    "# популярность трека \n",
    "# популярность жанра"
   ]
  },
  {
   "cell_type": "code",
   "execution_count": 23,
   "id": "02d431af",
   "metadata": {},
   "outputs": [],
   "source": [
    "als_recommendations = pd.read_parquet('als_recommendations.parquet')\n",
    "top_popular = pd.read_parquet('top_popular.parquet', columns=['item_id', 'count'])\n",
    "pop_genres = pd.read_parquet('pop_genres.parquet', columns=['genres', 'pop_genres'])"
   ]
  },
  {
   "cell_type": "code",
   "execution_count": 24,
   "id": "896aa3e4",
   "metadata": {},
   "outputs": [],
   "source": [
    "items = pd.read_parquet('items.parquet', columns = ['item_id', 'genres'])\n",
    "items = items.explode('genres')\n",
    "pop_genres = items.merge(pop_genres , on = 'genres', how = 'left')\n",
    "\n",
    "pop_genres = pop_genres.groupby('item_id').agg(\n",
    "    max_pop_genres = ('pop_genres', 'max'),\n",
    "    mean_pop_genres = ('pop_genres', 'mean')\n",
    ")"
   ]
  },
  {
   "cell_type": "code",
   "execution_count": 25,
   "id": "3e280bbc",
   "metadata": {},
   "outputs": [],
   "source": [
    "candidates = als_recommendations.merge(top_popular, how = 'left', on = 'item_id')\n",
    "candidates = candidates.merge(pop_genres, how = 'left', on = 'item_id')"
   ]
  },
  {
   "cell_type": "code",
   "execution_count": 26,
   "id": "74bedcdc",
   "metadata": {},
   "outputs": [
    {
     "data": {
      "application/vnd.microsoft.datawrangler.viewer.v0+json": {
       "columns": [
        {
         "name": "index",
         "rawType": "int64",
         "type": "integer"
        },
        {
         "name": "score",
         "rawType": "float64",
         "type": "float"
        },
        {
         "name": "user_id",
         "rawType": "int32",
         "type": "integer"
        },
        {
         "name": "item_id",
         "rawType": "int64",
         "type": "integer"
        },
        {
         "name": "count",
         "rawType": "int64",
         "type": "integer"
        },
        {
         "name": "max_pop_genres",
         "rawType": "float64",
         "type": "float"
        },
        {
         "name": "mean_pop_genres",
         "rawType": "float64",
         "type": "float"
        }
       ],
       "ref": "89d62522-3a40-476c-80d6-fdce84228b43",
       "rows": [
        [
         "0",
         "0.006968116853386164",
         "0",
         "178529",
         "100866",
         "11900305.0",
         "7091002.5"
        ],
        [
         "1",
         "0.006913625169545412",
         "0",
         "732401",
         "63119",
         "29665807.0",
         "21060964.5"
        ],
        [
         "2",
         "0.0065852804109454155",
         "0",
         "560468",
         "49261",
         "29665807.0",
         "21060964.5"
        ],
        [
         "3",
         "0.00653392868116498",
         "0",
         "580880",
         "54109",
         "29665807.0",
         "21060964.5"
        ],
        [
         "4",
         "0.0061338539235293865",
         "0",
         "560473",
         "56537",
         "29665807.0",
         "21060964.5"
        ],
        [
         "5",
         "0.006123279687017202",
         "0",
         "35505245",
         "95523",
         "35121554.0",
         "29243470.0"
        ],
        [
         "6",
         "0.006057473830878735",
         "0",
         "53404",
         "110025",
         "29665807.0",
         "17194521.333333332"
        ],
        [
         "7",
         "0.005562294274568558",
         "0",
         "9047114",
         "57059",
         "29665807.0",
         "21060964.5"
        ],
        [
         "8",
         "0.005551445297896862",
         "0",
         "33308946",
         "49991",
         "29665807.0",
         "15204585.5"
        ],
        [
         "9",
         "0.005478554405272007",
         "0",
         "39089632",
         "57450",
         "29665807.0",
         "21060964.5"
        ],
        [
         "10",
         "0.020994406193494797",
         "1",
         "50685843",
         "66321",
         "3602990.0",
         "3602990.0"
        ],
        [
         "11",
         "0.019039997830986977",
         "1",
         "37258117",
         "56569",
         "3602990.0",
         "3602990.0"
        ],
        [
         "12",
         "0.016486238688230515",
         "1",
         "9282507",
         "49094",
         "29665807.0",
         "21060964.5"
        ],
        [
         "13",
         "0.016137152910232544",
         "1",
         "50684233",
         "44391",
         "29665807.0",
         "21060964.5"
        ],
        [
         "14",
         "0.014532637782394886",
         "1",
         "39089632",
         "57450",
         "29665807.0",
         "21060964.5"
        ],
        [
         "15",
         "0.014318851754069328",
         "1",
         "50685846",
         "35170",
         "3602990.0",
         "3602990.0"
        ],
        [
         "16",
         "0.013470916077494621",
         "1",
         "560473",
         "56537",
         "29665807.0",
         "21060964.5"
        ],
        [
         "17",
         "0.012968087568879128",
         "1",
         "32291816",
         "26663",
         "3602990.0",
         "3602990.0"
        ],
        [
         "18",
         "0.012855553068220615",
         "1",
         "50688560",
         "27619",
         "3602990.0",
         "3602990.0"
        ],
        [
         "19",
         "0.012605211697518826",
         "1",
         "2192826",
         "48770",
         "29665807.0",
         "21060964.5"
        ],
        [
         "20",
         "0.006669978145509958",
         "2",
         "27032843",
         "49193",
         "11900305.0",
         "6686589.5"
        ],
        [
         "21",
         "0.006568809039890766",
         "2",
         "37258117",
         "56569",
         "3602990.0",
         "3602990.0"
        ],
        [
         "22",
         "0.005988379940390587",
         "2",
         "50685843",
         "66321",
         "3602990.0",
         "3602990.0"
        ],
        [
         "23",
         "0.0057816337794065475",
         "2",
         "628970",
         "49866",
         "9648178.0",
         "9648178.0"
        ],
        [
         "24",
         "0.0056345476768910885",
         "2",
         "646516",
         "40340",
         "11900305.0",
         "7331903.5"
        ],
        [
         "25",
         "0.0053242165595293045",
         "2",
         "53404",
         "110025",
         "29665807.0",
         "17194521.333333332"
        ],
        [
         "26",
         "0.005319919437170029",
         "2",
         "648937",
         "39037",
         "11900305.0",
         "7331903.5"
        ],
        [
         "27",
         "0.00522784935310483",
         "2",
         "50684233",
         "44391",
         "29665807.0",
         "21060964.5"
        ],
        [
         "28",
         "0.005091884173452854",
         "2",
         "29456722",
         "37348",
         "11900305.0",
         "7091002.5"
        ],
        [
         "29",
         "0.0050774505361914635",
         "2",
         "178529",
         "100866",
         "11900305.0",
         "7091002.5"
        ],
        [
         "30",
         "0.1637561023235321",
         "3",
         "45499814",
         "78563",
         "51490799.0",
         "37759042.0"
        ],
        [
         "31",
         "0.16104678809642792",
         "3",
         "49961817",
         "68698",
         "51490799.0",
         "37759042.0"
        ],
        [
         "32",
         "0.1550963819026947",
         "3",
         "35505245",
         "95523",
         "35121554.0",
         "29243470.0"
        ],
        [
         "33",
         "0.14805015921592712",
         "3",
         "44184116",
         "62745",
         "51490799.0",
         "37759042.0"
        ],
        [
         "34",
         "0.14662835001945496",
         "3",
         "50834580",
         "54538",
         "35121554.0",
         "29243470.0"
        ],
        [
         "35",
         "0.14403444528579712",
         "3",
         "54798445",
         "67759",
         "35121554.0",
         "29243470.0"
        ],
        [
         "36",
         "0.14352843165397644",
         "3",
         "39946957",
         "65516",
         "51490799.0",
         "37759042.0"
        ],
        [
         "37",
         "0.13620689511299133",
         "3",
         "52380688",
         "65217",
         "51490799.0",
         "37759042.0"
        ],
        [
         "38",
         "0.1298973560333252",
         "3",
         "57921154",
         "68107",
         "51490799.0",
         "37759042.0"
        ],
        [
         "39",
         "0.1238599568605423",
         "3",
         "43052381",
         "49794",
         "51490799.0",
         "37759042.0"
        ],
        [
         "40",
         "0.13822156190872192",
         "4",
         "6705392",
         "80608",
         "9648178.0",
         "9648178.0"
        ],
        [
         "41",
         "0.11718130856752396",
         "4",
         "1710810",
         "48381",
         "29665807.0",
         "12473743.75"
        ],
        [
         "42",
         "0.11268487572669983",
         "4",
         "2280250",
         "33626",
         "9442075.0",
         "9442075.0"
        ],
        [
         "43",
         "0.11121371388435364",
         "4",
         "1703893",
         "25432",
         "29665807.0",
         "20967693.0"
        ],
        [
         "44",
         "0.10810836404561996",
         "4",
         "18820599",
         "43918",
         "29665807.0",
         "20295617.666666668"
        ],
        [
         "45",
         "0.10578933358192444",
         "4",
         "32851197",
         "35808",
         "51490799.0",
         "51490799.0"
        ],
        [
         "46",
         "0.10242718458175659",
         "4",
         "220499",
         "23164",
         "29665807.0",
         "29665807.0"
        ],
        [
         "47",
         "0.09941183775663376",
         "4",
         "9442712",
         "31267",
         "18951467.0",
         "18951467.0"
        ],
        [
         "48",
         "0.09784756600856781",
         "4",
         "51516485",
         "69822",
         "9442075.0",
         "9442075.0"
        ],
        [
         "49",
         "0.09694414585828781",
         "4",
         "25062866",
         "35729",
         "2175908.0",
         "2175908.0"
        ]
       ],
       "shape": {
        "columns": 6,
        "rows": 13723720
       }
      },
      "text/html": [
       "<div>\n",
       "<style scoped>\n",
       "    .dataframe tbody tr th:only-of-type {\n",
       "        vertical-align: middle;\n",
       "    }\n",
       "\n",
       "    .dataframe tbody tr th {\n",
       "        vertical-align: top;\n",
       "    }\n",
       "\n",
       "    .dataframe thead th {\n",
       "        text-align: right;\n",
       "    }\n",
       "</style>\n",
       "<table border=\"1\" class=\"dataframe\">\n",
       "  <thead>\n",
       "    <tr style=\"text-align: right;\">\n",
       "      <th></th>\n",
       "      <th>score</th>\n",
       "      <th>user_id</th>\n",
       "      <th>item_id</th>\n",
       "      <th>count</th>\n",
       "      <th>max_pop_genres</th>\n",
       "      <th>mean_pop_genres</th>\n",
       "    </tr>\n",
       "  </thead>\n",
       "  <tbody>\n",
       "    <tr>\n",
       "      <th>0</th>\n",
       "      <td>0.006968</td>\n",
       "      <td>0</td>\n",
       "      <td>178529</td>\n",
       "      <td>100866</td>\n",
       "      <td>11900305.0</td>\n",
       "      <td>7091002.5</td>\n",
       "    </tr>\n",
       "    <tr>\n",
       "      <th>1</th>\n",
       "      <td>0.006914</td>\n",
       "      <td>0</td>\n",
       "      <td>732401</td>\n",
       "      <td>63119</td>\n",
       "      <td>29665807.0</td>\n",
       "      <td>21060964.5</td>\n",
       "    </tr>\n",
       "    <tr>\n",
       "      <th>2</th>\n",
       "      <td>0.006585</td>\n",
       "      <td>0</td>\n",
       "      <td>560468</td>\n",
       "      <td>49261</td>\n",
       "      <td>29665807.0</td>\n",
       "      <td>21060964.5</td>\n",
       "    </tr>\n",
       "    <tr>\n",
       "      <th>3</th>\n",
       "      <td>0.006534</td>\n",
       "      <td>0</td>\n",
       "      <td>580880</td>\n",
       "      <td>54109</td>\n",
       "      <td>29665807.0</td>\n",
       "      <td>21060964.5</td>\n",
       "    </tr>\n",
       "    <tr>\n",
       "      <th>4</th>\n",
       "      <td>0.006134</td>\n",
       "      <td>0</td>\n",
       "      <td>560473</td>\n",
       "      <td>56537</td>\n",
       "      <td>29665807.0</td>\n",
       "      <td>21060964.5</td>\n",
       "    </tr>\n",
       "    <tr>\n",
       "      <th>...</th>\n",
       "      <td>...</td>\n",
       "      <td>...</td>\n",
       "      <td>...</td>\n",
       "      <td>...</td>\n",
       "      <td>...</td>\n",
       "      <td>...</td>\n",
       "    </tr>\n",
       "    <tr>\n",
       "      <th>13723715</th>\n",
       "      <td>0.154872</td>\n",
       "      <td>1374582</td>\n",
       "      <td>57921154</td>\n",
       "      <td>68107</td>\n",
       "      <td>51490799.0</td>\n",
       "      <td>37759042.0</td>\n",
       "    </tr>\n",
       "    <tr>\n",
       "      <th>13723716</th>\n",
       "      <td>0.151150</td>\n",
       "      <td>1374582</td>\n",
       "      <td>56920237</td>\n",
       "      <td>49212</td>\n",
       "      <td>51490799.0</td>\n",
       "      <td>37759042.0</td>\n",
       "    </tr>\n",
       "    <tr>\n",
       "      <th>13723717</th>\n",
       "      <td>0.149480</td>\n",
       "      <td>1374582</td>\n",
       "      <td>51241318</td>\n",
       "      <td>78533</td>\n",
       "      <td>3145110.0</td>\n",
       "      <td>3145110.0</td>\n",
       "    </tr>\n",
       "    <tr>\n",
       "      <th>13723718</th>\n",
       "      <td>0.148563</td>\n",
       "      <td>1374582</td>\n",
       "      <td>62352387</td>\n",
       "      <td>48469</td>\n",
       "      <td>51490799.0</td>\n",
       "      <td>37759042.0</td>\n",
       "    </tr>\n",
       "    <tr>\n",
       "      <th>13723719</th>\n",
       "      <td>0.145947</td>\n",
       "      <td>1374582</td>\n",
       "      <td>83063895</td>\n",
       "      <td>52469</td>\n",
       "      <td>51490799.0</td>\n",
       "      <td>37759042.0</td>\n",
       "    </tr>\n",
       "  </tbody>\n",
       "</table>\n",
       "<p>13723720 rows × 6 columns</p>\n",
       "</div>"
      ],
      "text/plain": [
       "             score  user_id   item_id   count  max_pop_genres  mean_pop_genres\n",
       "0         0.006968        0    178529  100866      11900305.0        7091002.5\n",
       "1         0.006914        0    732401   63119      29665807.0       21060964.5\n",
       "2         0.006585        0    560468   49261      29665807.0       21060964.5\n",
       "3         0.006534        0    580880   54109      29665807.0       21060964.5\n",
       "4         0.006134        0    560473   56537      29665807.0       21060964.5\n",
       "...            ...      ...       ...     ...             ...              ...\n",
       "13723715  0.154872  1374582  57921154   68107      51490799.0       37759042.0\n",
       "13723716  0.151150  1374582  56920237   49212      51490799.0       37759042.0\n",
       "13723717  0.149480  1374582  51241318   78533       3145110.0        3145110.0\n",
       "13723718  0.148563  1374582  62352387   48469      51490799.0       37759042.0\n",
       "13723719  0.145947  1374582  83063895   52469      51490799.0       37759042.0\n",
       "\n",
       "[13723720 rows x 6 columns]"
      ]
     },
     "execution_count": 26,
     "metadata": {},
     "output_type": "execute_result"
    }
   ],
   "source": [
    "candidates"
   ]
  },
  {
   "cell_type": "code",
   "execution_count": 27,
   "id": "b86c8799",
   "metadata": {},
   "outputs": [],
   "source": [
    "candidates.to_parquet(\"candidates.parquet\")\n",
    "\n",
    "s3_client.upload_file(\n",
    "            Filename = 'candidates.parquet',\n",
    "            Bucket = aws_bucket_name,\n",
    "            Key = f'{s3_recsys_path}candidates.parquet'\n",
    "        )"
   ]
  },
  {
   "cell_type": "code",
   "execution_count": 30,
   "id": "3a05ef49",
   "metadata": {},
   "outputs": [],
   "source": [
    "del als_recommendations\n",
    "del top_popular\n",
    "del pop_genres\n",
    "del items\n",
    "del candidates"
   ]
  },
  {
   "cell_type": "code",
   "execution_count": 8,
   "id": "f0ab1bd8",
   "metadata": {},
   "outputs": [],
   "source": [
    "events_test = pd.read_parquet('events_test.parquet')\n",
    "candidates = pd.read_parquet('candidates.parquet')"
   ]
  },
  {
   "cell_type": "code",
   "execution_count": 12,
   "id": "cbcea848",
   "metadata": {},
   "outputs": [],
   "source": [
    "# задаём точку разбиения\n",
    "split_date_for_labels = pd.to_datetime(\"2022-12-24\")\n",
    "\n",
    "split_date_for_labels_idx = events_test[\"started_at\"] < split_date_for_labels\n",
    "events_labels = events_test[events_test[\"started_at\"] < split_date_for_labels ].copy()\n",
    "events_test_2 = events_test[events_test[\"started_at\"] >= split_date_for_labels ].copy()"
   ]
  },
  {
   "cell_type": "code",
   "execution_count": 13,
   "id": "7f1d2383",
   "metadata": {},
   "outputs": [],
   "source": [
    "# добавляем таргет к кандидатам со значением:\n",
    "# — 1 для тех item_id, которые пользователь прочитал\n",
    "# — 0, для всех остальных \n",
    "\n",
    "events_labels[\"target\"] = 1\n",
    "candidates = candidates.merge(events_labels[[\"user_id\", \"item_id\", \"target\"]], \n",
    "                              on=[\"user_id\", \"item_id\"],\n",
    "    how=\"left\")\n",
    "                            \n",
    "candidates[\"target\"] = candidates[\"target\"].fillna(0).astype(\"int\")\n",
    "\n",
    "# в кандидатах оставляем только тех пользователей, у которых есть хотя бы один положительный таргет\n",
    "candidates_to_sample = candidates.groupby(\"user_id\").filter(lambda x: x[\"target\"].sum() > 0)\n",
    "\n",
    "# # для каждого пользователя оставляем только 4 негативных примера\n",
    "# negatives_per_user = 4\n",
    "# candidates_for_train = pd.concat([\n",
    "#     # ваш код здесь #,\n",
    "#      candidates_to_sample.query(\"target == 1\"),\n",
    "#     candidates_to_sample.query(\"target == 0\") \\\n",
    "#         .groupby(\"user_id\") \\\n",
    "#         .apply(lambda x: x.sample(negatives_per_user, random_state=0))\n",
    "#     ])"
   ]
  },
  {
   "cell_type": "code",
   "execution_count": 33,
   "id": "c81cfdd8",
   "metadata": {},
   "outputs": [
    {
     "data": {
      "application/vnd.microsoft.datawrangler.viewer.v0+json": {
       "columns": [
        {
         "name": "target",
         "rawType": "int64",
         "type": "integer"
        },
        {
         "name": "count",
         "rawType": "int64",
         "type": "integer"
        }
       ],
       "ref": "a0c59a45-2800-4e01-84b3-6f91cf343f2b",
       "rows": [
        [
         "0",
         "281556"
        ],
        [
         "1",
         "39384"
        ]
       ],
       "shape": {
        "columns": 1,
        "rows": 2
       }
      },
      "text/plain": [
       "target\n",
       "0    281556\n",
       "1     39384\n",
       "Name: count, dtype: int64"
      ]
     },
     "execution_count": 33,
     "metadata": {},
     "output_type": "execute_result"
    }
   ],
   "source": [
    "candidates_to_sample.target.value_counts()"
   ]
  },
  {
   "cell_type": "code",
   "execution_count": 37,
   "id": "00f84c35-f544-4c3d-ad53-9b1d2b684c75",
   "metadata": {},
   "outputs": [],
   "source": [
    "candidates_for_train = candidates_to_sample.copy(deep = True)"
   ]
  },
  {
   "cell_type": "code",
   "execution_count": 38,
   "id": "59454d55",
   "metadata": {},
   "outputs": [
    {
     "data": {
      "application/vnd.microsoft.datawrangler.viewer.v0+json": {
       "columns": [
        {
         "name": "index",
         "rawType": "int64",
         "type": "integer"
        },
        {
         "name": "score",
         "rawType": "float64",
         "type": "float"
        },
        {
         "name": "user_id",
         "rawType": "int32",
         "type": "integer"
        },
        {
         "name": "item_id",
         "rawType": "int64",
         "type": "integer"
        },
        {
         "name": "count",
         "rawType": "int64",
         "type": "integer"
        },
        {
         "name": "max_pop_genres",
         "rawType": "float64",
         "type": "float"
        },
        {
         "name": "mean_pop_genres",
         "rawType": "float64",
         "type": "float"
        },
        {
         "name": "target",
         "rawType": "int64",
         "type": "integer"
        }
       ],
       "ref": "72677f4c-2f35-454a-a295-e30187871a3d",
       "rows": [
        [
         "100",
         "0.0913466289639473",
         "10",
         "44184116",
         "62745",
         "51490799.0",
         "37759042.0",
         "0"
        ],
        [
         "101",
         "0.0856475830078125",
         "10",
         "45499814",
         "78563",
         "51490799.0",
         "37759042.0",
         "1"
        ],
        [
         "102",
         "0.0831083357334137",
         "10",
         "49961817",
         "68698",
         "51490799.0",
         "37759042.0",
         "0"
        ],
        [
         "103",
         "0.08009571582078934",
         "10",
         "52380688",
         "65217",
         "51490799.0",
         "37759042.0",
         "0"
        ],
        [
         "104",
         "0.07718340307474136",
         "10",
         "50834580",
         "54538",
         "35121554.0",
         "29243470.0",
         "0"
        ],
        [
         "105",
         "0.07522070407867432",
         "10",
         "39946957",
         "65516",
         "51490799.0",
         "37759042.0",
         "0"
        ],
        [
         "106",
         "0.07415226101875305",
         "10",
         "39257277",
         "77099",
         "14999003.0",
         "14999003.0",
         "0"
        ],
        [
         "107",
         "0.07298614084720612",
         "10",
         "50821247",
         "47738",
         "51490799.0",
         "37759042.0",
         "0"
        ],
        [
         "108",
         "0.07211048901081085",
         "10",
         "49125069",
         "42845",
         "51490799.0",
         "37759042.0",
         "1"
        ],
        [
         "109",
         "0.07200004905462265",
         "10",
         "51516485",
         "69822",
         "9442075.0",
         "9442075.0",
         "0"
        ],
        [
         "1380",
         "0.09104941785335541",
         "138",
         "65851540",
         "76100",
         "51490799.0",
         "37759042.0",
         "0"
        ],
        [
         "1381",
         "0.08321934193372726",
         "138",
         "49961817",
         "68698",
         "51490799.0",
         "37759042.0",
         "0"
        ],
        [
         "1382",
         "0.08124176412820816",
         "138",
         "54798445",
         "67759",
         "35121554.0",
         "29243470.0",
         "0"
        ],
        [
         "1383",
         "0.07939979434013367",
         "138",
         "62352387",
         "48469",
         "51490799.0",
         "37759042.0",
         "0"
        ],
        [
         "1384",
         "0.07901442050933838",
         "138",
         "57921154",
         "68107",
         "51490799.0",
         "37759042.0",
         "0"
        ],
        [
         "1385",
         "0.07798860967159271",
         "138",
         "45499814",
         "78563",
         "51490799.0",
         "37759042.0",
         "0"
        ],
        [
         "1386",
         "0.07711578905582428",
         "138",
         "52380688",
         "65217",
         "51490799.0",
         "37759042.0",
         "0"
        ],
        [
         "1387",
         "0.07555821537971497",
         "138",
         "76434671",
         "52690",
         "3696333.0",
         "2216955.0",
         "0"
        ],
        [
         "1388",
         "0.07269564270973206",
         "138",
         "70619465",
         "45522",
         "51490799.0",
         "37759042.0",
         "0"
        ],
        [
         "1389",
         "0.07214818149805069",
         "138",
         "83063895",
         "52469",
         "51490799.0",
         "37759042.0",
         "1"
        ],
        [
         "1620",
         "0.06801505386829376",
         "162",
         "2758009",
         "76305",
         "29665807.0",
         "12473743.75",
         "1"
        ],
        [
         "1621",
         "0.05705718696117401",
         "162",
         "52100",
         "57759",
         "51490799.0",
         "51490799.0",
         "0"
        ],
        [
         "1622",
         "0.056548167020082474",
         "162",
         "795836",
         "83749",
         "51490799.0",
         "31142061.666666668",
         "0"
        ],
        [
         "1623",
         "0.05619301274418831",
         "162",
         "10216",
         "51214",
         "29665807.0",
         "16137394.0",
         "0"
        ],
        [
         "1624",
         "0.053862281143665314",
         "162",
         "628320",
         "52529",
         "51490799.0",
         "51490799.0",
         "0"
        ],
        [
         "1625",
         "0.05334976688027382",
         "162",
         "48951",
         "69382",
         "29665807.0",
         "14848122.333333334",
         "0"
        ],
        [
         "1626",
         "0.05327267199754715",
         "162",
         "53404",
         "110025",
         "29665807.0",
         "17194521.333333332",
         "0"
        ],
        [
         "1627",
         "0.052363671362400055",
         "162",
         "28036311",
         "51878",
         "29665807.0",
         "16137394.0",
         "0"
        ],
        [
         "1628",
         "0.052098724991083145",
         "162",
         "732401",
         "63119",
         "29665807.0",
         "21060964.5",
         "0"
        ],
        [
         "1629",
         "0.05108870938420296",
         "162",
         "595258",
         "56157",
         "11900305.0",
         "6873114.0",
         "0"
        ],
        [
         "1640",
         "0.09148196876049042",
         "164",
         "2758009",
         "76305",
         "29665807.0",
         "12473743.75",
         "0"
        ],
        [
         "1641",
         "0.0857219398021698",
         "164",
         "628320",
         "52529",
         "51490799.0",
         "51490799.0",
         "0"
        ],
        [
         "1642",
         "0.07977111637592316",
         "164",
         "10216",
         "51214",
         "29665807.0",
         "16137394.0",
         "0"
        ],
        [
         "1643",
         "0.07829100638628006",
         "164",
         "308966",
         "41345",
         "51490799.0",
         "51490799.0",
         "0"
        ],
        [
         "1644",
         "0.0770072415471077",
         "164",
         "10776533",
         "39721",
         "29665807.0",
         "20967693.0",
         "1"
        ],
        [
         "1645",
         "0.07253928482532501",
         "164",
         "795836",
         "83749",
         "51490799.0",
         "31142061.666666668",
         "0"
        ],
        [
         "1646",
         "0.07248789817094803",
         "164",
         "52100",
         "57759",
         "51490799.0",
         "51490799.0",
         "0"
        ],
        [
         "1647",
         "0.07173341512680054",
         "164",
         "1721",
         "27536",
         "51490799.0",
         "51490799.0",
         "0"
        ],
        [
         "1648",
         "0.0713072419166565",
         "164",
         "4447862",
         "30362",
         "6553738.0",
         "6553738.0",
         "0"
        ],
        [
         "1649",
         "0.0711677297949791",
         "164",
         "628686",
         "35512",
         "29665807.0",
         "14848122.333333334",
         "0"
        ],
        [
         "2510",
         "0.11933562159538269",
         "251",
         "32947997",
         "80243",
         "51490799.0",
         "51490799.0",
         "1"
        ],
        [
         "2511",
         "0.0950918048620224",
         "251",
         "29544272",
         "78198",
         "9442075.0",
         "7537921.0",
         "0"
        ],
        [
         "2512",
         "0.09477129578590393",
         "251",
         "23559960",
         "69489",
         "9442075.0",
         "9442075.0",
         "0"
        ],
        [
         "2513",
         "0.0947512537240982",
         "251",
         "29611476",
         "67296",
         "5633767.0",
         "3979794.5",
         "0"
        ],
        [
         "2514",
         "0.09431669861078262",
         "251",
         "33311009",
         "101075",
         "29665807.0",
         "20967693.0",
         "0"
        ],
        [
         "2515",
         "0.09256521612405777",
         "251",
         "34976783",
         "66777",
         "29665807.0",
         "20967693.0",
         "0"
        ],
        [
         "2516",
         "0.08936095982789993",
         "251",
         "24692821",
         "84153",
         "9442075.0",
         "9442075.0",
         "0"
        ],
        [
         "2517",
         "0.08844707906246185",
         "251",
         "17902234",
         "62235",
         "14999003.0",
         "12323590.5",
         "0"
        ],
        [
         "2518",
         "0.08228316158056259",
         "251",
         "3703085",
         "59134",
         "29665807.0",
         "11908630.6",
         "0"
        ],
        [
         "2519",
         "0.08114542067050934",
         "251",
         "25995209",
         "51529",
         "14999003.0",
         "14999003.0",
         "0"
        ]
       ],
       "shape": {
        "columns": 7,
        "rows": 320940
       }
      },
      "text/html": [
       "<div>\n",
       "<style scoped>\n",
       "    .dataframe tbody tr th:only-of-type {\n",
       "        vertical-align: middle;\n",
       "    }\n",
       "\n",
       "    .dataframe tbody tr th {\n",
       "        vertical-align: top;\n",
       "    }\n",
       "\n",
       "    .dataframe thead th {\n",
       "        text-align: right;\n",
       "    }\n",
       "</style>\n",
       "<table border=\"1\" class=\"dataframe\">\n",
       "  <thead>\n",
       "    <tr style=\"text-align: right;\">\n",
       "      <th></th>\n",
       "      <th>score</th>\n",
       "      <th>user_id</th>\n",
       "      <th>item_id</th>\n",
       "      <th>count</th>\n",
       "      <th>max_pop_genres</th>\n",
       "      <th>mean_pop_genres</th>\n",
       "      <th>target</th>\n",
       "    </tr>\n",
       "  </thead>\n",
       "  <tbody>\n",
       "    <tr>\n",
       "      <th>100</th>\n",
       "      <td>0.091347</td>\n",
       "      <td>10</td>\n",
       "      <td>44184116</td>\n",
       "      <td>62745</td>\n",
       "      <td>51490799.0</td>\n",
       "      <td>37759042.0</td>\n",
       "      <td>0</td>\n",
       "    </tr>\n",
       "    <tr>\n",
       "      <th>101</th>\n",
       "      <td>0.085648</td>\n",
       "      <td>10</td>\n",
       "      <td>45499814</td>\n",
       "      <td>78563</td>\n",
       "      <td>51490799.0</td>\n",
       "      <td>37759042.0</td>\n",
       "      <td>1</td>\n",
       "    </tr>\n",
       "    <tr>\n",
       "      <th>102</th>\n",
       "      <td>0.083108</td>\n",
       "      <td>10</td>\n",
       "      <td>49961817</td>\n",
       "      <td>68698</td>\n",
       "      <td>51490799.0</td>\n",
       "      <td>37759042.0</td>\n",
       "      <td>0</td>\n",
       "    </tr>\n",
       "    <tr>\n",
       "      <th>103</th>\n",
       "      <td>0.080096</td>\n",
       "      <td>10</td>\n",
       "      <td>52380688</td>\n",
       "      <td>65217</td>\n",
       "      <td>51490799.0</td>\n",
       "      <td>37759042.0</td>\n",
       "      <td>0</td>\n",
       "    </tr>\n",
       "    <tr>\n",
       "      <th>104</th>\n",
       "      <td>0.077183</td>\n",
       "      <td>10</td>\n",
       "      <td>50834580</td>\n",
       "      <td>54538</td>\n",
       "      <td>35121554.0</td>\n",
       "      <td>29243470.0</td>\n",
       "      <td>0</td>\n",
       "    </tr>\n",
       "    <tr>\n",
       "      <th>...</th>\n",
       "      <td>...</td>\n",
       "      <td>...</td>\n",
       "      <td>...</td>\n",
       "      <td>...</td>\n",
       "      <td>...</td>\n",
       "      <td>...</td>\n",
       "      <td>...</td>\n",
       "    </tr>\n",
       "    <tr>\n",
       "      <th>13723715</th>\n",
       "      <td>0.154872</td>\n",
       "      <td>1374582</td>\n",
       "      <td>57921154</td>\n",
       "      <td>68107</td>\n",
       "      <td>51490799.0</td>\n",
       "      <td>37759042.0</td>\n",
       "      <td>0</td>\n",
       "    </tr>\n",
       "    <tr>\n",
       "      <th>13723716</th>\n",
       "      <td>0.151150</td>\n",
       "      <td>1374582</td>\n",
       "      <td>56920237</td>\n",
       "      <td>49212</td>\n",
       "      <td>51490799.0</td>\n",
       "      <td>37759042.0</td>\n",
       "      <td>0</td>\n",
       "    </tr>\n",
       "    <tr>\n",
       "      <th>13723717</th>\n",
       "      <td>0.149480</td>\n",
       "      <td>1374582</td>\n",
       "      <td>51241318</td>\n",
       "      <td>78533</td>\n",
       "      <td>3145110.0</td>\n",
       "      <td>3145110.0</td>\n",
       "      <td>0</td>\n",
       "    </tr>\n",
       "    <tr>\n",
       "      <th>13723718</th>\n",
       "      <td>0.148563</td>\n",
       "      <td>1374582</td>\n",
       "      <td>62352387</td>\n",
       "      <td>48469</td>\n",
       "      <td>51490799.0</td>\n",
       "      <td>37759042.0</td>\n",
       "      <td>0</td>\n",
       "    </tr>\n",
       "    <tr>\n",
       "      <th>13723719</th>\n",
       "      <td>0.145947</td>\n",
       "      <td>1374582</td>\n",
       "      <td>83063895</td>\n",
       "      <td>52469</td>\n",
       "      <td>51490799.0</td>\n",
       "      <td>37759042.0</td>\n",
       "      <td>1</td>\n",
       "    </tr>\n",
       "  </tbody>\n",
       "</table>\n",
       "<p>320940 rows × 7 columns</p>\n",
       "</div>"
      ],
      "text/plain": [
       "             score  user_id   item_id  count  max_pop_genres  mean_pop_genres  \\\n",
       "100       0.091347       10  44184116  62745      51490799.0       37759042.0   \n",
       "101       0.085648       10  45499814  78563      51490799.0       37759042.0   \n",
       "102       0.083108       10  49961817  68698      51490799.0       37759042.0   \n",
       "103       0.080096       10  52380688  65217      51490799.0       37759042.0   \n",
       "104       0.077183       10  50834580  54538      35121554.0       29243470.0   \n",
       "...            ...      ...       ...    ...             ...              ...   \n",
       "13723715  0.154872  1374582  57921154  68107      51490799.0       37759042.0   \n",
       "13723716  0.151150  1374582  56920237  49212      51490799.0       37759042.0   \n",
       "13723717  0.149480  1374582  51241318  78533       3145110.0        3145110.0   \n",
       "13723718  0.148563  1374582  62352387  48469      51490799.0       37759042.0   \n",
       "13723719  0.145947  1374582  83063895  52469      51490799.0       37759042.0   \n",
       "\n",
       "          target  \n",
       "100            0  \n",
       "101            1  \n",
       "102            0  \n",
       "103            0  \n",
       "104            0  \n",
       "...          ...  \n",
       "13723715       0  \n",
       "13723716       0  \n",
       "13723717       0  \n",
       "13723718       0  \n",
       "13723719       1  \n",
       "\n",
       "[320940 rows x 7 columns]"
      ]
     },
     "execution_count": 38,
     "metadata": {},
     "output_type": "execute_result"
    }
   ],
   "source": [
    "candidates_for_train"
   ]
  },
  {
   "cell_type": "code",
   "execution_count": 39,
   "id": "d7e9219c",
   "metadata": {},
   "outputs": [],
   "source": [
    "del candidates"
   ]
  },
  {
   "cell_type": "code",
   "execution_count": 40,
   "id": "e15af5d7",
   "metadata": {},
   "outputs": [],
   "source": [
    "del events_test"
   ]
  },
  {
   "cell_type": "markdown",
   "id": "47bcf88d-b236-46f0-a6f3-38ddd64895fe",
   "metadata": {},
   "source": [
    "# Ранжирование рекомендаций"
   ]
  },
  {
   "cell_type": "markdown",
   "id": "e8cd8223-3418-4493-8c87-1f76286ebda0",
   "metadata": {},
   "source": [
    "Построим ранжирующую модель, чтобы сделать рекомендации более точными. Отранжируем рекомендации."
   ]
  },
  {
   "cell_type": "code",
   "execution_count": 42,
   "id": "79f1dd92-32a9-463d-827e-8bb9ee5bbb54",
   "metadata": {},
   "outputs": [
    {
     "name": "stdout",
     "output_type": "stream",
     "text": [
      "0:\tlearn: 0.6223159\ttotal: 28.3ms\tremaining: 14.1s\n",
      "50:\tlearn: 0.3417358\ttotal: 1.42s\tremaining: 12.5s\n",
      "100:\tlearn: 0.3333376\ttotal: 2.86s\tremaining: 11.3s\n",
      "150:\tlearn: 0.3284958\ttotal: 4.27s\tremaining: 9.87s\n",
      "200:\tlearn: 0.3254874\ttotal: 5.73s\tremaining: 8.53s\n",
      "250:\tlearn: 0.3229626\ttotal: 7.17s\tremaining: 7.12s\n",
      "300:\tlearn: 0.3215137\ttotal: 8.62s\tremaining: 5.7s\n",
      "350:\tlearn: 0.3203843\ttotal: 10.1s\tremaining: 4.28s\n",
      "400:\tlearn: 0.3193683\ttotal: 11.5s\tremaining: 2.84s\n",
      "450:\tlearn: 0.3186252\ttotal: 12.9s\tremaining: 1.41s\n",
      "499:\tlearn: 0.3179895\ttotal: 14.4s\tremaining: 0us\n"
     ]
    },
    {
     "data": {
      "text/plain": [
       "<catboost.core.CatBoostClassifier at 0x7fee17fff910>"
      ]
     },
     "execution_count": 42,
     "metadata": {},
     "output_type": "execute_result"
    }
   ],
   "source": [
    "# задаём имена колонок признаков и таргета\n",
    "features = ['count', 'max_pop_genres', 'mean_pop_genres', 'score']\n",
    "target = 'target'\n",
    "\n",
    "# Create the Pool object\n",
    "train_data = Pool(\n",
    "    data=candidates_for_train[features], \n",
    "    label=candidates_for_train[target])\n",
    "\n",
    "# инициализируем модель CatBoostClassifier\n",
    "cb_model = CatBoostClassifier(\n",
    "    iterations=500,\n",
    "    learning_rate=0.1,\n",
    "    depth=6,\n",
    "    loss_function='Logloss',\n",
    "    verbose=50,\n",
    "    random_seed=0\n",
    ")\n",
    "\n",
    "# тренируем модель\n",
    "cb_model.fit(train_data)"
   ]
  },
  {
   "cell_type": "code",
   "execution_count": 43,
   "id": "5fec305a",
   "metadata": {},
   "outputs": [],
   "source": [
    "candidates = pd.read_parquet('candidates.parquet')"
   ]
  },
  {
   "cell_type": "code",
   "execution_count": 44,
   "id": "17063ca3",
   "metadata": {},
   "outputs": [],
   "source": [
    "events_test_2[\"target\"] = 1\n",
    "candidates_to_rank = candidates.merge(events_test_2[[\"user_id\", \"item_id\", \"target\"]], \n",
    "                              on=[\"user_id\", \"item_id\"],how=\"left\")\n",
    "                            \n",
    "candidates_to_rank[\"target\"] = candidates_to_rank[\"target\"].fillna(0).astype(\"int\")"
   ]
  },
  {
   "cell_type": "code",
   "execution_count": 45,
   "id": "03641054",
   "metadata": {},
   "outputs": [
    {
     "data": {
      "application/vnd.microsoft.datawrangler.viewer.v0+json": {
       "columns": [
        {
         "name": "index",
         "rawType": "int64",
         "type": "integer"
        },
        {
         "name": "score",
         "rawType": "float64",
         "type": "float"
        },
        {
         "name": "user_id",
         "rawType": "int32",
         "type": "integer"
        },
        {
         "name": "item_id",
         "rawType": "int64",
         "type": "integer"
        },
        {
         "name": "count",
         "rawType": "int64",
         "type": "integer"
        },
        {
         "name": "max_pop_genres",
         "rawType": "float64",
         "type": "float"
        },
        {
         "name": "mean_pop_genres",
         "rawType": "float64",
         "type": "float"
        },
        {
         "name": "target",
         "rawType": "int64",
         "type": "integer"
        }
       ],
       "ref": "44ed4257-c865-4f71-b155-3248490330f6",
       "rows": [
        [
         "0",
         "0.006968116853386164",
         "0",
         "178529",
         "100866",
         "11900305.0",
         "7091002.5",
         "0"
        ],
        [
         "1",
         "0.006913625169545412",
         "0",
         "732401",
         "63119",
         "29665807.0",
         "21060964.5",
         "0"
        ],
        [
         "2",
         "0.0065852804109454155",
         "0",
         "560468",
         "49261",
         "29665807.0",
         "21060964.5",
         "0"
        ],
        [
         "3",
         "0.00653392868116498",
         "0",
         "580880",
         "54109",
         "29665807.0",
         "21060964.5",
         "0"
        ],
        [
         "4",
         "0.0061338539235293865",
         "0",
         "560473",
         "56537",
         "29665807.0",
         "21060964.5",
         "0"
        ],
        [
         "5",
         "0.006123279687017202",
         "0",
         "35505245",
         "95523",
         "35121554.0",
         "29243470.0",
         "0"
        ],
        [
         "6",
         "0.006057473830878735",
         "0",
         "53404",
         "110025",
         "29665807.0",
         "17194521.333333332",
         "0"
        ],
        [
         "7",
         "0.005562294274568558",
         "0",
         "9047114",
         "57059",
         "29665807.0",
         "21060964.5",
         "0"
        ],
        [
         "8",
         "0.005551445297896862",
         "0",
         "33308946",
         "49991",
         "29665807.0",
         "15204585.5",
         "0"
        ],
        [
         "9",
         "0.005478554405272007",
         "0",
         "39089632",
         "57450",
         "29665807.0",
         "21060964.5",
         "0"
        ],
        [
         "10",
         "0.020994406193494797",
         "1",
         "50685843",
         "66321",
         "3602990.0",
         "3602990.0",
         "0"
        ],
        [
         "11",
         "0.019039997830986977",
         "1",
         "37258117",
         "56569",
         "3602990.0",
         "3602990.0",
         "0"
        ],
        [
         "12",
         "0.016486238688230515",
         "1",
         "9282507",
         "49094",
         "29665807.0",
         "21060964.5",
         "0"
        ],
        [
         "13",
         "0.016137152910232544",
         "1",
         "50684233",
         "44391",
         "29665807.0",
         "21060964.5",
         "0"
        ],
        [
         "14",
         "0.014532637782394886",
         "1",
         "39089632",
         "57450",
         "29665807.0",
         "21060964.5",
         "0"
        ],
        [
         "15",
         "0.014318851754069328",
         "1",
         "50685846",
         "35170",
         "3602990.0",
         "3602990.0",
         "0"
        ],
        [
         "16",
         "0.013470916077494621",
         "1",
         "560473",
         "56537",
         "29665807.0",
         "21060964.5",
         "0"
        ],
        [
         "17",
         "0.012968087568879128",
         "1",
         "32291816",
         "26663",
         "3602990.0",
         "3602990.0",
         "0"
        ],
        [
         "18",
         "0.012855553068220615",
         "1",
         "50688560",
         "27619",
         "3602990.0",
         "3602990.0",
         "0"
        ],
        [
         "19",
         "0.012605211697518826",
         "1",
         "2192826",
         "48770",
         "29665807.0",
         "21060964.5",
         "0"
        ],
        [
         "20",
         "0.006669978145509958",
         "2",
         "27032843",
         "49193",
         "11900305.0",
         "6686589.5",
         "0"
        ],
        [
         "21",
         "0.006568809039890766",
         "2",
         "37258117",
         "56569",
         "3602990.0",
         "3602990.0",
         "0"
        ],
        [
         "22",
         "0.005988379940390587",
         "2",
         "50685843",
         "66321",
         "3602990.0",
         "3602990.0",
         "0"
        ],
        [
         "23",
         "0.0057816337794065475",
         "2",
         "628970",
         "49866",
         "9648178.0",
         "9648178.0",
         "0"
        ],
        [
         "24",
         "0.0056345476768910885",
         "2",
         "646516",
         "40340",
         "11900305.0",
         "7331903.5",
         "0"
        ],
        [
         "25",
         "0.0053242165595293045",
         "2",
         "53404",
         "110025",
         "29665807.0",
         "17194521.333333332",
         "0"
        ],
        [
         "26",
         "0.005319919437170029",
         "2",
         "648937",
         "39037",
         "11900305.0",
         "7331903.5",
         "0"
        ],
        [
         "27",
         "0.00522784935310483",
         "2",
         "50684233",
         "44391",
         "29665807.0",
         "21060964.5",
         "0"
        ],
        [
         "28",
         "0.005091884173452854",
         "2",
         "29456722",
         "37348",
         "11900305.0",
         "7091002.5",
         "0"
        ],
        [
         "29",
         "0.0050774505361914635",
         "2",
         "178529",
         "100866",
         "11900305.0",
         "7091002.5",
         "0"
        ],
        [
         "30",
         "0.1637561023235321",
         "3",
         "45499814",
         "78563",
         "51490799.0",
         "37759042.0",
         "0"
        ],
        [
         "31",
         "0.16104678809642792",
         "3",
         "49961817",
         "68698",
         "51490799.0",
         "37759042.0",
         "0"
        ],
        [
         "32",
         "0.1550963819026947",
         "3",
         "35505245",
         "95523",
         "35121554.0",
         "29243470.0",
         "0"
        ],
        [
         "33",
         "0.14805015921592712",
         "3",
         "44184116",
         "62745",
         "51490799.0",
         "37759042.0",
         "0"
        ],
        [
         "34",
         "0.14662835001945496",
         "3",
         "50834580",
         "54538",
         "35121554.0",
         "29243470.0",
         "0"
        ],
        [
         "35",
         "0.14403444528579712",
         "3",
         "54798445",
         "67759",
         "35121554.0",
         "29243470.0",
         "0"
        ],
        [
         "36",
         "0.14352843165397644",
         "3",
         "39946957",
         "65516",
         "51490799.0",
         "37759042.0",
         "0"
        ],
        [
         "37",
         "0.13620689511299133",
         "3",
         "52380688",
         "65217",
         "51490799.0",
         "37759042.0",
         "0"
        ],
        [
         "38",
         "0.1298973560333252",
         "3",
         "57921154",
         "68107",
         "51490799.0",
         "37759042.0",
         "0"
        ],
        [
         "39",
         "0.1238599568605423",
         "3",
         "43052381",
         "49794",
         "51490799.0",
         "37759042.0",
         "0"
        ],
        [
         "40",
         "0.13822156190872192",
         "4",
         "6705392",
         "80608",
         "9648178.0",
         "9648178.0",
         "0"
        ],
        [
         "41",
         "0.11718130856752396",
         "4",
         "1710810",
         "48381",
         "29665807.0",
         "12473743.75",
         "0"
        ],
        [
         "42",
         "0.11268487572669983",
         "4",
         "2280250",
         "33626",
         "9442075.0",
         "9442075.0",
         "0"
        ],
        [
         "43",
         "0.11121371388435364",
         "4",
         "1703893",
         "25432",
         "29665807.0",
         "20967693.0",
         "0"
        ],
        [
         "44",
         "0.10810836404561996",
         "4",
         "18820599",
         "43918",
         "29665807.0",
         "20295617.666666668",
         "0"
        ],
        [
         "45",
         "0.10578933358192444",
         "4",
         "32851197",
         "35808",
         "51490799.0",
         "51490799.0",
         "0"
        ],
        [
         "46",
         "0.10242718458175659",
         "4",
         "220499",
         "23164",
         "29665807.0",
         "29665807.0",
         "0"
        ],
        [
         "47",
         "0.09941183775663376",
         "4",
         "9442712",
         "31267",
         "18951467.0",
         "18951467.0",
         "0"
        ],
        [
         "48",
         "0.09784756600856781",
         "4",
         "51516485",
         "69822",
         "9442075.0",
         "9442075.0",
         "0"
        ],
        [
         "49",
         "0.09694414585828781",
         "4",
         "25062866",
         "35729",
         "2175908.0",
         "2175908.0",
         "0"
        ]
       ],
       "shape": {
        "columns": 7,
        "rows": 13723720
       }
      },
      "text/html": [
       "<div>\n",
       "<style scoped>\n",
       "    .dataframe tbody tr th:only-of-type {\n",
       "        vertical-align: middle;\n",
       "    }\n",
       "\n",
       "    .dataframe tbody tr th {\n",
       "        vertical-align: top;\n",
       "    }\n",
       "\n",
       "    .dataframe thead th {\n",
       "        text-align: right;\n",
       "    }\n",
       "</style>\n",
       "<table border=\"1\" class=\"dataframe\">\n",
       "  <thead>\n",
       "    <tr style=\"text-align: right;\">\n",
       "      <th></th>\n",
       "      <th>score</th>\n",
       "      <th>user_id</th>\n",
       "      <th>item_id</th>\n",
       "      <th>count</th>\n",
       "      <th>max_pop_genres</th>\n",
       "      <th>mean_pop_genres</th>\n",
       "      <th>target</th>\n",
       "    </tr>\n",
       "  </thead>\n",
       "  <tbody>\n",
       "    <tr>\n",
       "      <th>0</th>\n",
       "      <td>0.006968</td>\n",
       "      <td>0</td>\n",
       "      <td>178529</td>\n",
       "      <td>100866</td>\n",
       "      <td>11900305.0</td>\n",
       "      <td>7091002.5</td>\n",
       "      <td>0</td>\n",
       "    </tr>\n",
       "    <tr>\n",
       "      <th>1</th>\n",
       "      <td>0.006914</td>\n",
       "      <td>0</td>\n",
       "      <td>732401</td>\n",
       "      <td>63119</td>\n",
       "      <td>29665807.0</td>\n",
       "      <td>21060964.5</td>\n",
       "      <td>0</td>\n",
       "    </tr>\n",
       "    <tr>\n",
       "      <th>2</th>\n",
       "      <td>0.006585</td>\n",
       "      <td>0</td>\n",
       "      <td>560468</td>\n",
       "      <td>49261</td>\n",
       "      <td>29665807.0</td>\n",
       "      <td>21060964.5</td>\n",
       "      <td>0</td>\n",
       "    </tr>\n",
       "    <tr>\n",
       "      <th>3</th>\n",
       "      <td>0.006534</td>\n",
       "      <td>0</td>\n",
       "      <td>580880</td>\n",
       "      <td>54109</td>\n",
       "      <td>29665807.0</td>\n",
       "      <td>21060964.5</td>\n",
       "      <td>0</td>\n",
       "    </tr>\n",
       "    <tr>\n",
       "      <th>4</th>\n",
       "      <td>0.006134</td>\n",
       "      <td>0</td>\n",
       "      <td>560473</td>\n",
       "      <td>56537</td>\n",
       "      <td>29665807.0</td>\n",
       "      <td>21060964.5</td>\n",
       "      <td>0</td>\n",
       "    </tr>\n",
       "    <tr>\n",
       "      <th>...</th>\n",
       "      <td>...</td>\n",
       "      <td>...</td>\n",
       "      <td>...</td>\n",
       "      <td>...</td>\n",
       "      <td>...</td>\n",
       "      <td>...</td>\n",
       "      <td>...</td>\n",
       "    </tr>\n",
       "    <tr>\n",
       "      <th>13723715</th>\n",
       "      <td>0.154872</td>\n",
       "      <td>1374582</td>\n",
       "      <td>57921154</td>\n",
       "      <td>68107</td>\n",
       "      <td>51490799.0</td>\n",
       "      <td>37759042.0</td>\n",
       "      <td>0</td>\n",
       "    </tr>\n",
       "    <tr>\n",
       "      <th>13723716</th>\n",
       "      <td>0.151150</td>\n",
       "      <td>1374582</td>\n",
       "      <td>56920237</td>\n",
       "      <td>49212</td>\n",
       "      <td>51490799.0</td>\n",
       "      <td>37759042.0</td>\n",
       "      <td>0</td>\n",
       "    </tr>\n",
       "    <tr>\n",
       "      <th>13723717</th>\n",
       "      <td>0.149480</td>\n",
       "      <td>1374582</td>\n",
       "      <td>51241318</td>\n",
       "      <td>78533</td>\n",
       "      <td>3145110.0</td>\n",
       "      <td>3145110.0</td>\n",
       "      <td>0</td>\n",
       "    </tr>\n",
       "    <tr>\n",
       "      <th>13723718</th>\n",
       "      <td>0.148563</td>\n",
       "      <td>1374582</td>\n",
       "      <td>62352387</td>\n",
       "      <td>48469</td>\n",
       "      <td>51490799.0</td>\n",
       "      <td>37759042.0</td>\n",
       "      <td>0</td>\n",
       "    </tr>\n",
       "    <tr>\n",
       "      <th>13723719</th>\n",
       "      <td>0.145947</td>\n",
       "      <td>1374582</td>\n",
       "      <td>83063895</td>\n",
       "      <td>52469</td>\n",
       "      <td>51490799.0</td>\n",
       "      <td>37759042.0</td>\n",
       "      <td>0</td>\n",
       "    </tr>\n",
       "  </tbody>\n",
       "</table>\n",
       "<p>13723720 rows × 7 columns</p>\n",
       "</div>"
      ],
      "text/plain": [
       "             score  user_id   item_id   count  max_pop_genres  \\\n",
       "0         0.006968        0    178529  100866      11900305.0   \n",
       "1         0.006914        0    732401   63119      29665807.0   \n",
       "2         0.006585        0    560468   49261      29665807.0   \n",
       "3         0.006534        0    580880   54109      29665807.0   \n",
       "4         0.006134        0    560473   56537      29665807.0   \n",
       "...            ...      ...       ...     ...             ...   \n",
       "13723715  0.154872  1374582  57921154   68107      51490799.0   \n",
       "13723716  0.151150  1374582  56920237   49212      51490799.0   \n",
       "13723717  0.149480  1374582  51241318   78533       3145110.0   \n",
       "13723718  0.148563  1374582  62352387   48469      51490799.0   \n",
       "13723719  0.145947  1374582  83063895   52469      51490799.0   \n",
       "\n",
       "          mean_pop_genres  target  \n",
       "0               7091002.5       0  \n",
       "1              21060964.5       0  \n",
       "2              21060964.5       0  \n",
       "3              21060964.5       0  \n",
       "4              21060964.5       0  \n",
       "...                   ...     ...  \n",
       "13723715       37759042.0       0  \n",
       "13723716       37759042.0       0  \n",
       "13723717        3145110.0       0  \n",
       "13723718       37759042.0       0  \n",
       "13723719       37759042.0       0  \n",
       "\n",
       "[13723720 rows x 7 columns]"
      ]
     },
     "execution_count": 45,
     "metadata": {},
     "output_type": "execute_result"
    }
   ],
   "source": [
    "candidates_to_rank"
   ]
  },
  {
   "cell_type": "code",
   "execution_count": 46,
   "id": "3ab13d90",
   "metadata": {},
   "outputs": [],
   "source": [
    "inference_data = Pool(data=candidates_to_rank[features], feature_names=features)\n",
    "predictions = cb_model.predict_proba(inference_data)\n",
    "\n",
    "candidates_to_rank[\"cb_score\"] = predictions[:, 1] \n",
    "\n",
    "# для каждого пользователя проставим rank, начиная с 1 — это максимальный cb_score\n",
    "candidates_to_rank = candidates_to_rank.sort_values([\"user_id\", \"cb_score\"], ascending=[True, False])\n",
    "candidates_to_rank[\"rank\"] = candidates_to_rank.groupby(\"user_id\").cumcount() + 1 # ваш код здесь #\n",
    "\n",
    "max_recommendations_per_user = 10\n",
    "final_recommendations = candidates_to_rank.query(\"rank <= @max_recommendations_per_user\")"
   ]
  },
  {
   "cell_type": "code",
   "execution_count": 47,
   "id": "7ab00772",
   "metadata": {},
   "outputs": [],
   "source": [
    "final_recommendations.to_parquet(\"final_recommendations.parquet\")\n",
    "\n",
    "s3_client.upload_file(\n",
    "            Filename = 'final_recommendations.parquet',\n",
    "            Bucket = aws_bucket_name,\n",
    "            Key = f'{s3_recsys_path}final_recommendations.parquet'\n",
    "        )"
   ]
  },
  {
   "cell_type": "code",
   "execution_count": 60,
   "id": "70a932e2",
   "metadata": {},
   "outputs": [
    {
     "ename": "NameError",
     "evalue": "name 'candidates_to_rank' is not defined",
     "output_type": "error",
     "traceback": [
      "\u001b[0;31m---------------------------------------------------------------------------\u001b[0m",
      "\u001b[0;31mNameError\u001b[0m                                 Traceback (most recent call last)",
      "Cell \u001b[0;32mIn[60], line 2\u001b[0m\n\u001b[1;32m      1\u001b[0m \u001b[38;5;28;01mdel\u001b[39;00m final_recommendations\n\u001b[0;32m----> 2\u001b[0m \u001b[38;5;28;01mdel\u001b[39;00m candidates_to_rank\n\u001b[1;32m      3\u001b[0m \u001b[38;5;28;01mdel\u001b[39;00m candidates_for_train\n\u001b[1;32m      4\u001b[0m \u001b[38;5;28;01mdel\u001b[39;00m candidates_to_sample\n",
      "\u001b[0;31mNameError\u001b[0m: name 'candidates_to_rank' is not defined"
     ]
    }
   ],
   "source": [
    "del final_recommendations\n",
    "del candidates_to_rank\n",
    "del candidates_for_train\n",
    "del candidates_to_sample"
   ]
  },
  {
   "cell_type": "markdown",
   "id": "b3c84071-45b5-4a15-a683-e0ab034a3128",
   "metadata": {},
   "source": [
    "# Оценка качества"
   ]
  },
  {
   "cell_type": "markdown",
   "id": "1b107fe4-554e-42b1-87d9-c435a52bb77a",
   "metadata": {},
   "source": [
    "Проверим оценку качества трёх типов рекомендаций: \n",
    "\n",
    "- топ популярных,\n",
    "- персональных, полученных при помощи ALS,\n",
    "- итоговых\n",
    "  \n",
    "по четырем метрикам: recall, precision, coverage, novelty."
   ]
  },
  {
   "cell_type": "code",
   "execution_count": 8,
   "id": "94d6f388-aecb-443e-8647-14014e932d4d",
   "metadata": {},
   "outputs": [],
   "source": [
    "def process_events_recs_for_binary_metrics(events_train, events_test, recs, top_k=None):\n",
    "\n",
    "    \"\"\"\n",
    "    размечает пары <user_id, item_id> для общего множества пользователей признаками\n",
    "    - gt (ground truth)\n",
    "    - pr (prediction)\n",
    "    top_k: расчёт ведётся только для top k-рекомендаций\n",
    "    \"\"\"\n",
    "\n",
    "    events_test[\"gt\"] = True\n",
    "    common_users = set(events_test[\"user_id\"]) & set(recs[\"user_id\"])\n",
    "\n",
    "    print(f\"Common users: {len(common_users)}\")\n",
    "    \n",
    "    events_for_common_users = events_test[events_test[\"user_id\"].isin(common_users)].copy()\n",
    "    recs_for_common_users = recs[recs[\"user_id\"].isin(common_users)].copy()\n",
    "\n",
    "    recs_for_common_users = recs_for_common_users.sort_values([\"user_id\", \"score\"], ascending=[True, False])\n",
    "\n",
    "    # оставляет только те item_id, которые были в events_train, \n",
    "    # т. к. модель не имела никакой возможности давать рекомендации для новых айтемов\n",
    "    events_for_common_users = events_for_common_users[events_for_common_users[\"item_id\"].isin(events_train[\"item_id\"].unique())]\n",
    "\n",
    "    if top_k is not None:\n",
    "        recs_for_common_users = recs_for_common_users.groupby(\"user_id\").head(top_k)\n",
    "    \n",
    "    events_recs_common = events_for_common_users[[\"user_id\", \"item_id\", \"gt\"]].merge(\n",
    "        recs_for_common_users[[\"user_id\", \"item_id\", \"score\"]], \n",
    "        on=[\"user_id\", \"item_id\"], how=\"outer\")    \n",
    "\n",
    "    events_recs_common[\"gt\"] = events_recs_common[\"gt\"].fillna(False)\n",
    "    events_recs_common[\"pr\"] = ~events_recs_common[\"score\"].isnull()\n",
    "    \n",
    "    events_recs_common[\"tp\"] = events_recs_common[\"gt\"] & events_recs_common[\"pr\"]\n",
    "    events_recs_common[\"fp\"] = ~events_recs_common[\"gt\"] & events_recs_common[\"pr\"]\n",
    "    events_recs_common[\"fn\"] = events_recs_common[\"gt\"] & ~events_recs_common[\"pr\"]\n",
    "\n",
    "    return events_recs_common"
   ]
  },
  {
   "cell_type": "code",
   "execution_count": 9,
   "id": "d350c7a1",
   "metadata": {},
   "outputs": [],
   "source": [
    "def compute_cls_metrics(events_recs_for_binary_metric):\n",
    "    \n",
    "    groupper = events_recs_for_binary_metric.groupby(\"user_id\")\n",
    "\n",
    "    # precision = tp / (tp + fp)\n",
    "    precision = groupper[\"tp\"].sum()/(groupper[\"tp\"].sum()+groupper[\"fp\"].sum())\n",
    "    precision = precision.fillna(0).mean()\n",
    "    \n",
    "    # recall = tp / (tp + fn)\n",
    "    recall = groupper[\"tp\"].sum()/(groupper[\"tp\"].sum()+groupper[\"fn\"].sum()) # ваш код здесь #\n",
    "    recall = recall.fillna(0).mean()\n",
    "\n",
    "    return precision, recall"
   ]
  },
  {
   "cell_type": "code",
   "execution_count": 10,
   "id": "26df411f-14c1-4848-8797-f37afe449cc6",
   "metadata": {},
   "outputs": [],
   "source": [
    "final_recommendations = pd.read_parquet(\"final_recommendations.parquet\")\n",
    "events_train = pd.read_parquet(\"events_train.parquet\")\n",
    "events_test = pd.read_parquet(\"events_test.parquet\")"
   ]
  },
  {
   "cell_type": "code",
   "execution_count": 13,
   "id": "2d1e638c",
   "metadata": {},
   "outputs": [],
   "source": [
    "events_inference = pd.concat([events_train, events_labels])"
   ]
  },
  {
   "cell_type": "code",
   "execution_count": 14,
   "id": "d3bbecfa",
   "metadata": {},
   "outputs": [
    {
     "data": {
      "text/plain": [
       "0"
      ]
     },
     "execution_count": 14,
     "metadata": {},
     "output_type": "execute_result"
    }
   ],
   "source": [
    "gc.collect()"
   ]
  },
  {
   "cell_type": "code",
   "execution_count": 15,
   "id": "04632b7a",
   "metadata": {},
   "outputs": [
    {
     "data": {
      "application/vnd.microsoft.datawrangler.viewer.v0+json": {
       "columns": [
        {
         "name": "target",
         "rawType": "int64",
         "type": "integer"
        },
        {
         "name": "count",
         "rawType": "int64",
         "type": "integer"
        }
       ],
       "ref": "501d8876-fe26-4b3d-add3-6a8f6c4a8d32",
       "rows": [
        [
         "0",
         "13710018"
        ],
        [
         "1",
         "13702"
        ]
       ],
       "shape": {
        "columns": 1,
        "rows": 2
       }
      },
      "text/plain": [
       "target\n",
       "0    13710018\n",
       "1       13702\n",
       "Name: count, dtype: int64"
      ]
     },
     "execution_count": 15,
     "metadata": {},
     "output_type": "execute_result"
    }
   ],
   "source": [
    "final_recommendations.target.value_counts()"
   ]
  },
  {
   "cell_type": "code",
   "execution_count": 16,
   "id": "1e0aea6a",
   "metadata": {},
   "outputs": [
    {
     "data": {
      "application/vnd.microsoft.datawrangler.viewer.v0+json": {
       "columns": [
        {
         "name": "index",
         "rawType": "int64",
         "type": "integer"
        },
        {
         "name": "score",
         "rawType": "float64",
         "type": "float"
        },
        {
         "name": "user_id",
         "rawType": "int32",
         "type": "integer"
        },
        {
         "name": "item_id",
         "rawType": "int64",
         "type": "integer"
        },
        {
         "name": "count",
         "rawType": "int64",
         "type": "integer"
        },
        {
         "name": "max_pop_genres",
         "rawType": "float64",
         "type": "float"
        },
        {
         "name": "mean_pop_genres",
         "rawType": "float64",
         "type": "float"
        },
        {
         "name": "target",
         "rawType": "int64",
         "type": "integer"
        },
        {
         "name": "cb_score",
         "rawType": "float64",
         "type": "float"
        },
        {
         "name": "rank",
         "rawType": "int64",
         "type": "integer"
        }
       ],
       "ref": "977ae661-e887-4aba-9a99-206958175eb4",
       "rows": [
        [
         "9",
         "0.005478554405272007",
         "0",
         "39089632",
         "57450",
         "29665807.0",
         "21060964.5",
         "0",
         "0.12406316253571711",
         "1"
        ],
        [
         "5",
         "0.006123279687017202",
         "0",
         "35505245",
         "95523",
         "35121554.0",
         "29243470.0",
         "0",
         "0.11564380755591284",
         "2"
        ],
        [
         "7",
         "0.005562294274568558",
         "0",
         "9047114",
         "57059",
         "29665807.0",
         "21060964.5",
         "0",
         "0.08628969326777475",
         "3"
        ],
        [
         "8",
         "0.005551445297896862",
         "0",
         "33308946",
         "49991",
         "29665807.0",
         "15204585.5",
         "0",
         "0.07778962727622914",
         "4"
        ],
        [
         "1",
         "0.006913625169545412",
         "0",
         "732401",
         "63119",
         "29665807.0",
         "21060964.5",
         "0",
         "0.07327087598147053",
         "5"
        ],
        [
         "0",
         "0.006968116853386164",
         "0",
         "178529",
         "100866",
         "11900305.0",
         "7091002.5",
         "0",
         "0.05711702135693068",
         "6"
        ],
        [
         "4",
         "0.0061338539235293865",
         "0",
         "560473",
         "56537",
         "29665807.0",
         "21060964.5",
         "0",
         "0.05174823660498682",
         "7"
        ],
        [
         "2",
         "0.0065852804109454155",
         "0",
         "560468",
         "49261",
         "29665807.0",
         "21060964.5",
         "0",
         "0.046208958186235084",
         "8"
        ],
        [
         "3",
         "0.00653392868116498",
         "0",
         "580880",
         "54109",
         "29665807.0",
         "21060964.5",
         "0",
         "0.045384037753452997",
         "9"
        ],
        [
         "6",
         "0.006057473830878735",
         "0",
         "53404",
         "110025",
         "29665807.0",
         "17194521.333333332",
         "0",
         "0.02655562811236098",
         "10"
        ],
        [
         "13",
         "0.016137152910232544",
         "1",
         "50684233",
         "44391",
         "29665807.0",
         "21060964.5",
         "0",
         "0.35235176647785205",
         "1"
        ],
        [
         "10",
         "0.020994406193494797",
         "1",
         "50685843",
         "66321",
         "3602990.0",
         "3602990.0",
         "0",
         "0.3141870789795189",
         "2"
        ],
        [
         "15",
         "0.014318851754069328",
         "1",
         "50685846",
         "35170",
         "3602990.0",
         "3602990.0",
         "0",
         "0.2335275359259471",
         "3"
        ],
        [
         "18",
         "0.012855553068220615",
         "1",
         "50688560",
         "27619",
         "3602990.0",
         "3602990.0",
         "0",
         "0.19759637120247497",
         "4"
        ],
        [
         "14",
         "0.014532637782394886",
         "1",
         "39089632",
         "57450",
         "29665807.0",
         "21060964.5",
         "0",
         "0.1481285439418189",
         "5"
        ],
        [
         "17",
         "0.012968087568879128",
         "1",
         "32291816",
         "26663",
         "3602990.0",
         "3602990.0",
         "0",
         "0.10327303067926905",
         "6"
        ],
        [
         "11",
         "0.019039997830986977",
         "1",
         "37258117",
         "56569",
         "3602990.0",
         "3602990.0",
         "0",
         "0.09951437971599855",
         "7"
        ],
        [
         "19",
         "0.012605211697518826",
         "1",
         "2192826",
         "48770",
         "29665807.0",
         "21060964.5",
         "0",
         "0.08183412758475063",
         "8"
        ],
        [
         "12",
         "0.016486238688230515",
         "1",
         "9282507",
         "49094",
         "29665807.0",
         "21060964.5",
         "0",
         "0.06530936733575887",
         "9"
        ],
        [
         "16",
         "0.013470916077494621",
         "1",
         "560473",
         "56537",
         "29665807.0",
         "21060964.5",
         "0",
         "0.04622948386138925",
         "10"
        ],
        [
         "28",
         "0.005091884173452854",
         "2",
         "29456722",
         "37348",
         "11900305.0",
         "7091002.5",
         "0",
         "0.27123037072911294",
         "1"
        ],
        [
         "27",
         "0.00522784935310483",
         "2",
         "50684233",
         "44391",
         "29665807.0",
         "21060964.5",
         "0",
         "0.26094817508965285",
         "2"
        ],
        [
         "22",
         "0.005988379940390587",
         "2",
         "50685843",
         "66321",
         "3602990.0",
         "3602990.0",
         "0",
         "0.21094504579954887",
         "3"
        ],
        [
         "20",
         "0.006669978145509958",
         "2",
         "27032843",
         "49193",
         "11900305.0",
         "6686589.5",
         "0",
         "0.1563832889975217",
         "4"
        ],
        [
         "24",
         "0.0056345476768910885",
         "2",
         "646516",
         "40340",
         "11900305.0",
         "7331903.5",
         "0",
         "0.14288124173754782",
         "5"
        ],
        [
         "21",
         "0.006568809039890766",
         "2",
         "37258117",
         "56569",
         "3602990.0",
         "3602990.0",
         "0",
         "0.12608766246864803",
         "6"
        ],
        [
         "23",
         "0.0057816337794065475",
         "2",
         "628970",
         "49866",
         "9648178.0",
         "9648178.0",
         "0",
         "0.09967645950676789",
         "7"
        ],
        [
         "26",
         "0.005319919437170029",
         "2",
         "648937",
         "39037",
         "11900305.0",
         "7331903.5",
         "0",
         "0.08708227800002125",
         "8"
        ],
        [
         "29",
         "0.0050774505361914635",
         "2",
         "178529",
         "100866",
         "11900305.0",
         "7091002.5",
         "0",
         "0.05871682325742157",
         "9"
        ],
        [
         "25",
         "0.0053242165595293045",
         "2",
         "53404",
         "110025",
         "29665807.0",
         "17194521.333333332",
         "0",
         "0.02661325315451527",
         "10"
        ],
        [
         "38",
         "0.1298973560333252",
         "3",
         "57921154",
         "68107",
         "51490799.0",
         "37759042.0",
         "0",
         "0.21189572347904406",
         "1"
        ],
        [
         "35",
         "0.14403444528579712",
         "3",
         "54798445",
         "67759",
         "35121554.0",
         "29243470.0",
         "0",
         "0.19640489926283872",
         "2"
        ],
        [
         "34",
         "0.14662835001945496",
         "3",
         "50834580",
         "54538",
         "35121554.0",
         "29243470.0",
         "0",
         "0.1548801309808721",
         "3"
        ],
        [
         "31",
         "0.16104678809642792",
         "3",
         "49961817",
         "68698",
         "51490799.0",
         "37759042.0",
         "0",
         "0.1544923108610457",
         "4"
        ],
        [
         "39",
         "0.1238599568605423",
         "3",
         "43052381",
         "49794",
         "51490799.0",
         "37759042.0",
         "0",
         "0.11776643802990076",
         "5"
        ],
        [
         "33",
         "0.14805015921592712",
         "3",
         "44184116",
         "62745",
         "51490799.0",
         "37759042.0",
         "0",
         "0.10686648380067783",
         "6"
        ],
        [
         "30",
         "0.1637561023235321",
         "3",
         "45499814",
         "78563",
         "51490799.0",
         "37759042.0",
         "0",
         "0.09974822254974533",
         "7"
        ],
        [
         "37",
         "0.13620689511299133",
         "3",
         "52380688",
         "65217",
         "51490799.0",
         "37759042.0",
         "0",
         "0.07408564643550854",
         "8"
        ],
        [
         "32",
         "0.1550963819026947",
         "3",
         "35505245",
         "95523",
         "35121554.0",
         "29243470.0",
         "0",
         "0.03217135354429553",
         "9"
        ],
        [
         "36",
         "0.14352843165397644",
         "3",
         "39946957",
         "65516",
         "51490799.0",
         "37759042.0",
         "0",
         "0.014902541565896984",
         "10"
        ],
        [
         "45",
         "0.10578933358192444",
         "4",
         "32851197",
         "35808",
         "51490799.0",
         "51490799.0",
         "0",
         "0.44607820233213175",
         "1"
        ],
        [
         "48",
         "0.09784756600856781",
         "4",
         "51516485",
         "69822",
         "9442075.0",
         "9442075.0",
         "0",
         "0.31763448029623126",
         "2"
        ],
        [
         "49",
         "0.09694414585828781",
         "4",
         "25062866",
         "35729",
         "2175908.0",
         "2175908.0",
         "0",
         "0.11360591476520718",
         "3"
        ],
        [
         "40",
         "0.13822156190872192",
         "4",
         "6705392",
         "80608",
         "9648178.0",
         "9648178.0",
         "0",
         "0.10956495587644352",
         "4"
        ],
        [
         "44",
         "0.10810836404561996",
         "4",
         "18820599",
         "43918",
         "29665807.0",
         "20295617.666666668",
         "0",
         "0.07003741926347239",
         "5"
        ],
        [
         "47",
         "0.09941183775663376",
         "4",
         "9442712",
         "31267",
         "18951467.0",
         "18951467.0",
         "0",
         "0.0631541662168779",
         "6"
        ],
        [
         "41",
         "0.11718130856752396",
         "4",
         "1710810",
         "48381",
         "29665807.0",
         "12473743.75",
         "0",
         "0.05688781772266887",
         "7"
        ],
        [
         "43",
         "0.11121371388435364",
         "4",
         "1703893",
         "25432",
         "29665807.0",
         "20967693.0",
         "0",
         "0.030015310472112682",
         "8"
        ],
        [
         "46",
         "0.10242718458175659",
         "4",
         "220499",
         "23164",
         "29665807.0",
         "29665807.0",
         "0",
         "0.028051243997996397",
         "9"
        ],
        [
         "42",
         "0.11268487572669983",
         "4",
         "2280250",
         "33626",
         "9442075.0",
         "9442075.0",
         "0",
         "0.011308150773959478",
         "10"
        ]
       ],
       "shape": {
        "columns": 9,
        "rows": 13723720
       }
      },
      "text/html": [
       "<div>\n",
       "<style scoped>\n",
       "    .dataframe tbody tr th:only-of-type {\n",
       "        vertical-align: middle;\n",
       "    }\n",
       "\n",
       "    .dataframe tbody tr th {\n",
       "        vertical-align: top;\n",
       "    }\n",
       "\n",
       "    .dataframe thead th {\n",
       "        text-align: right;\n",
       "    }\n",
       "</style>\n",
       "<table border=\"1\" class=\"dataframe\">\n",
       "  <thead>\n",
       "    <tr style=\"text-align: right;\">\n",
       "      <th></th>\n",
       "      <th>score</th>\n",
       "      <th>user_id</th>\n",
       "      <th>item_id</th>\n",
       "      <th>count</th>\n",
       "      <th>max_pop_genres</th>\n",
       "      <th>mean_pop_genres</th>\n",
       "      <th>target</th>\n",
       "      <th>cb_score</th>\n",
       "      <th>rank</th>\n",
       "    </tr>\n",
       "  </thead>\n",
       "  <tbody>\n",
       "    <tr>\n",
       "      <th>9</th>\n",
       "      <td>0.005479</td>\n",
       "      <td>0</td>\n",
       "      <td>39089632</td>\n",
       "      <td>57450</td>\n",
       "      <td>29665807.0</td>\n",
       "      <td>21060964.5</td>\n",
       "      <td>0</td>\n",
       "      <td>0.124063</td>\n",
       "      <td>1</td>\n",
       "    </tr>\n",
       "    <tr>\n",
       "      <th>5</th>\n",
       "      <td>0.006123</td>\n",
       "      <td>0</td>\n",
       "      <td>35505245</td>\n",
       "      <td>95523</td>\n",
       "      <td>35121554.0</td>\n",
       "      <td>29243470.0</td>\n",
       "      <td>0</td>\n",
       "      <td>0.115644</td>\n",
       "      <td>2</td>\n",
       "    </tr>\n",
       "    <tr>\n",
       "      <th>7</th>\n",
       "      <td>0.005562</td>\n",
       "      <td>0</td>\n",
       "      <td>9047114</td>\n",
       "      <td>57059</td>\n",
       "      <td>29665807.0</td>\n",
       "      <td>21060964.5</td>\n",
       "      <td>0</td>\n",
       "      <td>0.086290</td>\n",
       "      <td>3</td>\n",
       "    </tr>\n",
       "    <tr>\n",
       "      <th>8</th>\n",
       "      <td>0.005551</td>\n",
       "      <td>0</td>\n",
       "      <td>33308946</td>\n",
       "      <td>49991</td>\n",
       "      <td>29665807.0</td>\n",
       "      <td>15204585.5</td>\n",
       "      <td>0</td>\n",
       "      <td>0.077790</td>\n",
       "      <td>4</td>\n",
       "    </tr>\n",
       "    <tr>\n",
       "      <th>1</th>\n",
       "      <td>0.006914</td>\n",
       "      <td>0</td>\n",
       "      <td>732401</td>\n",
       "      <td>63119</td>\n",
       "      <td>29665807.0</td>\n",
       "      <td>21060964.5</td>\n",
       "      <td>0</td>\n",
       "      <td>0.073271</td>\n",
       "      <td>5</td>\n",
       "    </tr>\n",
       "    <tr>\n",
       "      <th>...</th>\n",
       "      <td>...</td>\n",
       "      <td>...</td>\n",
       "      <td>...</td>\n",
       "      <td>...</td>\n",
       "      <td>...</td>\n",
       "      <td>...</td>\n",
       "      <td>...</td>\n",
       "      <td>...</td>\n",
       "      <td>...</td>\n",
       "    </tr>\n",
       "    <tr>\n",
       "      <th>13723713</th>\n",
       "      <td>0.165555</td>\n",
       "      <td>1374582</td>\n",
       "      <td>49961817</td>\n",
       "      <td>68698</td>\n",
       "      <td>51490799.0</td>\n",
       "      <td>37759042.0</td>\n",
       "      <td>0</td>\n",
       "      <td>0.152265</td>\n",
       "      <td>6</td>\n",
       "    </tr>\n",
       "    <tr>\n",
       "      <th>13723716</th>\n",
       "      <td>0.151150</td>\n",
       "      <td>1374582</td>\n",
       "      <td>56920237</td>\n",
       "      <td>49212</td>\n",
       "      <td>51490799.0</td>\n",
       "      <td>37759042.0</td>\n",
       "      <td>0</td>\n",
       "      <td>0.112275</td>\n",
       "      <td>7</td>\n",
       "    </tr>\n",
       "    <tr>\n",
       "      <th>13723710</th>\n",
       "      <td>0.189659</td>\n",
       "      <td>1374582</td>\n",
       "      <td>45499814</td>\n",
       "      <td>78563</td>\n",
       "      <td>51490799.0</td>\n",
       "      <td>37759042.0</td>\n",
       "      <td>0</td>\n",
       "      <td>0.098346</td>\n",
       "      <td>8</td>\n",
       "    </tr>\n",
       "    <tr>\n",
       "      <th>13723717</th>\n",
       "      <td>0.149480</td>\n",
       "      <td>1374582</td>\n",
       "      <td>51241318</td>\n",
       "      <td>78533</td>\n",
       "      <td>3145110.0</td>\n",
       "      <td>3145110.0</td>\n",
       "      <td>0</td>\n",
       "      <td>0.066418</td>\n",
       "      <td>9</td>\n",
       "    </tr>\n",
       "    <tr>\n",
       "      <th>13723711</th>\n",
       "      <td>0.175885</td>\n",
       "      <td>1374582</td>\n",
       "      <td>39946957</td>\n",
       "      <td>65516</td>\n",
       "      <td>51490799.0</td>\n",
       "      <td>37759042.0</td>\n",
       "      <td>0</td>\n",
       "      <td>0.014048</td>\n",
       "      <td>10</td>\n",
       "    </tr>\n",
       "  </tbody>\n",
       "</table>\n",
       "<p>13723720 rows × 9 columns</p>\n",
       "</div>"
      ],
      "text/plain": [
       "             score  user_id   item_id  count  max_pop_genres  mean_pop_genres  \\\n",
       "9         0.005479        0  39089632  57450      29665807.0       21060964.5   \n",
       "5         0.006123        0  35505245  95523      35121554.0       29243470.0   \n",
       "7         0.005562        0   9047114  57059      29665807.0       21060964.5   \n",
       "8         0.005551        0  33308946  49991      29665807.0       15204585.5   \n",
       "1         0.006914        0    732401  63119      29665807.0       21060964.5   \n",
       "...            ...      ...       ...    ...             ...              ...   \n",
       "13723713  0.165555  1374582  49961817  68698      51490799.0       37759042.0   \n",
       "13723716  0.151150  1374582  56920237  49212      51490799.0       37759042.0   \n",
       "13723710  0.189659  1374582  45499814  78563      51490799.0       37759042.0   \n",
       "13723717  0.149480  1374582  51241318  78533       3145110.0        3145110.0   \n",
       "13723711  0.175885  1374582  39946957  65516      51490799.0       37759042.0   \n",
       "\n",
       "          target  cb_score  rank  \n",
       "9              0  0.124063     1  \n",
       "5              0  0.115644     2  \n",
       "7              0  0.086290     3  \n",
       "8              0  0.077790     4  \n",
       "1              0  0.073271     5  \n",
       "...          ...       ...   ...  \n",
       "13723713       0  0.152265     6  \n",
       "13723716       0  0.112275     7  \n",
       "13723710       0  0.098346     8  \n",
       "13723717       0  0.066418     9  \n",
       "13723711       0  0.014048    10  \n",
       "\n",
       "[13723720 rows x 9 columns]"
      ]
     },
     "execution_count": 16,
     "metadata": {},
     "output_type": "execute_result"
    }
   ],
   "source": [
    "final_recommendations"
   ]
  },
  {
   "cell_type": "code",
   "execution_count": 17,
   "id": "4de00b1a",
   "metadata": {},
   "outputs": [
    {
     "name": "stdout",
     "output_type": "stream",
     "text": [
      "Common users: 572194\n",
      "precision: 0.002, recall: 0.007\n"
     ]
    }
   ],
   "source": [
    "events_recs_for_binary_metrics_10 = process_events_recs_for_binary_metrics(\n",
    "  events_inference,\n",
    "    events_test_2, \n",
    "    final_recommendations, \n",
    "    top_k=10)\n",
    "\n",
    "als_precision_10, als_recall_10 = compute_cls_metrics(events_recs_for_binary_metrics_10)\n",
    "print(f\"precision: {als_precision_10:.3f}, recall: {als_recall_10:.3f}\")"
   ]
  },
  {
   "cell_type": "code",
   "execution_count": 18,
   "id": "548aa4c4",
   "metadata": {},
   "outputs": [
    {
     "name": "stdout",
     "output_type": "stream",
     "text": [
      "Common users: 572194\n",
      "precision: 0.002, recall: 0.007\n"
     ]
    }
   ],
   "source": [
    "events_recs_for_binary_metrics_10_final = process_events_recs_for_binary_metrics(\n",
    "  events_inference,\n",
    "    events_test_2, \n",
    "    final_recommendations.rename(columns = {'score': 'als_score', 'cb_score': 'score'}), \n",
    "    top_k=10)\n",
    "\n",
    "final_precision_10, final_recall_10 = compute_cls_metrics(events_recs_for_binary_metrics_10_final)\n",
    "print(f\"precision: {final_precision_10:.3f}, recall: {final_recall_10:.3f}\")"
   ]
  },
  {
   "cell_type": "code",
   "execution_count": 19,
   "id": "41ad02ac",
   "metadata": {},
   "outputs": [],
   "source": [
    "items = pd.read_parquet('items.parquet')"
   ]
  },
  {
   "cell_type": "code",
   "execution_count": 20,
   "id": "01c40f27",
   "metadata": {},
   "outputs": [
    {
     "name": "stdout",
     "output_type": "stream",
     "text": [
      "Покрытие объектов (Item Coverage): 0.06%\n"
     ]
    }
   ],
   "source": [
    "recommended_items = final_recommendations['item_id'].unique()\n",
    "\n",
    "all_items = items['item_id'].unique()\n",
    "\n",
    "cov_items = len(recommended_items) / len(all_items)\n",
    "\n",
    "print(f\"Покрытие объектов (Item Coverage): {cov_items:.2%}\")"
   ]
  },
  {
   "cell_type": "code",
   "execution_count": 21,
   "id": "80ad969e",
   "metadata": {},
   "outputs": [],
   "source": [
    "del items"
   ]
  },
  {
   "cell_type": "code",
   "execution_count": null,
   "id": "d2557a2b",
   "metadata": {},
   "outputs": [],
   "source": [
    "del events_test\n",
    "del events_labels\n",
    "del events_test_2"
   ]
  },
  {
   "cell_type": "code",
   "execution_count": 23,
   "id": "c17a8517",
   "metadata": {},
   "outputs": [
    {
     "data": {
      "text/plain": [
       "38"
      ]
     },
     "execution_count": 23,
     "metadata": {},
     "output_type": "execute_result"
    }
   ],
   "source": [
    "gc.collect()"
   ]
  },
  {
   "cell_type": "code",
   "execution_count": null,
   "id": "161e9230",
   "metadata": {},
   "outputs": [
    {
     "ename": "",
     "evalue": "",
     "output_type": "error",
     "traceback": [
      "\u001b[1;31mThe Kernel crashed while executing code in the current cell or a previous cell. \n",
      "\u001b[1;31mPlease review the code in the cell(s) to identify a possible cause of the failure. \n",
      "\u001b[1;31mClick <a href='https://aka.ms/vscodeJupyterKernelCrash'>here</a> for more info. \n",
      "\u001b[1;31mView Jupyter <a href='command:jupyter.viewOutput'>log</a> for further details."
     ]
    }
   ],
   "source": [
    "# разметим каждую рекомендацию признаком read\n",
    "events_train[\"read\"] = True\n",
    "final_recommendations = final_recommendations.merge(events_train[[\"user_id\", \"item_id\", \"read\"]], on=[\"user_id\", \"item_id\"], how=\"left\")\n",
    "final_recommendations[\"read\"] = final_recommendations[\"read\"].fillna(False).astype(\"bool\")\n",
    "\n",
    "# проставим ранги\n",
    "final_recommendations = final_recommendations.sort_values([\"user_id\", \"sb_score\"], ascending=[True, False])\n",
    "final_recommendations[\"rank\"] = final_recommendations.groupby(\"user_id\").cumcount() + 1\n",
    "\n",
    "# посчитаем novelty по пользователям\n",
    "novelty_10 = (1-final_recommendations.query(\"rank <= 10\").groupby(\"user_id\")[\"read\"].mean())\n",
    "\n",
    "# посчитаем средний novelty\n",
    "# ваш код здесь #\n",
    "mean_novelty_10 = novelty_10.mean()\n",
    "print(f\"Средняя новизна рекомендаций (Novelty@10): {mean_novelty_10:.2%}\")"
   ]
  },
  {
   "cell_type": "code",
   "execution_count": null,
   "id": "f05da259",
   "metadata": {},
   "outputs": [],
   "source": []
  },
  {
   "cell_type": "markdown",
   "id": "f1c8d38c-32b0-46a4-96f0-cd01dac708bc",
   "metadata": {},
   "source": [
    "# === Выводы, метрики ==="
   ]
  },
  {
   "cell_type": "markdown",
   "id": "f7d7d5d8-7d1e-4fdf-a6cd-83e5ce92c684",
   "metadata": {},
   "source": [
    "Основные выводы при работе над расчётом рекомендаций, рассчитанные метрики."
   ]
  },
  {
   "cell_type": "markdown",
   "id": "9254e929",
   "metadata": {},
   "source": [
    "1. Получилось обучить Рекомендательную модель на ALS признаках, полуляоности треков и полулярности жанров.\n",
    "\n",
    "2. Качество ранжирования ALS модели не отличается от качества CatBoost модели. Скорее всего сгенерированные признаки не позволяют улучшить модель.\n",
    "\n",
    "3. Проработка дополнительных признаков в первую очередь парных признаков между юзером и жанром скорее всего улучшит CatBoost модель."
   ]
  },
  {
   "cell_type": "code",
   "execution_count": null,
   "id": "986cfdd5-6f2e-4de6-8666-85804c87d04b",
   "metadata": {},
   "outputs": [],
   "source": []
  }
 ],
 "metadata": {
  "kernelspec": {
   "display_name": "env_recsys_start",
   "language": "python",
   "name": "python3"
  },
  "language_info": {
   "codemirror_mode": {
    "name": "ipython",
    "version": 3
   },
   "file_extension": ".py",
   "mimetype": "text/x-python",
   "name": "python",
   "nbconvert_exporter": "python",
   "pygments_lexer": "ipython3",
   "version": "3.10.12"
  }
 },
 "nbformat": 4,
 "nbformat_minor": 5
}
